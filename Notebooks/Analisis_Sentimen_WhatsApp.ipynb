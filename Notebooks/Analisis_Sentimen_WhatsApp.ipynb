{
  "cells": [
    {
      "cell_type": "markdown",
      "metadata": {
        "id": "8euVGDctdvAc"
      },
      "source": [
        "# **Analisis Hasil Data Scraping Proyek Fundamental Deep Learning**\n",
        "- **Nama:** Muhammad Makarim\n",
        "- **Email:** mmakarim9@student.ub.ac.id\n",
        "- **ID Dicoding:** MC006D5Y1427"
      ]
    },
    {
      "cell_type": "markdown",
      "metadata": {
        "id": "BngypOkFdv7f"
      },
      "source": [
        "## **Import Semua Packages/Library yang Digunakan**"
      ]
    },
    {
      "cell_type": "markdown",
      "metadata": {
        "id": "QyFE9n4ndxh8"
      },
      "source": [
        "Pada Bagian ini akan dilakukan import library yang akan digunakan nantinya"
      ]
    },
    {
      "cell_type": "code",
      "execution_count": 1,
      "metadata": {
        "colab": {
          "base_uri": "https://localhost:8080/"
        },
        "id": "d_Atev7XdiM3",
        "outputId": "0bd4b000-d749-4789-eff7-71a3e1555654"
      },
      "outputs": [
        {
          "output_type": "stream",
          "name": "stdout",
          "text": [
            "Requirement already satisfied: Sastrawi in /usr/local/lib/python3.11/dist-packages (1.0.1)\n"
          ]
        }
      ],
      "source": [
        "!pip install Sastrawi"
      ]
    },
    {
      "cell_type": "code",
      "execution_count": 2,
      "metadata": {
        "id": "IQByjB_Idi-w"
      },
      "outputs": [],
      "source": [
        "!pip install --quiet gdown"
      ]
    },
    {
      "cell_type": "code",
      "execution_count": 129,
      "metadata": {
        "id": "mcFIbYfMdzoK"
      },
      "outputs": [],
      "source": [
        "import pandas as pd\n",
        "import numpy as np\n",
        "import matplotlib.pyplot as plt\n",
        "import seaborn as sns\n",
        "import re\n",
        "import string\n",
        "import json\n",
        "import requests\n",
        "import pickle\n",
        "import ast\n",
        "import os\n",
        "import gdown\n",
        "import nltk"
      ]
    },
    {
      "cell_type": "code",
      "execution_count": 4,
      "metadata": {
        "colab": {
          "base_uri": "https://localhost:8080/"
        },
        "id": "P2Lj2Ctpd903",
        "outputId": "0eadaef0-4085-4ebe-8908-1912fec5fa22"
      },
      "outputs": [
        {
          "output_type": "stream",
          "name": "stderr",
          "text": [
            "[nltk_data] Downloading package stopwords to /root/nltk_data...\n",
            "[nltk_data]   Package stopwords is already up-to-date!\n",
            "[nltk_data] Downloading package punkt to /root/nltk_data...\n",
            "[nltk_data]   Package punkt is already up-to-date!\n",
            "[nltk_data] Downloading package vader_lexicon to /root/nltk_data...\n",
            "[nltk_data]   Package vader_lexicon is already up-to-date!\n"
          ]
        },
        {
          "output_type": "execute_result",
          "data": {
            "text/plain": [
              "True"
            ]
          },
          "metadata": {},
          "execution_count": 4
        }
      ],
      "source": [
        "# Pastikan nltk package di-download\n",
        "nltk.download('stopwords')\n",
        "nltk.download('punkt', quiet=False)\n",
        "nltk.downloader.download('vader_lexicon')"
      ]
    },
    {
      "cell_type": "code",
      "execution_count": 5,
      "metadata": {
        "id": "tT8ybUbLd_04"
      },
      "outputs": [],
      "source": [
        "# Untuk analisis teks dan sentimen sederhana\n",
        "from nltk.corpus import stopwords\n",
        "from wordcloud import WordCloud\n",
        "from sklearn.model_selection import train_test_split, GridSearchCV\n",
        "from sklearn.feature_extraction.text import TfidfVectorizer, CountVectorizer\n",
        "from sklearn.svm import SVC\n",
        "from sklearn.metrics import accuracy_score, precision_score, classification_report, confusion_matrix, roc_curve, auc\n",
        "from sklearn.ensemble import RandomForestClassifier\n",
        "from sklearn.preprocessing import LabelEncoder, StandardScaler\n",
        "from Sastrawi.StopWordRemover.StopWordRemoverFactory import StopWordRemoverFactory\n",
        "from Sastrawi.Stemmer.StemmerFactory import StemmerFactory\n",
        "from nltk.sentiment.vader import SentimentIntensityAnalyzer\n",
        "from nltk.tokenize import word_tokenize\n",
        "from ast import literal_eval"
      ]
    },
    {
      "cell_type": "code",
      "execution_count": 6,
      "metadata": {
        "colab": {
          "base_uri": "https://localhost:8080/"
        },
        "id": "g3aqAYOa4drK",
        "outputId": "1cb2c561-e4cf-46cf-dfcc-99dedeea74d7"
      },
      "outputs": [
        {
          "output_type": "stream",
          "name": "stdout",
          "text": [
            "Requirement already satisfied: numpy==1.26.4 in /usr/local/lib/python3.11/dist-packages (1.26.4)\n"
          ]
        }
      ],
      "source": [
        "!pip install numpy==1.26.4"
      ]
    },
    {
      "cell_type": "code",
      "execution_count": 7,
      "metadata": {
        "colab": {
          "base_uri": "https://localhost:8080/"
        },
        "id": "BHyJC88Z53Yq",
        "outputId": "93a47bfa-f092-482b-d51d-c53a2efe0b90"
      },
      "outputs": [
        {
          "output_type": "stream",
          "name": "stdout",
          "text": [
            "Requirement already satisfied: tensorflow==2.18.0 in /usr/local/lib/python3.11/dist-packages (2.18.0)\n"
          ]
        }
      ],
      "source": [
        "!pip install --no-deps tensorflow==2.18.0"
      ]
    },
    {
      "cell_type": "code",
      "execution_count": 8,
      "metadata": {
        "colab": {
          "base_uri": "https://localhost:8080/"
        },
        "id": "dd-A1UZv8pVX",
        "outputId": "cef668a8-6cb1-4798-d2d3-19a3c0ef1fc0"
      },
      "outputs": [
        {
          "output_type": "stream",
          "name": "stdout",
          "text": [
            "3.11.12 (main, Apr  9 2025, 08:55:54) [GCC 11.4.0]\n"
          ]
        }
      ],
      "source": [
        "import sys\n",
        "print(sys.version)"
      ]
    },
    {
      "cell_type": "code",
      "execution_count": 9,
      "metadata": {
        "id": "aMMNkSuR6fbI"
      },
      "outputs": [],
      "source": [
        "import tensorflow as tf"
      ]
    },
    {
      "cell_type": "code",
      "execution_count": 10,
      "metadata": {
        "id": "LB0ZcICLl8lY"
      },
      "outputs": [],
      "source": [
        "from tensorflow.keras.preprocessing.text import Tokenizer\n",
        "from tensorflow.keras.preprocessing.sequence import pad_sequences\n",
        "from tensorflow.keras.models import Sequential\n",
        "from tensorflow.keras.layers import Embedding, LSTM, Dense, Dropout, Flatten, GRU, SpatialDropout1D\n",
        "from tensorflow.keras.utils import to_categorical\n",
        "from tensorflow.keras.callbacks import EarlyStopping, Callback, ReduceLROnPlateau\n",
        "from tensorflow.keras.regularizers import l2\n",
        "from tensorflow.keras.optimizers import Adam"
      ]
    },
    {
      "cell_type": "markdown",
      "metadata": {
        "id": "B0Cg3j8DeK39"
      },
      "source": [
        "# **Data Wrangling**"
      ]
    },
    {
      "cell_type": "markdown",
      "metadata": {
        "id": "qQVzp_MWeLMU"
      },
      "source": [
        "## **Memuat Dataset Ulasan Aplikasi WhatsApp (Gathring Data)**"
      ]
    },
    {
      "cell_type": "markdown",
      "metadata": {
        "id": "8P4ukUONeMo9"
      },
      "source": [
        "Pada tahap ini, dataset berisi ulasan pengguna aplikasi WhatsApp dimuat dari file CSV. Dataset tersebut sebelumnya diperoleh melalui proses scraping dari Google Play Store dan disimpan dalam format CSV.\n",
        "\n",
        "Dataset yang digunakan memiliki dua kolom utama:\n",
        "\n",
        "1. `content`: memuat teks ulasan yang diberikan oleh pengguna.\n",
        "2. `score`: memuat nilai rating yang diberikan oleh pengguna terhadap aplikasi, biasanya dengan rentang 1 hingga 5.\n",
        "\n",
        "Setelah dimuat ke dalam variabel `data_frame`, beberapa baris pertama data ditampilkan untuk memberikan gambaran mengenai struktur dan isi dari dataset yang akan dianalisis."
      ]
    },
    {
      "cell_type": "code",
      "execution_count": 115,
      "metadata": {
        "colab": {
          "base_uri": "https://localhost:8080/",
          "height": 126
        },
        "id": "OJf5mr00eOBn",
        "outputId": "84be9778-6357-416a-f372-b72bfa315c5f"
      },
      "outputs": [
        {
          "output_type": "stream",
          "name": "stderr",
          "text": [
            "Downloading...\n",
            "From (original): https://drive.google.com/uc?export=download&id=1ADt5Tvnf-39NOmy6m8tRAhegGoBpVFVx\n",
            "From (redirected): https://drive.google.com/uc?export=download&id=1ADt5Tvnf-39NOmy6m8tRAhegGoBpVFVx&confirm=t&uuid=57bd770a-98dc-4f51-bc0c-74cde7ae322a\n",
            "To: /content/whatsapp_reviews.csv\n",
            "100%|██████████| 30.0M/30.0M [00:00<00:00, 57.6MB/s]\n"
          ]
        },
        {
          "output_type": "execute_result",
          "data": {
            "text/plain": [
              "'whatsapp_reviews.csv'"
            ],
            "application/vnd.google.colaboratory.intrinsic+json": {
              "type": "string"
            }
          },
          "metadata": {},
          "execution_count": 115
        }
      ],
      "source": [
        "file_id = '1ADt5Tvnf-39NOmy6m8tRAhegGoBpVFVx'\n",
        "url = f'https://drive.google.com/uc?export=download&id={file_id}'\n",
        "\n",
        "output = 'whatsapp_reviews.csv'\n",
        "\n",
        "gdown.download(url, output, quiet=False)"
      ]
    },
    {
      "cell_type": "code",
      "execution_count": 116,
      "metadata": {
        "colab": {
          "base_uri": "https://localhost:8080/",
          "height": 206
        },
        "id": "s8MAOVg3eQWC",
        "outputId": "9d9acc21-3bac-4892-e9fb-948131dc93b8"
      },
      "outputs": [
        {
          "output_type": "execute_result",
          "data": {
            "text/plain": [
              "                                             content  score\n",
              "0             jauh lebih bagus dari update kemarin 👍      4\n",
              "1                                         Cukup baik      2\n",
              "2                    Sedang di instal mudah\" lancar.      2\n",
              "3                           Segala urusan jadi mudah      5\n",
              "4  didownload ulang ga bisa,padahal apk nya yg g ...      1"
            ],
            "text/html": [
              "\n",
              "  <div id=\"df-7c43cd78-02f3-483e-bdae-25658c7ef324\" class=\"colab-df-container\">\n",
              "    <div>\n",
              "<style scoped>\n",
              "    .dataframe tbody tr th:only-of-type {\n",
              "        vertical-align: middle;\n",
              "    }\n",
              "\n",
              "    .dataframe tbody tr th {\n",
              "        vertical-align: top;\n",
              "    }\n",
              "\n",
              "    .dataframe thead th {\n",
              "        text-align: right;\n",
              "    }\n",
              "</style>\n",
              "<table border=\"1\" class=\"dataframe\">\n",
              "  <thead>\n",
              "    <tr style=\"text-align: right;\">\n",
              "      <th></th>\n",
              "      <th>content</th>\n",
              "      <th>score</th>\n",
              "    </tr>\n",
              "  </thead>\n",
              "  <tbody>\n",
              "    <tr>\n",
              "      <th>0</th>\n",
              "      <td>jauh lebih bagus dari update kemarin 👍</td>\n",
              "      <td>4</td>\n",
              "    </tr>\n",
              "    <tr>\n",
              "      <th>1</th>\n",
              "      <td>Cukup baik</td>\n",
              "      <td>2</td>\n",
              "    </tr>\n",
              "    <tr>\n",
              "      <th>2</th>\n",
              "      <td>Sedang di instal mudah\" lancar.</td>\n",
              "      <td>2</td>\n",
              "    </tr>\n",
              "    <tr>\n",
              "      <th>3</th>\n",
              "      <td>Segala urusan jadi mudah</td>\n",
              "      <td>5</td>\n",
              "    </tr>\n",
              "    <tr>\n",
              "      <th>4</th>\n",
              "      <td>didownload ulang ga bisa,padahal apk nya yg g ...</td>\n",
              "      <td>1</td>\n",
              "    </tr>\n",
              "  </tbody>\n",
              "</table>\n",
              "</div>\n",
              "    <div class=\"colab-df-buttons\">\n",
              "\n",
              "  <div class=\"colab-df-container\">\n",
              "    <button class=\"colab-df-convert\" onclick=\"convertToInteractive('df-7c43cd78-02f3-483e-bdae-25658c7ef324')\"\n",
              "            title=\"Convert this dataframe to an interactive table.\"\n",
              "            style=\"display:none;\">\n",
              "\n",
              "  <svg xmlns=\"http://www.w3.org/2000/svg\" height=\"24px\" viewBox=\"0 -960 960 960\">\n",
              "    <path d=\"M120-120v-720h720v720H120Zm60-500h600v-160H180v160Zm220 220h160v-160H400v160Zm0 220h160v-160H400v160ZM180-400h160v-160H180v160Zm440 0h160v-160H620v160ZM180-180h160v-160H180v160Zm440 0h160v-160H620v160Z\"/>\n",
              "  </svg>\n",
              "    </button>\n",
              "\n",
              "  <style>\n",
              "    .colab-df-container {\n",
              "      display:flex;\n",
              "      gap: 12px;\n",
              "    }\n",
              "\n",
              "    .colab-df-convert {\n",
              "      background-color: #E8F0FE;\n",
              "      border: none;\n",
              "      border-radius: 50%;\n",
              "      cursor: pointer;\n",
              "      display: none;\n",
              "      fill: #1967D2;\n",
              "      height: 32px;\n",
              "      padding: 0 0 0 0;\n",
              "      width: 32px;\n",
              "    }\n",
              "\n",
              "    .colab-df-convert:hover {\n",
              "      background-color: #E2EBFA;\n",
              "      box-shadow: 0px 1px 2px rgba(60, 64, 67, 0.3), 0px 1px 3px 1px rgba(60, 64, 67, 0.15);\n",
              "      fill: #174EA6;\n",
              "    }\n",
              "\n",
              "    .colab-df-buttons div {\n",
              "      margin-bottom: 4px;\n",
              "    }\n",
              "\n",
              "    [theme=dark] .colab-df-convert {\n",
              "      background-color: #3B4455;\n",
              "      fill: #D2E3FC;\n",
              "    }\n",
              "\n",
              "    [theme=dark] .colab-df-convert:hover {\n",
              "      background-color: #434B5C;\n",
              "      box-shadow: 0px 1px 3px 1px rgba(0, 0, 0, 0.15);\n",
              "      filter: drop-shadow(0px 1px 2px rgba(0, 0, 0, 0.3));\n",
              "      fill: #FFFFFF;\n",
              "    }\n",
              "  </style>\n",
              "\n",
              "    <script>\n",
              "      const buttonEl =\n",
              "        document.querySelector('#df-7c43cd78-02f3-483e-bdae-25658c7ef324 button.colab-df-convert');\n",
              "      buttonEl.style.display =\n",
              "        google.colab.kernel.accessAllowed ? 'block' : 'none';\n",
              "\n",
              "      async function convertToInteractive(key) {\n",
              "        const element = document.querySelector('#df-7c43cd78-02f3-483e-bdae-25658c7ef324');\n",
              "        const dataTable =\n",
              "          await google.colab.kernel.invokeFunction('convertToInteractive',\n",
              "                                                    [key], {});\n",
              "        if (!dataTable) return;\n",
              "\n",
              "        const docLinkHtml = 'Like what you see? Visit the ' +\n",
              "          '<a target=\"_blank\" href=https://colab.research.google.com/notebooks/data_table.ipynb>data table notebook</a>'\n",
              "          + ' to learn more about interactive tables.';\n",
              "        element.innerHTML = '';\n",
              "        dataTable['output_type'] = 'display_data';\n",
              "        await google.colab.output.renderOutput(dataTable, element);\n",
              "        const docLink = document.createElement('div');\n",
              "        docLink.innerHTML = docLinkHtml;\n",
              "        element.appendChild(docLink);\n",
              "      }\n",
              "    </script>\n",
              "  </div>\n",
              "\n",
              "\n",
              "    <div id=\"df-ac60cd80-65b3-4a38-9a6c-9defe3412777\">\n",
              "      <button class=\"colab-df-quickchart\" onclick=\"quickchart('df-ac60cd80-65b3-4a38-9a6c-9defe3412777')\"\n",
              "                title=\"Suggest charts\"\n",
              "                style=\"display:none;\">\n",
              "\n",
              "<svg xmlns=\"http://www.w3.org/2000/svg\" height=\"24px\"viewBox=\"0 0 24 24\"\n",
              "     width=\"24px\">\n",
              "    <g>\n",
              "        <path d=\"M19 3H5c-1.1 0-2 .9-2 2v14c0 1.1.9 2 2 2h14c1.1 0 2-.9 2-2V5c0-1.1-.9-2-2-2zM9 17H7v-7h2v7zm4 0h-2V7h2v10zm4 0h-2v-4h2v4z\"/>\n",
              "    </g>\n",
              "</svg>\n",
              "      </button>\n",
              "\n",
              "<style>\n",
              "  .colab-df-quickchart {\n",
              "      --bg-color: #E8F0FE;\n",
              "      --fill-color: #1967D2;\n",
              "      --hover-bg-color: #E2EBFA;\n",
              "      --hover-fill-color: #174EA6;\n",
              "      --disabled-fill-color: #AAA;\n",
              "      --disabled-bg-color: #DDD;\n",
              "  }\n",
              "\n",
              "  [theme=dark] .colab-df-quickchart {\n",
              "      --bg-color: #3B4455;\n",
              "      --fill-color: #D2E3FC;\n",
              "      --hover-bg-color: #434B5C;\n",
              "      --hover-fill-color: #FFFFFF;\n",
              "      --disabled-bg-color: #3B4455;\n",
              "      --disabled-fill-color: #666;\n",
              "  }\n",
              "\n",
              "  .colab-df-quickchart {\n",
              "    background-color: var(--bg-color);\n",
              "    border: none;\n",
              "    border-radius: 50%;\n",
              "    cursor: pointer;\n",
              "    display: none;\n",
              "    fill: var(--fill-color);\n",
              "    height: 32px;\n",
              "    padding: 0;\n",
              "    width: 32px;\n",
              "  }\n",
              "\n",
              "  .colab-df-quickchart:hover {\n",
              "    background-color: var(--hover-bg-color);\n",
              "    box-shadow: 0 1px 2px rgba(60, 64, 67, 0.3), 0 1px 3px 1px rgba(60, 64, 67, 0.15);\n",
              "    fill: var(--button-hover-fill-color);\n",
              "  }\n",
              "\n",
              "  .colab-df-quickchart-complete:disabled,\n",
              "  .colab-df-quickchart-complete:disabled:hover {\n",
              "    background-color: var(--disabled-bg-color);\n",
              "    fill: var(--disabled-fill-color);\n",
              "    box-shadow: none;\n",
              "  }\n",
              "\n",
              "  .colab-df-spinner {\n",
              "    border: 2px solid var(--fill-color);\n",
              "    border-color: transparent;\n",
              "    border-bottom-color: var(--fill-color);\n",
              "    animation:\n",
              "      spin 1s steps(1) infinite;\n",
              "  }\n",
              "\n",
              "  @keyframes spin {\n",
              "    0% {\n",
              "      border-color: transparent;\n",
              "      border-bottom-color: var(--fill-color);\n",
              "      border-left-color: var(--fill-color);\n",
              "    }\n",
              "    20% {\n",
              "      border-color: transparent;\n",
              "      border-left-color: var(--fill-color);\n",
              "      border-top-color: var(--fill-color);\n",
              "    }\n",
              "    30% {\n",
              "      border-color: transparent;\n",
              "      border-left-color: var(--fill-color);\n",
              "      border-top-color: var(--fill-color);\n",
              "      border-right-color: var(--fill-color);\n",
              "    }\n",
              "    40% {\n",
              "      border-color: transparent;\n",
              "      border-right-color: var(--fill-color);\n",
              "      border-top-color: var(--fill-color);\n",
              "    }\n",
              "    60% {\n",
              "      border-color: transparent;\n",
              "      border-right-color: var(--fill-color);\n",
              "    }\n",
              "    80% {\n",
              "      border-color: transparent;\n",
              "      border-right-color: var(--fill-color);\n",
              "      border-bottom-color: var(--fill-color);\n",
              "    }\n",
              "    90% {\n",
              "      border-color: transparent;\n",
              "      border-bottom-color: var(--fill-color);\n",
              "    }\n",
              "  }\n",
              "</style>\n",
              "\n",
              "      <script>\n",
              "        async function quickchart(key) {\n",
              "          const quickchartButtonEl =\n",
              "            document.querySelector('#' + key + ' button');\n",
              "          quickchartButtonEl.disabled = true;  // To prevent multiple clicks.\n",
              "          quickchartButtonEl.classList.add('colab-df-spinner');\n",
              "          try {\n",
              "            const charts = await google.colab.kernel.invokeFunction(\n",
              "                'suggestCharts', [key], {});\n",
              "          } catch (error) {\n",
              "            console.error('Error during call to suggestCharts:', error);\n",
              "          }\n",
              "          quickchartButtonEl.classList.remove('colab-df-spinner');\n",
              "          quickchartButtonEl.classList.add('colab-df-quickchart-complete');\n",
              "        }\n",
              "        (() => {\n",
              "          let quickchartButtonEl =\n",
              "            document.querySelector('#df-ac60cd80-65b3-4a38-9a6c-9defe3412777 button');\n",
              "          quickchartButtonEl.style.display =\n",
              "            google.colab.kernel.accessAllowed ? 'block' : 'none';\n",
              "        })();\n",
              "      </script>\n",
              "    </div>\n",
              "\n",
              "    </div>\n",
              "  </div>\n"
            ],
            "application/vnd.google.colaboratory.intrinsic+json": {
              "type": "dataframe",
              "variable_name": "df"
            }
          },
          "metadata": {},
          "execution_count": 116
        }
      ],
      "source": [
        "df = pd.read_csv(output)\n",
        "df.head()"
      ]
    },
    {
      "cell_type": "code",
      "execution_count": 117,
      "metadata": {
        "colab": {
          "base_uri": "https://localhost:8080/"
        },
        "id": "4XRyh3DdeR1f",
        "outputId": "b9b40bd1-6c03-453b-ecb2-a38d1e039c08"
      },
      "outputs": [
        {
          "output_type": "stream",
          "name": "stdout",
          "text": [
            "(607500, 2)\n"
          ]
        }
      ],
      "source": [
        "print(df.shape)"
      ]
    },
    {
      "cell_type": "code",
      "execution_count": 118,
      "metadata": {
        "id": "nFRfm71QeTlI"
      },
      "outputs": [],
      "source": [
        "# Mengambil sampel acak 20 ribu baris dari DataFrame df tanpa pengembalian\n",
        "df_sample = df.sample(n=20000, random_state=42)"
      ]
    },
    {
      "cell_type": "code",
      "execution_count": 119,
      "metadata": {
        "colab": {
          "base_uri": "https://localhost:8080/",
          "height": 206
        },
        "id": "Jex6dzxyeX3X",
        "outputId": "39ac412d-980c-46a1-a469-cb55342c144d"
      },
      "outputs": [
        {
          "output_type": "execute_result",
          "data": {
            "text/plain": [
              "                                                  content  score\n",
              "373463     Tambahin fitur keamanannnya dong bang operator      2\n",
              "131890                                        Sangat baik      3\n",
              "556374  whatsapp sangat membantu saya dalam berkomunikasi      5\n",
              "20538                                                 Top      4\n",
              "69917                                                  Ok      5"
            ],
            "text/html": [
              "\n",
              "  <div id=\"df-0519bb69-61e3-498a-9093-3ee1729bad5a\" class=\"colab-df-container\">\n",
              "    <div>\n",
              "<style scoped>\n",
              "    .dataframe tbody tr th:only-of-type {\n",
              "        vertical-align: middle;\n",
              "    }\n",
              "\n",
              "    .dataframe tbody tr th {\n",
              "        vertical-align: top;\n",
              "    }\n",
              "\n",
              "    .dataframe thead th {\n",
              "        text-align: right;\n",
              "    }\n",
              "</style>\n",
              "<table border=\"1\" class=\"dataframe\">\n",
              "  <thead>\n",
              "    <tr style=\"text-align: right;\">\n",
              "      <th></th>\n",
              "      <th>content</th>\n",
              "      <th>score</th>\n",
              "    </tr>\n",
              "  </thead>\n",
              "  <tbody>\n",
              "    <tr>\n",
              "      <th>373463</th>\n",
              "      <td>Tambahin fitur keamanannnya dong bang operator</td>\n",
              "      <td>2</td>\n",
              "    </tr>\n",
              "    <tr>\n",
              "      <th>131890</th>\n",
              "      <td>Sangat baik</td>\n",
              "      <td>3</td>\n",
              "    </tr>\n",
              "    <tr>\n",
              "      <th>556374</th>\n",
              "      <td>whatsapp sangat membantu saya dalam berkomunikasi</td>\n",
              "      <td>5</td>\n",
              "    </tr>\n",
              "    <tr>\n",
              "      <th>20538</th>\n",
              "      <td>Top</td>\n",
              "      <td>4</td>\n",
              "    </tr>\n",
              "    <tr>\n",
              "      <th>69917</th>\n",
              "      <td>Ok</td>\n",
              "      <td>5</td>\n",
              "    </tr>\n",
              "  </tbody>\n",
              "</table>\n",
              "</div>\n",
              "    <div class=\"colab-df-buttons\">\n",
              "\n",
              "  <div class=\"colab-df-container\">\n",
              "    <button class=\"colab-df-convert\" onclick=\"convertToInteractive('df-0519bb69-61e3-498a-9093-3ee1729bad5a')\"\n",
              "            title=\"Convert this dataframe to an interactive table.\"\n",
              "            style=\"display:none;\">\n",
              "\n",
              "  <svg xmlns=\"http://www.w3.org/2000/svg\" height=\"24px\" viewBox=\"0 -960 960 960\">\n",
              "    <path d=\"M120-120v-720h720v720H120Zm60-500h600v-160H180v160Zm220 220h160v-160H400v160Zm0 220h160v-160H400v160ZM180-400h160v-160H180v160Zm440 0h160v-160H620v160ZM180-180h160v-160H180v160Zm440 0h160v-160H620v160Z\"/>\n",
              "  </svg>\n",
              "    </button>\n",
              "\n",
              "  <style>\n",
              "    .colab-df-container {\n",
              "      display:flex;\n",
              "      gap: 12px;\n",
              "    }\n",
              "\n",
              "    .colab-df-convert {\n",
              "      background-color: #E8F0FE;\n",
              "      border: none;\n",
              "      border-radius: 50%;\n",
              "      cursor: pointer;\n",
              "      display: none;\n",
              "      fill: #1967D2;\n",
              "      height: 32px;\n",
              "      padding: 0 0 0 0;\n",
              "      width: 32px;\n",
              "    }\n",
              "\n",
              "    .colab-df-convert:hover {\n",
              "      background-color: #E2EBFA;\n",
              "      box-shadow: 0px 1px 2px rgba(60, 64, 67, 0.3), 0px 1px 3px 1px rgba(60, 64, 67, 0.15);\n",
              "      fill: #174EA6;\n",
              "    }\n",
              "\n",
              "    .colab-df-buttons div {\n",
              "      margin-bottom: 4px;\n",
              "    }\n",
              "\n",
              "    [theme=dark] .colab-df-convert {\n",
              "      background-color: #3B4455;\n",
              "      fill: #D2E3FC;\n",
              "    }\n",
              "\n",
              "    [theme=dark] .colab-df-convert:hover {\n",
              "      background-color: #434B5C;\n",
              "      box-shadow: 0px 1px 3px 1px rgba(0, 0, 0, 0.15);\n",
              "      filter: drop-shadow(0px 1px 2px rgba(0, 0, 0, 0.3));\n",
              "      fill: #FFFFFF;\n",
              "    }\n",
              "  </style>\n",
              "\n",
              "    <script>\n",
              "      const buttonEl =\n",
              "        document.querySelector('#df-0519bb69-61e3-498a-9093-3ee1729bad5a button.colab-df-convert');\n",
              "      buttonEl.style.display =\n",
              "        google.colab.kernel.accessAllowed ? 'block' : 'none';\n",
              "\n",
              "      async function convertToInteractive(key) {\n",
              "        const element = document.querySelector('#df-0519bb69-61e3-498a-9093-3ee1729bad5a');\n",
              "        const dataTable =\n",
              "          await google.colab.kernel.invokeFunction('convertToInteractive',\n",
              "                                                    [key], {});\n",
              "        if (!dataTable) return;\n",
              "\n",
              "        const docLinkHtml = 'Like what you see? Visit the ' +\n",
              "          '<a target=\"_blank\" href=https://colab.research.google.com/notebooks/data_table.ipynb>data table notebook</a>'\n",
              "          + ' to learn more about interactive tables.';\n",
              "        element.innerHTML = '';\n",
              "        dataTable['output_type'] = 'display_data';\n",
              "        await google.colab.output.renderOutput(dataTable, element);\n",
              "        const docLink = document.createElement('div');\n",
              "        docLink.innerHTML = docLinkHtml;\n",
              "        element.appendChild(docLink);\n",
              "      }\n",
              "    </script>\n",
              "  </div>\n",
              "\n",
              "\n",
              "    <div id=\"df-6cc924dd-abe1-478a-9739-0c526e75da8e\">\n",
              "      <button class=\"colab-df-quickchart\" onclick=\"quickchart('df-6cc924dd-abe1-478a-9739-0c526e75da8e')\"\n",
              "                title=\"Suggest charts\"\n",
              "                style=\"display:none;\">\n",
              "\n",
              "<svg xmlns=\"http://www.w3.org/2000/svg\" height=\"24px\"viewBox=\"0 0 24 24\"\n",
              "     width=\"24px\">\n",
              "    <g>\n",
              "        <path d=\"M19 3H5c-1.1 0-2 .9-2 2v14c0 1.1.9 2 2 2h14c1.1 0 2-.9 2-2V5c0-1.1-.9-2-2-2zM9 17H7v-7h2v7zm4 0h-2V7h2v10zm4 0h-2v-4h2v4z\"/>\n",
              "    </g>\n",
              "</svg>\n",
              "      </button>\n",
              "\n",
              "<style>\n",
              "  .colab-df-quickchart {\n",
              "      --bg-color: #E8F0FE;\n",
              "      --fill-color: #1967D2;\n",
              "      --hover-bg-color: #E2EBFA;\n",
              "      --hover-fill-color: #174EA6;\n",
              "      --disabled-fill-color: #AAA;\n",
              "      --disabled-bg-color: #DDD;\n",
              "  }\n",
              "\n",
              "  [theme=dark] .colab-df-quickchart {\n",
              "      --bg-color: #3B4455;\n",
              "      --fill-color: #D2E3FC;\n",
              "      --hover-bg-color: #434B5C;\n",
              "      --hover-fill-color: #FFFFFF;\n",
              "      --disabled-bg-color: #3B4455;\n",
              "      --disabled-fill-color: #666;\n",
              "  }\n",
              "\n",
              "  .colab-df-quickchart {\n",
              "    background-color: var(--bg-color);\n",
              "    border: none;\n",
              "    border-radius: 50%;\n",
              "    cursor: pointer;\n",
              "    display: none;\n",
              "    fill: var(--fill-color);\n",
              "    height: 32px;\n",
              "    padding: 0;\n",
              "    width: 32px;\n",
              "  }\n",
              "\n",
              "  .colab-df-quickchart:hover {\n",
              "    background-color: var(--hover-bg-color);\n",
              "    box-shadow: 0 1px 2px rgba(60, 64, 67, 0.3), 0 1px 3px 1px rgba(60, 64, 67, 0.15);\n",
              "    fill: var(--button-hover-fill-color);\n",
              "  }\n",
              "\n",
              "  .colab-df-quickchart-complete:disabled,\n",
              "  .colab-df-quickchart-complete:disabled:hover {\n",
              "    background-color: var(--disabled-bg-color);\n",
              "    fill: var(--disabled-fill-color);\n",
              "    box-shadow: none;\n",
              "  }\n",
              "\n",
              "  .colab-df-spinner {\n",
              "    border: 2px solid var(--fill-color);\n",
              "    border-color: transparent;\n",
              "    border-bottom-color: var(--fill-color);\n",
              "    animation:\n",
              "      spin 1s steps(1) infinite;\n",
              "  }\n",
              "\n",
              "  @keyframes spin {\n",
              "    0% {\n",
              "      border-color: transparent;\n",
              "      border-bottom-color: var(--fill-color);\n",
              "      border-left-color: var(--fill-color);\n",
              "    }\n",
              "    20% {\n",
              "      border-color: transparent;\n",
              "      border-left-color: var(--fill-color);\n",
              "      border-top-color: var(--fill-color);\n",
              "    }\n",
              "    30% {\n",
              "      border-color: transparent;\n",
              "      border-left-color: var(--fill-color);\n",
              "      border-top-color: var(--fill-color);\n",
              "      border-right-color: var(--fill-color);\n",
              "    }\n",
              "    40% {\n",
              "      border-color: transparent;\n",
              "      border-right-color: var(--fill-color);\n",
              "      border-top-color: var(--fill-color);\n",
              "    }\n",
              "    60% {\n",
              "      border-color: transparent;\n",
              "      border-right-color: var(--fill-color);\n",
              "    }\n",
              "    80% {\n",
              "      border-color: transparent;\n",
              "      border-right-color: var(--fill-color);\n",
              "      border-bottom-color: var(--fill-color);\n",
              "    }\n",
              "    90% {\n",
              "      border-color: transparent;\n",
              "      border-bottom-color: var(--fill-color);\n",
              "    }\n",
              "  }\n",
              "</style>\n",
              "\n",
              "      <script>\n",
              "        async function quickchart(key) {\n",
              "          const quickchartButtonEl =\n",
              "            document.querySelector('#' + key + ' button');\n",
              "          quickchartButtonEl.disabled = true;  // To prevent multiple clicks.\n",
              "          quickchartButtonEl.classList.add('colab-df-spinner');\n",
              "          try {\n",
              "            const charts = await google.colab.kernel.invokeFunction(\n",
              "                'suggestCharts', [key], {});\n",
              "          } catch (error) {\n",
              "            console.error('Error during call to suggestCharts:', error);\n",
              "          }\n",
              "          quickchartButtonEl.classList.remove('colab-df-spinner');\n",
              "          quickchartButtonEl.classList.add('colab-df-quickchart-complete');\n",
              "        }\n",
              "        (() => {\n",
              "          let quickchartButtonEl =\n",
              "            document.querySelector('#df-6cc924dd-abe1-478a-9739-0c526e75da8e button');\n",
              "          quickchartButtonEl.style.display =\n",
              "            google.colab.kernel.accessAllowed ? 'block' : 'none';\n",
              "        })();\n",
              "      </script>\n",
              "    </div>\n",
              "\n",
              "    </div>\n",
              "  </div>\n"
            ],
            "application/vnd.google.colaboratory.intrinsic+json": {
              "type": "dataframe",
              "variable_name": "df_sample",
              "summary": "{\n  \"name\": \"df_sample\",\n  \"rows\": 20000,\n  \"fields\": [\n    {\n      \"column\": \"content\",\n      \"properties\": {\n        \"dtype\": \"string\",\n        \"num_unique_values\": 14270,\n        \"samples\": [\n          \"\\ud83e\\udd1d\\ud83c\\uddf9\\ud83c\\uddf1\\ud83c\\uddf9\\ud83c\\uddf1\",\n          \"di status wa saya kok masih belum tampil notifikasi \\\"like\\\" ya padahal sudah update terbaru\",\n          \"Baru mau coba\"\n        ],\n        \"semantic_type\": \"\",\n        \"description\": \"\"\n      }\n    },\n    {\n      \"column\": \"score\",\n      \"properties\": {\n        \"dtype\": \"number\",\n        \"std\": 1,\n        \"min\": 1,\n        \"max\": 5,\n        \"num_unique_values\": 5,\n        \"samples\": [\n          3,\n          1,\n          5\n        ],\n        \"semantic_type\": \"\",\n        \"description\": \"\"\n      }\n    }\n  ]\n}"
            }
          },
          "metadata": {},
          "execution_count": 119
        }
      ],
      "source": [
        "df_sample.head()"
      ]
    },
    {
      "cell_type": "code",
      "execution_count": 120,
      "metadata": {
        "colab": {
          "base_uri": "https://localhost:8080/"
        },
        "id": "T-wjnEheeeng",
        "outputId": "73bd1482-52cb-4572-ae0f-12719685ba1f"
      },
      "outputs": [
        {
          "output_type": "stream",
          "name": "stdout",
          "text": [
            "(20000, 2)\n"
          ]
        }
      ],
      "source": [
        "print(df_sample.shape)"
      ]
    },
    {
      "cell_type": "code",
      "source": [
        "df_sample.to_csv('whatsapp_reviews_sample.csv', index=False)"
      ],
      "metadata": {
        "id": "4jO7Fd9CAkbX"
      },
      "execution_count": 132,
      "outputs": []
    },
    {
      "cell_type": "markdown",
      "metadata": {
        "id": "qUBMSN08efRd"
      },
      "source": [
        "## **Assessing Data**"
      ]
    },
    {
      "cell_type": "code",
      "execution_count": 121,
      "metadata": {
        "colab": {
          "base_uri": "https://localhost:8080/"
        },
        "id": "KJUvMbLmei8-",
        "outputId": "6373a668-5869-42ec-d0a2-aa953db7c2df"
      },
      "outputs": [
        {
          "output_type": "stream",
          "name": "stdout",
          "text": [
            "<class 'pandas.core.frame.DataFrame'>\n",
            "Index: 20000 entries, 373463 to 24634\n",
            "Data columns (total 2 columns):\n",
            " #   Column   Non-Null Count  Dtype \n",
            "---  ------   --------------  ----- \n",
            " 0   content  20000 non-null  object\n",
            " 1   score    20000 non-null  int64 \n",
            "dtypes: int64(1), object(1)\n",
            "memory usage: 468.8+ KB\n",
            "None\n"
          ]
        }
      ],
      "source": [
        "print(df_sample.info())"
      ]
    },
    {
      "cell_type": "code",
      "execution_count": 122,
      "metadata": {
        "colab": {
          "base_uri": "https://localhost:8080/"
        },
        "id": "zqkmDVtzej5-",
        "outputId": "0aadbfb7-da13-4186-c3a5-361ae3e5f1f8"
      },
      "outputs": [
        {
          "output_type": "stream",
          "name": "stdout",
          "text": [
            "              score\n",
            "count  20000.000000\n",
            "mean       3.813850\n",
            "std        1.613204\n",
            "min        1.000000\n",
            "25%        2.000000\n",
            "50%        5.000000\n",
            "75%        5.000000\n",
            "max        5.000000\n"
          ]
        }
      ],
      "source": [
        "print(df_sample.describe())"
      ]
    },
    {
      "cell_type": "markdown",
      "metadata": {
        "id": "yy3cvRSuenjT"
      },
      "source": [
        "## **Cleaning Data**"
      ]
    },
    {
      "cell_type": "code",
      "execution_count": 123,
      "metadata": {
        "colab": {
          "base_uri": "https://localhost:8080/"
        },
        "id": "XKe7-iEveo4b",
        "outputId": "de971fa6-a183-46c6-de60-38d36a3f24e7"
      },
      "outputs": [
        {
          "output_type": "stream",
          "name": "stdout",
          "text": [
            "Missing Values:\n",
            " Series([], dtype: int64)\n"
          ]
        }
      ],
      "source": [
        "#Mengecek missing value\n",
        "missing_values = df_sample.isnull().sum()\n",
        "print(\"Missing Values:\\n\", missing_values[missing_values > 0])"
      ]
    },
    {
      "cell_type": "code",
      "execution_count": 124,
      "metadata": {
        "id": "XQckqoBheqRw"
      },
      "outputs": [],
      "source": [
        "df_sample.dropna(axis=0, inplace=True)"
      ]
    },
    {
      "cell_type": "code",
      "execution_count": 125,
      "metadata": {
        "colab": {
          "base_uri": "https://localhost:8080/"
        },
        "id": "7jW_MisIerXg",
        "outputId": "4d5496d7-ea97-438b-b0d2-e0c0b6c8cb41"
      },
      "outputs": [
        {
          "output_type": "stream",
          "name": "stdout",
          "text": [
            "Sudah tidak ada data yang hilang? True\n"
          ]
        }
      ],
      "source": [
        "print(\"Sudah tidak ada data yang hilang?\", df_sample.isnull().sum().sum() == 0)"
      ]
    },
    {
      "cell_type": "code",
      "execution_count": 126,
      "metadata": {
        "colab": {
          "base_uri": "https://localhost:8080/"
        },
        "id": "Cqq1ULGgesgG",
        "outputId": "d4be2e9b-b700-4847-ba83-47b4a7b4d32c"
      },
      "outputs": [
        {
          "output_type": "stream",
          "name": "stdout",
          "text": [
            "\n",
            "Missing Values setelah dilakukan cleaning:\n",
            "content    0\n",
            "score      0\n",
            "dtype: int64\n"
          ]
        }
      ],
      "source": [
        "# cek ulang missing values\n",
        "print(\"\\nMissing Values setelah dilakukan cleaning:\")\n",
        "print(df_sample.isnull().sum())"
      ]
    },
    {
      "cell_type": "markdown",
      "metadata": {
        "id": "tl02W8sieujK"
      },
      "source": [
        "**Insight**\n",
        "1.   Sudah tidak ada missing value ditemukan pada dataset\n",
        "2.   Seluruh kolom yang mempunyai missing value akan di drop menggunakan `dropna()`"
      ]
    },
    {
      "cell_type": "markdown",
      "metadata": {
        "id": "aaacxtGJfHTs"
      },
      "source": [
        "# **Exploratory Data Analysis (EDA)**"
      ]
    },
    {
      "cell_type": "markdown",
      "metadata": {
        "id": "B60hjURwfLBg"
      },
      "source": [
        "### **Cek informasi dasar dataset**"
      ]
    },
    {
      "cell_type": "code",
      "execution_count": 23,
      "metadata": {
        "colab": {
          "base_uri": "https://localhost:8080/"
        },
        "id": "3e_YBAvOeteq",
        "outputId": "e443eca5-9b55-4f0f-dd61-e259ee09c9a5"
      },
      "outputs": [
        {
          "output_type": "stream",
          "name": "stdout",
          "text": [
            "<class 'pandas.core.frame.DataFrame'>\n",
            "Index: 20000 entries, 373463 to 24634\n",
            "Data columns (total 2 columns):\n",
            " #   Column   Non-Null Count  Dtype \n",
            "---  ------   --------------  ----- \n",
            " 0   content  20000 non-null  object\n",
            " 1   score    20000 non-null  int64 \n",
            "dtypes: int64(1), object(1)\n",
            "memory usage: 468.8+ KB\n",
            "None\n",
            "count    20000.000000\n",
            "mean         3.813850\n",
            "std          1.613204\n",
            "min          1.000000\n",
            "25%          2.000000\n",
            "50%          5.000000\n",
            "75%          5.000000\n",
            "max          5.000000\n",
            "Name: score, dtype: float64\n"
          ]
        }
      ],
      "source": [
        "# Melihat info tipe data dan keberadaan missing value\n",
        "print(df_sample.info())\n",
        "\n",
        "# Melihat statistik deskriptif untuk kolom numerik (score)\n",
        "print(df_sample['score'].describe())"
      ]
    },
    {
      "cell_type": "code",
      "execution_count": 24,
      "metadata": {
        "colab": {
          "base_uri": "https://localhost:8080/"
        },
        "id": "SrZXNdDAfNkn",
        "outputId": "9ad34293-2401-45db-f9c5-976c378afd1e"
      },
      "outputs": [
        {
          "output_type": "stream",
          "name": "stdout",
          "text": [
            "\n",
            "Missing Values setelah dilakukan cleaning:\n",
            "content    0\n",
            "score      0\n",
            "dtype: int64\n"
          ]
        }
      ],
      "source": [
        "print(\"\\nMissing Values setelah dilakukan cleaning:\")\n",
        "print(df_sample.isnull().sum())"
      ]
    },
    {
      "cell_type": "code",
      "execution_count": 25,
      "metadata": {
        "colab": {
          "base_uri": "https://localhost:8080/",
          "height": 0
        },
        "id": "D_Tdmn1kfPFo",
        "outputId": "7d993dd8-a6dc-4bb1-fb7b-886d64f6fb8d"
      },
      "outputs": [
        {
          "output_type": "stream",
          "name": "stderr",
          "text": [
            "<ipython-input-25-d5e3b6d57d05>:2: FutureWarning: \n",
            "\n",
            "Passing `palette` without assigning `hue` is deprecated and will be removed in v0.14.0. Assign the `x` variable to `hue` and set `legend=False` for the same effect.\n",
            "\n",
            "  sns.countplot(x='score', data=df_sample, palette='muted')\n"
          ]
        },
        {
          "output_type": "display_data",
          "data": {
            "text/plain": [
              "<Figure size 800x500 with 1 Axes>"
            ],
            "image/png": "[encoded data removed]"
          },
          "metadata": {}
        }
      ],
      "source": [
        "plt.figure(figsize=(8,5))\n",
        "sns.countplot(x='score', data=df_sample, palette='muted')\n",
        "plt.title('Distribusi Rating Ulasan WhatsApp')\n",
        "plt.xlabel('Rating')\n",
        "plt.ylabel('Jumlah Ulasan')\n",
        "plt.show()"
      ]
    },
    {
      "cell_type": "code",
      "execution_count": 26,
      "metadata": {
        "colab": {
          "base_uri": "https://localhost:8080/",
          "height": 0
        },
        "id": "H5qkdHMnfQ96",
        "outputId": "09e1543b-3ddc-4444-c5e9-09ea17f4aa1d"
      },
      "outputs": [
        {
          "output_type": "display_data",
          "data": {
            "text/plain": [
              "<Figure size 1200x500 with 1 Axes>"
            ],
            "image/png": "[encoded data removed]"
          },
          "metadata": {}
        }
      ],
      "source": [
        "# Hitung jumlah kata per ulasan\n",
        "df_sample['word_count'] = df_sample['content'].apply(lambda x: len(str(x).split()))\n",
        "\n",
        "plt.figure(figsize=(12,5))\n",
        "sns.histplot(df_sample['word_count'], bins=30, kde=True)\n",
        "plt.title('Distribusi Panjang Ulasan (Jumlah Kata)')\n",
        "plt.xlabel('Jumlah Kata')\n",
        "plt.ylabel('Frekuensi')\n",
        "plt.show()"
      ]
    },
    {
      "cell_type": "markdown",
      "metadata": {
        "id": "W0eHKFyMfT-m"
      },
      "source": [
        "# **Text Preprocessing**"
      ]
    },
    {
      "cell_type": "markdown",
      "metadata": {
        "id": "To0kxKHKfVah"
      },
      "source": [
        "### **Fungsi Untuk Membersihkan Teks Ulasan**"
      ]
    },
    {
      "cell_type": "markdown",
      "metadata": {
        "id": "NLReHr7NfZAs"
      },
      "source": [
        "Tahapan ini merupakan langkah awal dalam preprocessing teks ulasan. Tujuannya adalah untuk membersihkan dan menyeragamkan teks sehingga lebih siap untuk analisis sentimen atau pemodelan machine learning."
      ]
    },
    {
      "cell_type": "code",
      "execution_count": 27,
      "metadata": {
        "id": "uX1O8z2SfTBQ"
      },
      "outputs": [],
      "source": [
        "def proses_teks(teks):\n",
        "    # Hapus mention (@username)\n",
        "    teks = re.sub(r'@\\w+', '', teks)\n",
        "    # Hapus hashtag (#hashtag)\n",
        "    teks = re.sub(r'#\\w+', '', teks)\n",
        "    # Hapus karakter khusus tertentu (misal simbol²)\n",
        "    teks = re.sub(r'[²]', '', teks)\n",
        "    # Hapus angka\n",
        "    teks = re.sub(r'\\d+', '', teks)\n",
        "    # Hapus tanda baca\n",
        "    teks = teks.translate(str.maketrans('', '', string.punctuation))\n",
        "    # Hapus spasi lebih dari 1 dan trim spasi di awal/akhir\n",
        "    teks = re.sub(r'\\s+', ' ', teks).strip()\n",
        "\n",
        "    return teks\n",
        "\n",
        "df_sample['clean_content'] = df_sample['content'].apply(proses_teks)"
      ]
    },
    {
      "cell_type": "markdown",
      "metadata": {
        "id": "qHmctyVlfc8M"
      },
      "source": [
        "### **Case Folding**"
      ]
    },
    {
      "cell_type": "code",
      "execution_count": 28,
      "metadata": {
        "colab": {
          "base_uri": "https://localhost:8080/"
        },
        "id": "zGOe8953fcRE",
        "outputId": "eae58944-e16d-4aae-fd52-cb6fc043409f"
      },
      "outputs": [
        {
          "output_type": "stream",
          "name": "stdout",
          "text": [
            "                                            clean_content  \\\n",
            "373463     Tambahin fitur keamanannnya dong bang operator   \n",
            "131890                                        Sangat baik   \n",
            "556374  whatsapp sangat membantu saya dalam berkomunikasi   \n",
            "20538                                                 Top   \n",
            "69917                                                  Ok   \n",
            "\n",
            "                                         casefold_content  \n",
            "373463     tambahin fitur keamanannnya dong bang operator  \n",
            "131890                                        sangat baik  \n",
            "556374  whatsapp sangat membantu saya dalam berkomunikasi  \n",
            "20538                                                 top  \n",
            "69917                                                  ok  \n"
          ]
        }
      ],
      "source": [
        "def casefoldingText(teks):\n",
        "    return str(teks).lower()\n",
        "\n",
        "df_sample['casefold_content'] = df_sample['clean_content'].apply(casefoldingText)\n",
        "\n",
        "print(df_sample[['clean_content', 'casefold_content']].head())"
      ]
    },
    {
      "cell_type": "markdown",
      "metadata": {
        "id": "e4-DYQz2fgnw"
      },
      "source": [
        "### **Fungsi Tokenisasi Teks**"
      ]
    },
    {
      "cell_type": "code",
      "execution_count": 29,
      "metadata": {
        "colab": {
          "base_uri": "https://localhost:8080/"
        },
        "id": "V5nac2SEfjC8",
        "outputId": "f7100337-5b38-43cc-e230-02c75640e735"
      },
      "outputs": [
        {
          "output_type": "stream",
          "name": "stderr",
          "text": [
            "[nltk_data] Downloading package punkt_tab to /root/nltk_data...\n",
            "[nltk_data]   Unzipping tokenizers/punkt_tab.zip.\n"
          ]
        },
        {
          "output_type": "stream",
          "name": "stdout",
          "text": [
            "                                         casefold_content  \\\n",
            "373463     tambahin fitur keamanannnya dong bang operator   \n",
            "131890                                        sangat baik   \n",
            "556374  whatsapp sangat membantu saya dalam berkomunikasi   \n",
            "20538                                                 top   \n",
            "69917                                                  ok   \n",
            "\n",
            "                                                   tokens  \n",
            "373463  [tambahin, fitur, keamanannnya, dong, bang, op...  \n",
            "131890                                     [sangat, baik]  \n",
            "556374  [whatsapp, sangat, membantu, saya, dalam, berk...  \n",
            "20538                                               [top]  \n",
            "69917                                                [ok]  \n"
          ]
        }
      ],
      "source": [
        "# Fungsi tokenizing, menerima input teks string, output list token kata\n",
        "from nltk.tokenize import word_tokenize\n",
        "nltk.download('punkt_tab')\n",
        "\n",
        "def tokenizing(teks):\n",
        "    return word_tokenize(teks)\n",
        "\n",
        "# Terapkan tokenizing pada kolom casefold_content\n",
        "df_sample['tokens'] = df_sample['casefold_content'].apply(tokenizing)\n",
        "\n",
        "# Contoh tampilkan hasil tokenizing\n",
        "print(df_sample[['casefold_content', 'tokens']].head())"
      ]
    },
    {
      "cell_type": "markdown",
      "metadata": {
        "id": "kgXNR7qYfkPq"
      },
      "source": [
        "### **Stemming**"
      ]
    },
    {
      "cell_type": "code",
      "execution_count": 30,
      "metadata": {
        "colab": {
          "base_uri": "https://localhost:8080/"
        },
        "id": "1Azesl0Qfm68",
        "outputId": "0502f74b-947b-483a-8edb-caa3eb93d898"
      },
      "outputs": [
        {
          "output_type": "stream",
          "name": "stdout",
          "text": [
            "                                                   tokens  \\\n",
            "373463  [tambahin, fitur, keamanannnya, dong, bang, op...   \n",
            "131890                                     [sangat, baik]   \n",
            "556374  [whatsapp, sangat, membantu, saya, dalam, berk...   \n",
            "20538                                               [top]   \n",
            "69917                                                [ok]   \n",
            "\n",
            "                                           stemmed_tokens  \n",
            "373463  [tambahin, fitur, keamanannnya, dong, bang, op...  \n",
            "131890                                     [sangat, baik]  \n",
            "556374  [whatsapp, sangat, bantu, saya, dalam, komunik...  \n",
            "20538                                               [top]  \n",
            "69917                                                [ok]  \n"
          ]
        }
      ],
      "source": [
        "# Inisialisasi stemmer\n",
        "factory = StemmerFactory()\n",
        "stemmer = factory.create_stemmer()\n",
        "\n",
        "# Fungsi stemming setiap token dalam list\n",
        "def stemming(tokens):\n",
        "    return [stemmer.stem(token) for token in tokens]\n",
        "\n",
        "# Terapkan proses stemming pada kolom 'tokens'\n",
        "df_sample['stemmed_tokens'] = df_sample['tokens'].apply(stemming)\n",
        "\n",
        "# Tampilkan contoh hasil stemming\n",
        "print(df_sample[['tokens', 'stemmed_tokens']].head())"
      ]
    },
    {
      "cell_type": "markdown",
      "metadata": {
        "id": "SxTQySxbfn6o"
      },
      "source": [
        "### **Negation Handling**"
      ]
    },
    {
      "cell_type": "code",
      "execution_count": 31,
      "metadata": {
        "colab": {
          "base_uri": "https://localhost:8080/"
        },
        "id": "MfoWw_DgfpwO",
        "outputId": "cdae8c1d-735f-44be-ed55-73dc5c0af119"
      },
      "outputs": [
        {
          "output_type": "stream",
          "name": "stdout",
          "text": [
            "                                           stemmed_tokens  \\\n",
            "373463  [tambahin, fitur, keamanannnya, dong, bang, op...   \n",
            "131890                                     [sangat, baik]   \n",
            "556374  [whatsapp, sangat, bantu, saya, dalam, komunik...   \n",
            "20538                                               [top]   \n",
            "69917                                                [ok]   \n",
            "\n",
            "                                          tokens_negation  \n",
            "373463  [tambahin, fitur, keamanannnya, dong, bang, op...  \n",
            "131890                                     [sangat, baik]  \n",
            "556374  [whatsapp, sangat, bantu, saya, dalam, komunik...  \n",
            "20538                                               [top]  \n",
            "69917                                                [ok]  \n"
          ]
        }
      ],
      "source": [
        "def negation_handling(stemmed_tokens):\n",
        "    negation_words = {'tidak', 'jangan', 'bukan', 'belum'}\n",
        "    hasil = []\n",
        "    skip_next = False\n",
        "    for i in range(len(stemmed_tokens)):\n",
        "        if skip_next:\n",
        "            skip_next = False\n",
        "            continue\n",
        "\n",
        "        token = stemmed_tokens[i]\n",
        "        if token in negation_words and i+1 < len(stemmed_tokens):\n",
        "            # Gabungkan kata negasi dengan kata setelahnya\n",
        "            combined = token + '_' + stemmed_tokens[i+1]\n",
        "            hasil.append(combined)\n",
        "            skip_next = True  # lewati kata berikutnya karena sudah digabung\n",
        "        else:\n",
        "            hasil.append(token)\n",
        "    return hasil\n",
        "\n",
        "# Terapkan pada kolom stemmed_tokens\n",
        "df_sample['tokens_negation'] = df_sample['stemmed_tokens'].apply(negation_handling)\n",
        "\n",
        "# Contoh lihat hasilnya\n",
        "print(df_sample[['stemmed_tokens', 'tokens_negation']].head())"
      ]
    },
    {
      "cell_type": "markdown",
      "metadata": {
        "id": "zXPFfphzfrp6"
      },
      "source": [
        "### **Word Normalization**"
      ]
    },
    {
      "cell_type": "code",
      "execution_count": 32,
      "metadata": {
        "colab": {
          "base_uri": "https://localhost:8080/"
        },
        "id": "_WZfpWXVfrEQ",
        "outputId": "05e7262a-3cfa-45e9-ba14-4245b5e62c69"
      },
      "outputs": [
        {
          "output_type": "stream",
          "name": "stdout",
          "text": [
            "                                          tokens_negation  \\\n",
            "373463  [tambahin, fitur, keamanannnya, dong, bang, op...   \n",
            "131890                                     [sangat, baik]   \n",
            "556374  [whatsapp, sangat, bantu, saya, dalam, komunik...   \n",
            "20538                                               [top]   \n",
            "69917                                                [ok]   \n",
            "\n",
            "                                             tokens_slang  \n",
            "373463  [tambah, fitur, keamanannnya, dong, bang, oper...  \n",
            "131890                                     [sangat, baik]  \n",
            "556374  [whatsapp, sangat, bantu, saya, dalam, komunik...  \n",
            "20538                                               [top]  \n",
            "69917                                                [ok]  \n"
          ]
        }
      ],
      "source": [
        "def convertToSlangword(tokens_negation):\n",
        "    kamusSlang = eval(open(\"slangwords.txt\").read())\n",
        "    pattern = re.compile(r'\\b( ' + '|'.join (kamusSlang.keys())+r')\\b')\n",
        "    content = []\n",
        "    for kata in tokens_negation:\n",
        "        filter_slang = pattern.sub(lambda x: kamusSlang[x.group()], kata.lower())\n",
        "        if filter_slang.startswith('tidak_'):\n",
        "          kata_depan = 'tidak_'\n",
        "          kata_belakang = kata[6:]\n",
        "          kata_belakang_slang = pattern.sub(lambda x: kamusSlang[x.group()], kata_belakang.lower())\n",
        "          kata_hasil = kata_depan + kata_belakang_slang\n",
        "          content.append(kata_hasil)\n",
        "        else:\n",
        "          content.append(filter_slang)\n",
        "    ulasan = content\n",
        "    return ulasan\n",
        "\n",
        "df_sample['tokens_slang'] = df_sample['tokens_negation'].apply(convertToSlangword)\n",
        "\n",
        "# Contoh lihat hasilnya\n",
        "print(df_sample[['tokens_negation', 'tokens_slang']].head())"
      ]
    },
    {
      "cell_type": "markdown",
      "metadata": {
        "id": "T_JV1pV8fxtV"
      },
      "source": [
        "### **Fungsi Penghapusan Stopwords**"
      ]
    },
    {
      "cell_type": "code",
      "execution_count": 33,
      "metadata": {
        "colab": {
          "base_uri": "https://localhost:8080/"
        },
        "id": "P3i05jmmfzrW",
        "outputId": "7e064f75-e69c-46b8-c719-30ab29929312"
      },
      "outputs": [
        {
          "output_type": "stream",
          "name": "stdout",
          "text": [
            "                                             tokens_slang  \\\n",
            "373463  [tambah, fitur, keamanannnya, dong, bang, oper...   \n",
            "131890                                     [sangat, baik]   \n",
            "556374  [whatsapp, sangat, bantu, saya, dalam, komunik...   \n",
            "20538                                               [top]   \n",
            "69917                                                [ok]   \n",
            "\n",
            "                             stopword_removal  \n",
            "373463  [fitur, keamanannnya, bang, operator]  \n",
            "131890                                     []  \n",
            "556374          [whatsapp, bantu, komunikasi]  \n",
            "20538                                   [top]  \n",
            "69917                                    [ok]  \n"
          ]
        }
      ],
      "source": [
        "def hapus_stopwords(tokens_slang):\n",
        "    stop_words = set(stopwords.words('indonesian'))\n",
        "    stop_words_english = set(stopwords.words('english'))\n",
        "\n",
        "    stop_words.update(stop_words_english)\n",
        "    stop_words.update([\n",
        "        'iya', 'yaa', 'gak', 'nya', 'na', 'sih', 'ku',\n",
        "        'di', 'ga', 'ya', 'gaa', 'loh', 'kah', 'woi', 'woii', 'woy'\n",
        "    ])\n",
        "    hasil_hapus = [kata for kata in tokens_slang if kata not in stop_words]\n",
        "    return hasil_hapus\n",
        "df_sample['stopword_removal'] = df_sample['tokens_slang'].apply(hapus_stopwords)\n",
        "\n",
        "# Contoh lihat hasilnya\n",
        "print(df_sample[['tokens_slang', 'stopword_removal']].head())"
      ]
    },
    {
      "cell_type": "code",
      "execution_count": 34,
      "metadata": {
        "id": "MvPFz0IJf4tE"
      },
      "outputs": [],
      "source": [
        "df_sample.to_csv('data_bersih.csv', index=False)"
      ]
    },
    {
      "cell_type": "markdown",
      "metadata": {
        "id": "801nGpi6jroo"
      },
      "source": [
        "### **Pelabelan Menggunakan Lexikon**"
      ]
    },
    {
      "cell_type": "code",
      "execution_count": 35,
      "metadata": {
        "id": "xEsDe1sPjsHf"
      },
      "outputs": [],
      "source": [
        "df_bersih = pd.read_csv('data_bersih.csv')"
      ]
    },
    {
      "cell_type": "code",
      "execution_count": 36,
      "metadata": {
        "colab": {
          "base_uri": "https://localhost:8080/"
        },
        "id": "Os6FGjzomExT",
        "outputId": "381dda20-4a2b-474a-acd2-93e696b80326"
      },
      "outputs": [
        {
          "output_type": "stream",
          "name": "stdout",
          "text": [
            "\n",
            "Missing Values setelah dilakukan cleaning:\n",
            "content             0\n",
            "score               0\n",
            "word_count          0\n",
            "clean_content       4\n",
            "casefold_content    4\n",
            "tokens              0\n",
            "stemmed_tokens      0\n",
            "tokens_negation     0\n",
            "tokens_slang        0\n",
            "stopword_removal    0\n",
            "dtype: int64\n"
          ]
        }
      ],
      "source": [
        "print(\"\\nMissing Values setelah dilakukan cleaning:\")\n",
        "print(df_bersih.isnull().sum())"
      ]
    },
    {
      "cell_type": "code",
      "execution_count": 37,
      "metadata": {
        "id": "mmwV4Ayjmy0B"
      },
      "outputs": [],
      "source": [
        "df_bersih.dropna(axis=0, inplace=True)"
      ]
    },
    {
      "cell_type": "code",
      "execution_count": 38,
      "metadata": {
        "colab": {
          "base_uri": "https://localhost:8080/"
        },
        "id": "GKXBn-Wym1kj",
        "outputId": "b1a554ec-392e-4fe3-ae44-c2c6972e6819"
      },
      "outputs": [
        {
          "output_type": "stream",
          "name": "stdout",
          "text": [
            "\n",
            "Missing Values setelah dilakukan cleaning:\n",
            "content             0\n",
            "score               0\n",
            "word_count          0\n",
            "clean_content       0\n",
            "casefold_content    0\n",
            "tokens              0\n",
            "stemmed_tokens      0\n",
            "tokens_negation     0\n",
            "tokens_slang        0\n",
            "stopword_removal    0\n",
            "dtype: int64\n"
          ]
        }
      ],
      "source": [
        "print(\"\\nMissing Values setelah dilakukan cleaning:\")\n",
        "print(df_bersih.isnull().sum())"
      ]
    },
    {
      "cell_type": "code",
      "execution_count": 39,
      "metadata": {
        "colab": {
          "base_uri": "https://localhost:8080/",
          "height": 0
        },
        "id": "Youzv_i8jxf7",
        "outputId": "c6c69d9d-bdaf-41c6-e03c-82d933c59a94"
      },
      "outputs": [
        {
          "output_type": "execute_result",
          "data": {
            "text/plain": [
              "                                             content  score  word_count  \\\n",
              "0     Tambahin fitur keamanannnya dong bang operator      2           6   \n",
              "1                                        Sangat baik      3           2   \n",
              "2  whatsapp sangat membantu saya dalam berkomunikasi      5           6   \n",
              "3                                                Top      4           1   \n",
              "4                                                 Ok      5           1   \n",
              "\n",
              "                                       clean_content  \\\n",
              "0     Tambahin fitur keamanannnya dong bang operator   \n",
              "1                                        Sangat baik   \n",
              "2  whatsapp sangat membantu saya dalam berkomunikasi   \n",
              "3                                                Top   \n",
              "4                                                 Ok   \n",
              "\n",
              "                                    casefold_content  \\\n",
              "0     tambahin fitur keamanannnya dong bang operator   \n",
              "1                                        sangat baik   \n",
              "2  whatsapp sangat membantu saya dalam berkomunikasi   \n",
              "3                                                top   \n",
              "4                                                 ok   \n",
              "\n",
              "                                              tokens  \\\n",
              "0  ['tambahin', 'fitur', 'keamanannnya', 'dong', ...   \n",
              "1                                 ['sangat', 'baik']   \n",
              "2  ['whatsapp', 'sangat', 'membantu', 'saya', 'da...   \n",
              "3                                            ['top']   \n",
              "4                                             ['ok']   \n",
              "\n",
              "                                      stemmed_tokens  \\\n",
              "0  ['tambahin', 'fitur', 'keamanannnya', 'dong', ...   \n",
              "1                                 ['sangat', 'baik']   \n",
              "2  ['whatsapp', 'sangat', 'bantu', 'saya', 'dalam...   \n",
              "3                                            ['top']   \n",
              "4                                             ['ok']   \n",
              "\n",
              "                                     tokens_negation  \\\n",
              "0  ['tambahin', 'fitur', 'keamanannnya', 'dong', ...   \n",
              "1                                 ['sangat', 'baik']   \n",
              "2  ['whatsapp', 'sangat', 'bantu', 'saya', 'dalam...   \n",
              "3                                            ['top']   \n",
              "4                                             ['ok']   \n",
              "\n",
              "                                        tokens_slang  \\\n",
              "0  ['tambah', 'fitur', 'keamanannnya', 'dong', 'b...   \n",
              "1                                 ['sangat', 'baik']   \n",
              "2  ['whatsapp', 'sangat', 'bantu', 'saya', 'dalam...   \n",
              "3                                            ['top']   \n",
              "4                                             ['ok']   \n",
              "\n",
              "                                stopword_removal  \n",
              "0  ['fitur', 'keamanannnya', 'bang', 'operator']  \n",
              "1                                             []  \n",
              "2            ['whatsapp', 'bantu', 'komunikasi']  \n",
              "3                                        ['top']  \n",
              "4                                         ['ok']  "
            ],
            "text/html": [
              "\n",
              "  <div id=\"df-a636f32d-c405-4788-b953-d5540bca3cae\" class=\"colab-df-container\">\n",
              "    <div>\n",
              "<style scoped>\n",
              "    .dataframe tbody tr th:only-of-type {\n",
              "        vertical-align: middle;\n",
              "    }\n",
              "\n",
              "    .dataframe tbody tr th {\n",
              "        vertical-align: top;\n",
              "    }\n",
              "\n",
              "    .dataframe thead th {\n",
              "        text-align: right;\n",
              "    }\n",
              "</style>\n",
              "<table border=\"1\" class=\"dataframe\">\n",
              "  <thead>\n",
              "    <tr style=\"text-align: right;\">\n",
              "      <th></th>\n",
              "      <th>content</th>\n",
              "      <th>score</th>\n",
              "      <th>word_count</th>\n",
              "      <th>clean_content</th>\n",
              "      <th>casefold_content</th>\n",
              "      <th>tokens</th>\n",
              "      <th>stemmed_tokens</th>\n",
              "      <th>tokens_negation</th>\n",
              "      <th>tokens_slang</th>\n",
              "      <th>stopword_removal</th>\n",
              "    </tr>\n",
              "  </thead>\n",
              "  <tbody>\n",
              "    <tr>\n",
              "      <th>0</th>\n",
              "      <td>Tambahin fitur keamanannnya dong bang operator</td>\n",
              "      <td>2</td>\n",
              "      <td>6</td>\n",
              "      <td>Tambahin fitur keamanannnya dong bang operator</td>\n",
              "      <td>tambahin fitur keamanannnya dong bang operator</td>\n",
              "      <td>['tambahin', 'fitur', 'keamanannnya', 'dong', ...</td>\n",
              "      <td>['tambahin', 'fitur', 'keamanannnya', 'dong', ...</td>\n",
              "      <td>['tambahin', 'fitur', 'keamanannnya', 'dong', ...</td>\n",
              "      <td>['tambah', 'fitur', 'keamanannnya', 'dong', 'b...</td>\n",
              "      <td>['fitur', 'keamanannnya', 'bang', 'operator']</td>\n",
              "    </tr>\n",
              "    <tr>\n",
              "      <th>1</th>\n",
              "      <td>Sangat baik</td>\n",
              "      <td>3</td>\n",
              "      <td>2</td>\n",
              "      <td>Sangat baik</td>\n",
              "      <td>sangat baik</td>\n",
              "      <td>['sangat', 'baik']</td>\n",
              "      <td>['sangat', 'baik']</td>\n",
              "      <td>['sangat', 'baik']</td>\n",
              "      <td>['sangat', 'baik']</td>\n",
              "      <td>[]</td>\n",
              "    </tr>\n",
              "    <tr>\n",
              "      <th>2</th>\n",
              "      <td>whatsapp sangat membantu saya dalam berkomunikasi</td>\n",
              "      <td>5</td>\n",
              "      <td>6</td>\n",
              "      <td>whatsapp sangat membantu saya dalam berkomunikasi</td>\n",
              "      <td>whatsapp sangat membantu saya dalam berkomunikasi</td>\n",
              "      <td>['whatsapp', 'sangat', 'membantu', 'saya', 'da...</td>\n",
              "      <td>['whatsapp', 'sangat', 'bantu', 'saya', 'dalam...</td>\n",
              "      <td>['whatsapp', 'sangat', 'bantu', 'saya', 'dalam...</td>\n",
              "      <td>['whatsapp', 'sangat', 'bantu', 'saya', 'dalam...</td>\n",
              "      <td>['whatsapp', 'bantu', 'komunikasi']</td>\n",
              "    </tr>\n",
              "    <tr>\n",
              "      <th>3</th>\n",
              "      <td>Top</td>\n",
              "      <td>4</td>\n",
              "      <td>1</td>\n",
              "      <td>Top</td>\n",
              "      <td>top</td>\n",
              "      <td>['top']</td>\n",
              "      <td>['top']</td>\n",
              "      <td>['top']</td>\n",
              "      <td>['top']</td>\n",
              "      <td>['top']</td>\n",
              "    </tr>\n",
              "    <tr>\n",
              "      <th>4</th>\n",
              "      <td>Ok</td>\n",
              "      <td>5</td>\n",
              "      <td>1</td>\n",
              "      <td>Ok</td>\n",
              "      <td>ok</td>\n",
              "      <td>['ok']</td>\n",
              "      <td>['ok']</td>\n",
              "      <td>['ok']</td>\n",
              "      <td>['ok']</td>\n",
              "      <td>['ok']</td>\n",
              "    </tr>\n",
              "  </tbody>\n",
              "</table>\n",
              "</div>\n",
              "    <div class=\"colab-df-buttons\">\n",
              "\n",
              "  <div class=\"colab-df-container\">\n",
              "    <button class=\"colab-df-convert\" onclick=\"convertToInteractive('df-a636f32d-c405-4788-b953-d5540bca3cae')\"\n",
              "            title=\"Convert this dataframe to an interactive table.\"\n",
              "            style=\"display:none;\">\n",
              "\n",
              "  <svg xmlns=\"http://www.w3.org/2000/svg\" height=\"24px\" viewBox=\"0 -960 960 960\">\n",
              "    <path d=\"M120-120v-720h720v720H120Zm60-500h600v-160H180v160Zm220 220h160v-160H400v160Zm0 220h160v-160H400v160ZM180-400h160v-160H180v160Zm440 0h160v-160H620v160ZM180-180h160v-160H180v160Zm440 0h160v-160H620v160Z\"/>\n",
              "  </svg>\n",
              "    </button>\n",
              "\n",
              "  <style>\n",
              "    .colab-df-container {\n",
              "      display:flex;\n",
              "      gap: 12px;\n",
              "    }\n",
              "\n",
              "    .colab-df-convert {\n",
              "      background-color: #E8F0FE;\n",
              "      border: none;\n",
              "      border-radius: 50%;\n",
              "      cursor: pointer;\n",
              "      display: none;\n",
              "      fill: #1967D2;\n",
              "      height: 32px;\n",
              "      padding: 0 0 0 0;\n",
              "      width: 32px;\n",
              "    }\n",
              "\n",
              "    .colab-df-convert:hover {\n",
              "      background-color: #E2EBFA;\n",
              "      box-shadow: 0px 1px 2px rgba(60, 64, 67, 0.3), 0px 1px 3px 1px rgba(60, 64, 67, 0.15);\n",
              "      fill: #174EA6;\n",
              "    }\n",
              "\n",
              "    .colab-df-buttons div {\n",
              "      margin-bottom: 4px;\n",
              "    }\n",
              "\n",
              "    [theme=dark] .colab-df-convert {\n",
              "      background-color: #3B4455;\n",
              "      fill: #D2E3FC;\n",
              "    }\n",
              "\n",
              "    [theme=dark] .colab-df-convert:hover {\n",
              "      background-color: #434B5C;\n",
              "      box-shadow: 0px 1px 3px 1px rgba(0, 0, 0, 0.15);\n",
              "      filter: drop-shadow(0px 1px 2px rgba(0, 0, 0, 0.3));\n",
              "      fill: #FFFFFF;\n",
              "    }\n",
              "  </style>\n",
              "\n",
              "    <script>\n",
              "      const buttonEl =\n",
              "        document.querySelector('#df-a636f32d-c405-4788-b953-d5540bca3cae button.colab-df-convert');\n",
              "      buttonEl.style.display =\n",
              "        google.colab.kernel.accessAllowed ? 'block' : 'none';\n",
              "\n",
              "      async function convertToInteractive(key) {\n",
              "        const element = document.querySelector('#df-a636f32d-c405-4788-b953-d5540bca3cae');\n",
              "        const dataTable =\n",
              "          await google.colab.kernel.invokeFunction('convertToInteractive',\n",
              "                                                    [key], {});\n",
              "        if (!dataTable) return;\n",
              "\n",
              "        const docLinkHtml = 'Like what you see? Visit the ' +\n",
              "          '<a target=\"_blank\" href=https://colab.research.google.com/notebooks/data_table.ipynb>data table notebook</a>'\n",
              "          + ' to learn more about interactive tables.';\n",
              "        element.innerHTML = '';\n",
              "        dataTable['output_type'] = 'display_data';\n",
              "        await google.colab.output.renderOutput(dataTable, element);\n",
              "        const docLink = document.createElement('div');\n",
              "        docLink.innerHTML = docLinkHtml;\n",
              "        element.appendChild(docLink);\n",
              "      }\n",
              "    </script>\n",
              "  </div>\n",
              "\n",
              "\n",
              "    <div id=\"df-c30279a7-920b-49f3-9a63-3e37a1dca49b\">\n",
              "      <button class=\"colab-df-quickchart\" onclick=\"quickchart('df-c30279a7-920b-49f3-9a63-3e37a1dca49b')\"\n",
              "                title=\"Suggest charts\"\n",
              "                style=\"display:none;\">\n",
              "\n",
              "<svg xmlns=\"http://www.w3.org/2000/svg\" height=\"24px\"viewBox=\"0 0 24 24\"\n",
              "     width=\"24px\">\n",
              "    <g>\n",
              "        <path d=\"M19 3H5c-1.1 0-2 .9-2 2v14c0 1.1.9 2 2 2h14c1.1 0 2-.9 2-2V5c0-1.1-.9-2-2-2zM9 17H7v-7h2v7zm4 0h-2V7h2v10zm4 0h-2v-4h2v4z\"/>\n",
              "    </g>\n",
              "</svg>\n",
              "      </button>\n",
              "\n",
              "<style>\n",
              "  .colab-df-quickchart {\n",
              "      --bg-color: #E8F0FE;\n",
              "      --fill-color: #1967D2;\n",
              "      --hover-bg-color: #E2EBFA;\n",
              "      --hover-fill-color: #174EA6;\n",
              "      --disabled-fill-color: #AAA;\n",
              "      --disabled-bg-color: #DDD;\n",
              "  }\n",
              "\n",
              "  [theme=dark] .colab-df-quickchart {\n",
              "      --bg-color: #3B4455;\n",
              "      --fill-color: #D2E3FC;\n",
              "      --hover-bg-color: #434B5C;\n",
              "      --hover-fill-color: #FFFFFF;\n",
              "      --disabled-bg-color: #3B4455;\n",
              "      --disabled-fill-color: #666;\n",
              "  }\n",
              "\n",
              "  .colab-df-quickchart {\n",
              "    background-color: var(--bg-color);\n",
              "    border: none;\n",
              "    border-radius: 50%;\n",
              "    cursor: pointer;\n",
              "    display: none;\n",
              "    fill: var(--fill-color);\n",
              "    height: 32px;\n",
              "    padding: 0;\n",
              "    width: 32px;\n",
              "  }\n",
              "\n",
              "  .colab-df-quickchart:hover {\n",
              "    background-color: var(--hover-bg-color);\n",
              "    box-shadow: 0 1px 2px rgba(60, 64, 67, 0.3), 0 1px 3px 1px rgba(60, 64, 67, 0.15);\n",
              "    fill: var(--button-hover-fill-color);\n",
              "  }\n",
              "\n",
              "  .colab-df-quickchart-complete:disabled,\n",
              "  .colab-df-quickchart-complete:disabled:hover {\n",
              "    background-color: var(--disabled-bg-color);\n",
              "    fill: var(--disabled-fill-color);\n",
              "    box-shadow: none;\n",
              "  }\n",
              "\n",
              "  .colab-df-spinner {\n",
              "    border: 2px solid var(--fill-color);\n",
              "    border-color: transparent;\n",
              "    border-bottom-color: var(--fill-color);\n",
              "    animation:\n",
              "      spin 1s steps(1) infinite;\n",
              "  }\n",
              "\n",
              "  @keyframes spin {\n",
              "    0% {\n",
              "      border-color: transparent;\n",
              "      border-bottom-color: var(--fill-color);\n",
              "      border-left-color: var(--fill-color);\n",
              "    }\n",
              "    20% {\n",
              "      border-color: transparent;\n",
              "      border-left-color: var(--fill-color);\n",
              "      border-top-color: var(--fill-color);\n",
              "    }\n",
              "    30% {\n",
              "      border-color: transparent;\n",
              "      border-left-color: var(--fill-color);\n",
              "      border-top-color: var(--fill-color);\n",
              "      border-right-color: var(--fill-color);\n",
              "    }\n",
              "    40% {\n",
              "      border-color: transparent;\n",
              "      border-right-color: var(--fill-color);\n",
              "      border-top-color: var(--fill-color);\n",
              "    }\n",
              "    60% {\n",
              "      border-color: transparent;\n",
              "      border-right-color: var(--fill-color);\n",
              "    }\n",
              "    80% {\n",
              "      border-color: transparent;\n",
              "      border-right-color: var(--fill-color);\n",
              "      border-bottom-color: var(--fill-color);\n",
              "    }\n",
              "    90% {\n",
              "      border-color: transparent;\n",
              "      border-bottom-color: var(--fill-color);\n",
              "    }\n",
              "  }\n",
              "</style>\n",
              "\n",
              "      <script>\n",
              "        async function quickchart(key) {\n",
              "          const quickchartButtonEl =\n",
              "            document.querySelector('#' + key + ' button');\n",
              "          quickchartButtonEl.disabled = true;  // To prevent multiple clicks.\n",
              "          quickchartButtonEl.classList.add('colab-df-spinner');\n",
              "          try {\n",
              "            const charts = await google.colab.kernel.invokeFunction(\n",
              "                'suggestCharts', [key], {});\n",
              "          } catch (error) {\n",
              "            console.error('Error during call to suggestCharts:', error);\n",
              "          }\n",
              "          quickchartButtonEl.classList.remove('colab-df-spinner');\n",
              "          quickchartButtonEl.classList.add('colab-df-quickchart-complete');\n",
              "        }\n",
              "        (() => {\n",
              "          let quickchartButtonEl =\n",
              "            document.querySelector('#df-c30279a7-920b-49f3-9a63-3e37a1dca49b button');\n",
              "          quickchartButtonEl.style.display =\n",
              "            google.colab.kernel.accessAllowed ? 'block' : 'none';\n",
              "        })();\n",
              "      </script>\n",
              "    </div>\n",
              "\n",
              "    </div>\n",
              "  </div>\n"
            ],
            "application/vnd.google.colaboratory.intrinsic+json": {
              "type": "dataframe",
              "variable_name": "df_bersih",
              "summary": "{\n  \"name\": \"df_bersih\",\n  \"rows\": 19996,\n  \"fields\": [\n    {\n      \"column\": \"content\",\n      \"properties\": {\n        \"dtype\": \"string\",\n        \"num_unique_values\": 14267,\n        \"samples\": [\n          \"\\ud83e\\udd1d\\ud83c\\uddf9\\ud83c\\uddf1\\ud83c\\uddf9\\ud83c\\uddf1\",\n          \"Aplikasi WhatsApp saya sudah versi terbaru tapi Meta Ai belum juga muncul. Padahal saya sudah mengirim pesan ke pusat bantuan dan hasilnya nihil jadi tolong untuk sediakan Meta Ai di aplikasi WhatsApp saya.Terimakasih\",\n          \"Wa saya tiba\\u00b2 ada pemberitahuan update, pas update ngulang terus\"\n        ],\n        \"semantic_type\": \"\",\n        \"description\": \"\"\n      }\n    },\n    {\n      \"column\": \"score\",\n      \"properties\": {\n        \"dtype\": \"number\",\n        \"std\": 1,\n        \"min\": 1,\n        \"max\": 5,\n        \"num_unique_values\": 5,\n        \"samples\": [\n          3,\n          1,\n          5\n        ],\n        \"semantic_type\": \"\",\n        \"description\": \"\"\n      }\n    },\n    {\n      \"column\": \"word_count\",\n      \"properties\": {\n        \"dtype\": \"number\",\n        \"std\": 10,\n        \"min\": 1,\n        \"max\": 101,\n        \"num_unique_values\": 91,\n        \"samples\": [\n          36,\n          21,\n          58\n        ],\n        \"semantic_type\": \"\",\n        \"description\": \"\"\n      }\n    },\n    {\n      \"column\": \"clean_content\",\n      \"properties\": {\n        \"dtype\": \"string\",\n        \"num_unique_values\": 14164,\n        \"samples\": [\n          \"knpa ini tiba lag waktu pemutaran video padahal udh di download biasanya klw udh di download klw vidio di putar itu lancar tpi kok ini mutarngelag waktu ku coba putar videonya\",\n          \"Sangat bagus aku suka bangat\",\n          \"Selalu kena spam dari pihak whapsapp\"\n        ],\n        \"semantic_type\": \"\",\n        \"description\": \"\"\n      }\n    },\n    {\n      \"column\": \"casefold_content\",\n      \"properties\": {\n        \"dtype\": \"string\",\n        \"num_unique_values\": 13791,\n        \"samples\": [\n          \"mohon bantuan nya buat pihak whatsap kenapa whatsap saya slalu kenak spam sementara sya tidak prnah melanggar aturan pihak whatsap tolong di perbaiki secepatnya\",\n          \"membantu bisnis jadi mudah\",\n          \"berilah saya petunjuk untuk memperbaru whatshapnya dan jangan dipersulit\"\n        ],\n        \"semantic_type\": \"\",\n        \"description\": \"\"\n      }\n    },\n    {\n      \"column\": \"tokens\",\n      \"properties\": {\n        \"dtype\": \"string\",\n        \"num_unique_values\": 13791,\n        \"samples\": [\n          \"['mohon', 'bantuan', 'nya', 'buat', 'pihak', 'whatsap', 'kenapa', 'whatsap', 'saya', 'slalu', 'kenak', 'spam', 'sementara', 'sya', 'tidak', 'prnah', 'melanggar', 'aturan', 'pihak', 'whatsap', 'tolong', 'di', 'perbaiki', 'secepatnya']\",\n          \"['membantu', 'bisnis', 'jadi', 'mudah']\",\n          \"['berilah', 'saya', 'petunjuk', 'untuk', 'memperbaru', 'whatshapnya', 'dan', 'jangan', 'dipersulit']\"\n        ],\n        \"semantic_type\": \"\",\n        \"description\": \"\"\n      }\n    },\n    {\n      \"column\": \"stemmed_tokens\",\n      \"properties\": {\n        \"dtype\": \"string\",\n        \"num_unique_values\": 13446,\n        \"samples\": [\n          \"['knpa', 'wa', 'saya', 'blom', 'ada', 'meta', 'ai', 'nya', 'ya', 'min']\",\n          \"['bagus', 'banget', 'apk', 'ini']\",\n          \"['gas']\"\n        ],\n        \"semantic_type\": \"\",\n        \"description\": \"\"\n      }\n    },\n    {\n      \"column\": \"tokens_negation\",\n      \"properties\": {\n        \"dtype\": \"string\",\n        \"num_unique_values\": 13446,\n        \"samples\": [\n          \"['knpa', 'wa', 'saya', 'blom', 'ada', 'meta', 'ai', 'nya', 'ya', 'min']\",\n          \"['bagus', 'banget', 'apk', 'ini']\",\n          \"['gas']\"\n        ],\n        \"semantic_type\": \"\",\n        \"description\": \"\"\n      }\n    },\n    {\n      \"column\": \"tokens_slang\",\n      \"properties\": {\n        \"dtype\": \"string\",\n        \"num_unique_values\": 13273,\n        \"samples\": [\n          \"['terlalu', 'tebet', 'wasap', 'sekarang']\",\n          \"['aplikasi', 'ini', 'seperti', 'jauh', 'lebih', 'unggul']\",\n          \"['aplikasi', 'tidak jelas', 'masa', 'cewek', 'ga', 'ada', 'yang', 'mau', 'balas', 'pesan', 'dari', 'saya', 'aplikasi', 'tidak_ramah']\"\n        ],\n        \"semantic_type\": \"\",\n        \"description\": \"\"\n      }\n    },\n    {\n      \"column\": \"stopword_removal\",\n      \"properties\": {\n        \"dtype\": \"string\",\n        \"num_unique_values\": 11934,\n        \"samples\": [\n          \"['slebeeee']\",\n          \"['bagus', 'banget', 'fitur', 'ai']\",\n          \"['aplikasainya', 'bagus']\"\n        ],\n        \"semantic_type\": \"\",\n        \"description\": \"\"\n      }\n    }\n  ]\n}"
            }
          },
          "metadata": {},
          "execution_count": 39
        }
      ],
      "source": [
        "df_bersih.head()"
      ]
    },
    {
      "cell_type": "code",
      "execution_count": 40,
      "metadata": {
        "id": "HUzMxloVjycs"
      },
      "outputs": [],
      "source": [
        "df_bersih['stopword_removal'] = df_bersih['stopword_removal'].apply(ast.literal_eval)"
      ]
    },
    {
      "cell_type": "code",
      "execution_count": 41,
      "metadata": {
        "id": "lGTawzlDj0M1"
      },
      "outputs": [],
      "source": [
        "#Mengakses csv data word positive dan negative\n",
        "df_positive = pd.read_csv('positive.csv', header=0, sep='\\t', encoding='utf-8')\n",
        "df_negative = pd.read_csv('negative.csv', header=0, sep='\\t', encoding='utf-8')"
      ]
    },
    {
      "cell_type": "code",
      "execution_count": 42,
      "metadata": {
        "colab": {
          "base_uri": "https://localhost:8080/",
          "height": 0
        },
        "id": "37vqydiBj8RX",
        "outputId": "b909987b-0538-4e5c-ee62-4d56885b5662"
      },
      "outputs": [
        {
          "output_type": "execute_result",
          "data": {
            "text/plain": [
              "                   word  weight\n",
              "0    putus tali gantung      -2\n",
              "1               gelebah      -2\n",
              "2            gobar hati      -2\n",
              "3  tersentuh (perasaan)      -1\n",
              "4                  isak      -5"
            ],
            "text/html": [
              "\n",
              "  <div id=\"df-5cef31ee-46d8-4a2b-81d0-92a1520b0904\" class=\"colab-df-container\">\n",
              "    <div>\n",
              "<style scoped>\n",
              "    .dataframe tbody tr th:only-of-type {\n",
              "        vertical-align: middle;\n",
              "    }\n",
              "\n",
              "    .dataframe tbody tr th {\n",
              "        vertical-align: top;\n",
              "    }\n",
              "\n",
              "    .dataframe thead th {\n",
              "        text-align: right;\n",
              "    }\n",
              "</style>\n",
              "<table border=\"1\" class=\"dataframe\">\n",
              "  <thead>\n",
              "    <tr style=\"text-align: right;\">\n",
              "      <th></th>\n",
              "      <th>word</th>\n",
              "      <th>weight</th>\n",
              "    </tr>\n",
              "  </thead>\n",
              "  <tbody>\n",
              "    <tr>\n",
              "      <th>0</th>\n",
              "      <td>putus tali gantung</td>\n",
              "      <td>-2</td>\n",
              "    </tr>\n",
              "    <tr>\n",
              "      <th>1</th>\n",
              "      <td>gelebah</td>\n",
              "      <td>-2</td>\n",
              "    </tr>\n",
              "    <tr>\n",
              "      <th>2</th>\n",
              "      <td>gobar hati</td>\n",
              "      <td>-2</td>\n",
              "    </tr>\n",
              "    <tr>\n",
              "      <th>3</th>\n",
              "      <td>tersentuh (perasaan)</td>\n",
              "      <td>-1</td>\n",
              "    </tr>\n",
              "    <tr>\n",
              "      <th>4</th>\n",
              "      <td>isak</td>\n",
              "      <td>-5</td>\n",
              "    </tr>\n",
              "  </tbody>\n",
              "</table>\n",
              "</div>\n",
              "    <div class=\"colab-df-buttons\">\n",
              "\n",
              "  <div class=\"colab-df-container\">\n",
              "    <button class=\"colab-df-convert\" onclick=\"convertToInteractive('df-5cef31ee-46d8-4a2b-81d0-92a1520b0904')\"\n",
              "            title=\"Convert this dataframe to an interactive table.\"\n",
              "            style=\"display:none;\">\n",
              "\n",
              "  <svg xmlns=\"http://www.w3.org/2000/svg\" height=\"24px\" viewBox=\"0 -960 960 960\">\n",
              "    <path d=\"M120-120v-720h720v720H120Zm60-500h600v-160H180v160Zm220 220h160v-160H400v160Zm0 220h160v-160H400v160ZM180-400h160v-160H180v160Zm440 0h160v-160H620v160ZM180-180h160v-160H180v160Zm440 0h160v-160H620v160Z\"/>\n",
              "  </svg>\n",
              "    </button>\n",
              "\n",
              "  <style>\n",
              "    .colab-df-container {\n",
              "      display:flex;\n",
              "      gap: 12px;\n",
              "    }\n",
              "\n",
              "    .colab-df-convert {\n",
              "      background-color: #E8F0FE;\n",
              "      border: none;\n",
              "      border-radius: 50%;\n",
              "      cursor: pointer;\n",
              "      display: none;\n",
              "      fill: #1967D2;\n",
              "      height: 32px;\n",
              "      padding: 0 0 0 0;\n",
              "      width: 32px;\n",
              "    }\n",
              "\n",
              "    .colab-df-convert:hover {\n",
              "      background-color: #E2EBFA;\n",
              "      box-shadow: 0px 1px 2px rgba(60, 64, 67, 0.3), 0px 1px 3px 1px rgba(60, 64, 67, 0.15);\n",
              "      fill: #174EA6;\n",
              "    }\n",
              "\n",
              "    .colab-df-buttons div {\n",
              "      margin-bottom: 4px;\n",
              "    }\n",
              "\n",
              "    [theme=dark] .colab-df-convert {\n",
              "      background-color: #3B4455;\n",
              "      fill: #D2E3FC;\n",
              "    }\n",
              "\n",
              "    [theme=dark] .colab-df-convert:hover {\n",
              "      background-color: #434B5C;\n",
              "      box-shadow: 0px 1px 3px 1px rgba(0, 0, 0, 0.15);\n",
              "      filter: drop-shadow(0px 1px 2px rgba(0, 0, 0, 0.3));\n",
              "      fill: #FFFFFF;\n",
              "    }\n",
              "  </style>\n",
              "\n",
              "    <script>\n",
              "      const buttonEl =\n",
              "        document.querySelector('#df-5cef31ee-46d8-4a2b-81d0-92a1520b0904 button.colab-df-convert');\n",
              "      buttonEl.style.display =\n",
              "        google.colab.kernel.accessAllowed ? 'block' : 'none';\n",
              "\n",
              "      async function convertToInteractive(key) {\n",
              "        const element = document.querySelector('#df-5cef31ee-46d8-4a2b-81d0-92a1520b0904');\n",
              "        const dataTable =\n",
              "          await google.colab.kernel.invokeFunction('convertToInteractive',\n",
              "                                                    [key], {});\n",
              "        if (!dataTable) return;\n",
              "\n",
              "        const docLinkHtml = 'Like what you see? Visit the ' +\n",
              "          '<a target=\"_blank\" href=https://colab.research.google.com/notebooks/data_table.ipynb>data table notebook</a>'\n",
              "          + ' to learn more about interactive tables.';\n",
              "        element.innerHTML = '';\n",
              "        dataTable['output_type'] = 'display_data';\n",
              "        await google.colab.output.renderOutput(dataTable, element);\n",
              "        const docLink = document.createElement('div');\n",
              "        docLink.innerHTML = docLinkHtml;\n",
              "        element.appendChild(docLink);\n",
              "      }\n",
              "    </script>\n",
              "  </div>\n",
              "\n",
              "\n",
              "    <div id=\"df-69f57b84-d904-4d11-b82f-f2217dd19064\">\n",
              "      <button class=\"colab-df-quickchart\" onclick=\"quickchart('df-69f57b84-d904-4d11-b82f-f2217dd19064')\"\n",
              "                title=\"Suggest charts\"\n",
              "                style=\"display:none;\">\n",
              "\n",
              "<svg xmlns=\"http://www.w3.org/2000/svg\" height=\"24px\"viewBox=\"0 0 24 24\"\n",
              "     width=\"24px\">\n",
              "    <g>\n",
              "        <path d=\"M19 3H5c-1.1 0-2 .9-2 2v14c0 1.1.9 2 2 2h14c1.1 0 2-.9 2-2V5c0-1.1-.9-2-2-2zM9 17H7v-7h2v7zm4 0h-2V7h2v10zm4 0h-2v-4h2v4z\"/>\n",
              "    </g>\n",
              "</svg>\n",
              "      </button>\n",
              "\n",
              "<style>\n",
              "  .colab-df-quickchart {\n",
              "      --bg-color: #E8F0FE;\n",
              "      --fill-color: #1967D2;\n",
              "      --hover-bg-color: #E2EBFA;\n",
              "      --hover-fill-color: #174EA6;\n",
              "      --disabled-fill-color: #AAA;\n",
              "      --disabled-bg-color: #DDD;\n",
              "  }\n",
              "\n",
              "  [theme=dark] .colab-df-quickchart {\n",
              "      --bg-color: #3B4455;\n",
              "      --fill-color: #D2E3FC;\n",
              "      --hover-bg-color: #434B5C;\n",
              "      --hover-fill-color: #FFFFFF;\n",
              "      --disabled-bg-color: #3B4455;\n",
              "      --disabled-fill-color: #666;\n",
              "  }\n",
              "\n",
              "  .colab-df-quickchart {\n",
              "    background-color: var(--bg-color);\n",
              "    border: none;\n",
              "    border-radius: 50%;\n",
              "    cursor: pointer;\n",
              "    display: none;\n",
              "    fill: var(--fill-color);\n",
              "    height: 32px;\n",
              "    padding: 0;\n",
              "    width: 32px;\n",
              "  }\n",
              "\n",
              "  .colab-df-quickchart:hover {\n",
              "    background-color: var(--hover-bg-color);\n",
              "    box-shadow: 0 1px 2px rgba(60, 64, 67, 0.3), 0 1px 3px 1px rgba(60, 64, 67, 0.15);\n",
              "    fill: var(--button-hover-fill-color);\n",
              "  }\n",
              "\n",
              "  .colab-df-quickchart-complete:disabled,\n",
              "  .colab-df-quickchart-complete:disabled:hover {\n",
              "    background-color: var(--disabled-bg-color);\n",
              "    fill: var(--disabled-fill-color);\n",
              "    box-shadow: none;\n",
              "  }\n",
              "\n",
              "  .colab-df-spinner {\n",
              "    border: 2px solid var(--fill-color);\n",
              "    border-color: transparent;\n",
              "    border-bottom-color: var(--fill-color);\n",
              "    animation:\n",
              "      spin 1s steps(1) infinite;\n",
              "  }\n",
              "\n",
              "  @keyframes spin {\n",
              "    0% {\n",
              "      border-color: transparent;\n",
              "      border-bottom-color: var(--fill-color);\n",
              "      border-left-color: var(--fill-color);\n",
              "    }\n",
              "    20% {\n",
              "      border-color: transparent;\n",
              "      border-left-color: var(--fill-color);\n",
              "      border-top-color: var(--fill-color);\n",
              "    }\n",
              "    30% {\n",
              "      border-color: transparent;\n",
              "      border-left-color: var(--fill-color);\n",
              "      border-top-color: var(--fill-color);\n",
              "      border-right-color: var(--fill-color);\n",
              "    }\n",
              "    40% {\n",
              "      border-color: transparent;\n",
              "      border-right-color: var(--fill-color);\n",
              "      border-top-color: var(--fill-color);\n",
              "    }\n",
              "    60% {\n",
              "      border-color: transparent;\n",
              "      border-right-color: var(--fill-color);\n",
              "    }\n",
              "    80% {\n",
              "      border-color: transparent;\n",
              "      border-right-color: var(--fill-color);\n",
              "      border-bottom-color: var(--fill-color);\n",
              "    }\n",
              "    90% {\n",
              "      border-color: transparent;\n",
              "      border-bottom-color: var(--fill-color);\n",
              "    }\n",
              "  }\n",
              "</style>\n",
              "\n",
              "      <script>\n",
              "        async function quickchart(key) {\n",
              "          const quickchartButtonEl =\n",
              "            document.querySelector('#' + key + ' button');\n",
              "          quickchartButtonEl.disabled = true;  // To prevent multiple clicks.\n",
              "          quickchartButtonEl.classList.add('colab-df-spinner');\n",
              "          try {\n",
              "            const charts = await google.colab.kernel.invokeFunction(\n",
              "                'suggestCharts', [key], {});\n",
              "          } catch (error) {\n",
              "            console.error('Error during call to suggestCharts:', error);\n",
              "          }\n",
              "          quickchartButtonEl.classList.remove('colab-df-spinner');\n",
              "          quickchartButtonEl.classList.add('colab-df-quickchart-complete');\n",
              "        }\n",
              "        (() => {\n",
              "          let quickchartButtonEl =\n",
              "            document.querySelector('#df-69f57b84-d904-4d11-b82f-f2217dd19064 button');\n",
              "          quickchartButtonEl.style.display =\n",
              "            google.colab.kernel.accessAllowed ? 'block' : 'none';\n",
              "        })();\n",
              "      </script>\n",
              "    </div>\n",
              "\n",
              "    </div>\n",
              "  </div>\n"
            ],
            "application/vnd.google.colaboratory.intrinsic+json": {
              "type": "dataframe",
              "variable_name": "df_negative",
              "summary": "{\n  \"name\": \"df_negative\",\n  \"rows\": 6609,\n  \"fields\": [\n    {\n      \"column\": \"word\",\n      \"properties\": {\n        \"dtype\": \"string\",\n        \"num_unique_values\": 6607,\n        \"samples\": [\n          \"hatiku\",\n          \"besi tua\",\n          \"geser\"\n        ],\n        \"semantic_type\": \"\",\n        \"description\": \"\"\n      }\n    },\n    {\n      \"column\": \"weight\",\n      \"properties\": {\n        \"dtype\": \"number\",\n        \"std\": 1,\n        \"min\": -5,\n        \"max\": -1,\n        \"num_unique_values\": 5,\n        \"samples\": [\n          -1,\n          -4,\n          -5\n        ],\n        \"semantic_type\": \"\",\n        \"description\": \"\"\n      }\n    }\n  ]\n}"
            }
          },
          "metadata": {},
          "execution_count": 42
        }
      ],
      "source": [
        "#Menampilkan data kata-kata negative\n",
        "df_negative.head()"
      ]
    },
    {
      "cell_type": "code",
      "execution_count": 43,
      "metadata": {
        "colab": {
          "base_uri": "https://localhost:8080/",
          "height": 0
        },
        "id": "HP6-dBBtkCx4",
        "outputId": "4f916855-35aa-4712-9a9c-afeafded2b60"
      },
      "outputs": [
        {
          "output_type": "execute_result",
          "data": {
            "text/plain": [
              "        word  weight\n",
              "0        hai       3\n",
              "1    merekam       2\n",
              "2  ekstensif       3\n",
              "3  paripurna       1\n",
              "4     detail       2"
            ],
            "text/html": [
              "\n",
              "  <div id=\"df-e4688618-aa9e-4cba-8f90-989fec7cbe7e\" class=\"colab-df-container\">\n",
              "    <div>\n",
              "<style scoped>\n",
              "    .dataframe tbody tr th:only-of-type {\n",
              "        vertical-align: middle;\n",
              "    }\n",
              "\n",
              "    .dataframe tbody tr th {\n",
              "        vertical-align: top;\n",
              "    }\n",
              "\n",
              "    .dataframe thead th {\n",
              "        text-align: right;\n",
              "    }\n",
              "</style>\n",
              "<table border=\"1\" class=\"dataframe\">\n",
              "  <thead>\n",
              "    <tr style=\"text-align: right;\">\n",
              "      <th></th>\n",
              "      <th>word</th>\n",
              "      <th>weight</th>\n",
              "    </tr>\n",
              "  </thead>\n",
              "  <tbody>\n",
              "    <tr>\n",
              "      <th>0</th>\n",
              "      <td>hai</td>\n",
              "      <td>3</td>\n",
              "    </tr>\n",
              "    <tr>\n",
              "      <th>1</th>\n",
              "      <td>merekam</td>\n",
              "      <td>2</td>\n",
              "    </tr>\n",
              "    <tr>\n",
              "      <th>2</th>\n",
              "      <td>ekstensif</td>\n",
              "      <td>3</td>\n",
              "    </tr>\n",
              "    <tr>\n",
              "      <th>3</th>\n",
              "      <td>paripurna</td>\n",
              "      <td>1</td>\n",
              "    </tr>\n",
              "    <tr>\n",
              "      <th>4</th>\n",
              "      <td>detail</td>\n",
              "      <td>2</td>\n",
              "    </tr>\n",
              "  </tbody>\n",
              "</table>\n",
              "</div>\n",
              "    <div class=\"colab-df-buttons\">\n",
              "\n",
              "  <div class=\"colab-df-container\">\n",
              "    <button class=\"colab-df-convert\" onclick=\"convertToInteractive('df-e4688618-aa9e-4cba-8f90-989fec7cbe7e')\"\n",
              "            title=\"Convert this dataframe to an interactive table.\"\n",
              "            style=\"display:none;\">\n",
              "\n",
              "  <svg xmlns=\"http://www.w3.org/2000/svg\" height=\"24px\" viewBox=\"0 -960 960 960\">\n",
              "    <path d=\"M120-120v-720h720v720H120Zm60-500h600v-160H180v160Zm220 220h160v-160H400v160Zm0 220h160v-160H400v160ZM180-400h160v-160H180v160Zm440 0h160v-160H620v160ZM180-180h160v-160H180v160Zm440 0h160v-160H620v160Z\"/>\n",
              "  </svg>\n",
              "    </button>\n",
              "\n",
              "  <style>\n",
              "    .colab-df-container {\n",
              "      display:flex;\n",
              "      gap: 12px;\n",
              "    }\n",
              "\n",
              "    .colab-df-convert {\n",
              "      background-color: #E8F0FE;\n",
              "      border: none;\n",
              "      border-radius: 50%;\n",
              "      cursor: pointer;\n",
              "      display: none;\n",
              "      fill: #1967D2;\n",
              "      height: 32px;\n",
              "      padding: 0 0 0 0;\n",
              "      width: 32px;\n",
              "    }\n",
              "\n",
              "    .colab-df-convert:hover {\n",
              "      background-color: #E2EBFA;\n",
              "      box-shadow: 0px 1px 2px rgba(60, 64, 67, 0.3), 0px 1px 3px 1px rgba(60, 64, 67, 0.15);\n",
              "      fill: #174EA6;\n",
              "    }\n",
              "\n",
              "    .colab-df-buttons div {\n",
              "      margin-bottom: 4px;\n",
              "    }\n",
              "\n",
              "    [theme=dark] .colab-df-convert {\n",
              "      background-color: #3B4455;\n",
              "      fill: #D2E3FC;\n",
              "    }\n",
              "\n",
              "    [theme=dark] .colab-df-convert:hover {\n",
              "      background-color: #434B5C;\n",
              "      box-shadow: 0px 1px 3px 1px rgba(0, 0, 0, 0.15);\n",
              "      filter: drop-shadow(0px 1px 2px rgba(0, 0, 0, 0.3));\n",
              "      fill: #FFFFFF;\n",
              "    }\n",
              "  </style>\n",
              "\n",
              "    <script>\n",
              "      const buttonEl =\n",
              "        document.querySelector('#df-e4688618-aa9e-4cba-8f90-989fec7cbe7e button.colab-df-convert');\n",
              "      buttonEl.style.display =\n",
              "        google.colab.kernel.accessAllowed ? 'block' : 'none';\n",
              "\n",
              "      async function convertToInteractive(key) {\n",
              "        const element = document.querySelector('#df-e4688618-aa9e-4cba-8f90-989fec7cbe7e');\n",
              "        const dataTable =\n",
              "          await google.colab.kernel.invokeFunction('convertToInteractive',\n",
              "                                                    [key], {});\n",
              "        if (!dataTable) return;\n",
              "\n",
              "        const docLinkHtml = 'Like what you see? Visit the ' +\n",
              "          '<a target=\"_blank\" href=https://colab.research.google.com/notebooks/data_table.ipynb>data table notebook</a>'\n",
              "          + ' to learn more about interactive tables.';\n",
              "        element.innerHTML = '';\n",
              "        dataTable['output_type'] = 'display_data';\n",
              "        await google.colab.output.renderOutput(dataTable, element);\n",
              "        const docLink = document.createElement('div');\n",
              "        docLink.innerHTML = docLinkHtml;\n",
              "        element.appendChild(docLink);\n",
              "      }\n",
              "    </script>\n",
              "  </div>\n",
              "\n",
              "\n",
              "    <div id=\"df-31b0684f-ad63-48aa-90d1-f3a69a217511\">\n",
              "      <button class=\"colab-df-quickchart\" onclick=\"quickchart('df-31b0684f-ad63-48aa-90d1-f3a69a217511')\"\n",
              "                title=\"Suggest charts\"\n",
              "                style=\"display:none;\">\n",
              "\n",
              "<svg xmlns=\"http://www.w3.org/2000/svg\" height=\"24px\"viewBox=\"0 0 24 24\"\n",
              "     width=\"24px\">\n",
              "    <g>\n",
              "        <path d=\"M19 3H5c-1.1 0-2 .9-2 2v14c0 1.1.9 2 2 2h14c1.1 0 2-.9 2-2V5c0-1.1-.9-2-2-2zM9 17H7v-7h2v7zm4 0h-2V7h2v10zm4 0h-2v-4h2v4z\"/>\n",
              "    </g>\n",
              "</svg>\n",
              "      </button>\n",
              "\n",
              "<style>\n",
              "  .colab-df-quickchart {\n",
              "      --bg-color: #E8F0FE;\n",
              "      --fill-color: #1967D2;\n",
              "      --hover-bg-color: #E2EBFA;\n",
              "      --hover-fill-color: #174EA6;\n",
              "      --disabled-fill-color: #AAA;\n",
              "      --disabled-bg-color: #DDD;\n",
              "  }\n",
              "\n",
              "  [theme=dark] .colab-df-quickchart {\n",
              "      --bg-color: #3B4455;\n",
              "      --fill-color: #D2E3FC;\n",
              "      --hover-bg-color: #434B5C;\n",
              "      --hover-fill-color: #FFFFFF;\n",
              "      --disabled-bg-color: #3B4455;\n",
              "      --disabled-fill-color: #666;\n",
              "  }\n",
              "\n",
              "  .colab-df-quickchart {\n",
              "    background-color: var(--bg-color);\n",
              "    border: none;\n",
              "    border-radius: 50%;\n",
              "    cursor: pointer;\n",
              "    display: none;\n",
              "    fill: var(--fill-color);\n",
              "    height: 32px;\n",
              "    padding: 0;\n",
              "    width: 32px;\n",
              "  }\n",
              "\n",
              "  .colab-df-quickchart:hover {\n",
              "    background-color: var(--hover-bg-color);\n",
              "    box-shadow: 0 1px 2px rgba(60, 64, 67, 0.3), 0 1px 3px 1px rgba(60, 64, 67, 0.15);\n",
              "    fill: var(--button-hover-fill-color);\n",
              "  }\n",
              "\n",
              "  .colab-df-quickchart-complete:disabled,\n",
              "  .colab-df-quickchart-complete:disabled:hover {\n",
              "    background-color: var(--disabled-bg-color);\n",
              "    fill: var(--disabled-fill-color);\n",
              "    box-shadow: none;\n",
              "  }\n",
              "\n",
              "  .colab-df-spinner {\n",
              "    border: 2px solid var(--fill-color);\n",
              "    border-color: transparent;\n",
              "    border-bottom-color: var(--fill-color);\n",
              "    animation:\n",
              "      spin 1s steps(1) infinite;\n",
              "  }\n",
              "\n",
              "  @keyframes spin {\n",
              "    0% {\n",
              "      border-color: transparent;\n",
              "      border-bottom-color: var(--fill-color);\n",
              "      border-left-color: var(--fill-color);\n",
              "    }\n",
              "    20% {\n",
              "      border-color: transparent;\n",
              "      border-left-color: var(--fill-color);\n",
              "      border-top-color: var(--fill-color);\n",
              "    }\n",
              "    30% {\n",
              "      border-color: transparent;\n",
              "      border-left-color: var(--fill-color);\n",
              "      border-top-color: var(--fill-color);\n",
              "      border-right-color: var(--fill-color);\n",
              "    }\n",
              "    40% {\n",
              "      border-color: transparent;\n",
              "      border-right-color: var(--fill-color);\n",
              "      border-top-color: var(--fill-color);\n",
              "    }\n",
              "    60% {\n",
              "      border-color: transparent;\n",
              "      border-right-color: var(--fill-color);\n",
              "    }\n",
              "    80% {\n",
              "      border-color: transparent;\n",
              "      border-right-color: var(--fill-color);\n",
              "      border-bottom-color: var(--fill-color);\n",
              "    }\n",
              "    90% {\n",
              "      border-color: transparent;\n",
              "      border-bottom-color: var(--fill-color);\n",
              "    }\n",
              "  }\n",
              "</style>\n",
              "\n",
              "      <script>\n",
              "        async function quickchart(key) {\n",
              "          const quickchartButtonEl =\n",
              "            document.querySelector('#' + key + ' button');\n",
              "          quickchartButtonEl.disabled = true;  // To prevent multiple clicks.\n",
              "          quickchartButtonEl.classList.add('colab-df-spinner');\n",
              "          try {\n",
              "            const charts = await google.colab.kernel.invokeFunction(\n",
              "                'suggestCharts', [key], {});\n",
              "          } catch (error) {\n",
              "            console.error('Error during call to suggestCharts:', error);\n",
              "          }\n",
              "          quickchartButtonEl.classList.remove('colab-df-spinner');\n",
              "          quickchartButtonEl.classList.add('colab-df-quickchart-complete');\n",
              "        }\n",
              "        (() => {\n",
              "          let quickchartButtonEl =\n",
              "            document.querySelector('#df-31b0684f-ad63-48aa-90d1-f3a69a217511 button');\n",
              "          quickchartButtonEl.style.display =\n",
              "            google.colab.kernel.accessAllowed ? 'block' : 'none';\n",
              "        })();\n",
              "      </script>\n",
              "    </div>\n",
              "\n",
              "    </div>\n",
              "  </div>\n"
            ],
            "application/vnd.google.colaboratory.intrinsic+json": {
              "type": "dataframe",
              "variable_name": "df_positive",
              "summary": "{\n  \"name\": \"df_positive\",\n  \"rows\": 3609,\n  \"fields\": [\n    {\n      \"column\": \"word\",\n      \"properties\": {\n        \"dtype\": \"string\",\n        \"num_unique_values\": 3609,\n        \"samples\": [\n          \"bayang-bayang\",\n          \"maimun\",\n          \"komplet\"\n        ],\n        \"semantic_type\": \"\",\n        \"description\": \"\"\n      }\n    },\n    {\n      \"column\": \"weight\",\n      \"properties\": {\n        \"dtype\": \"number\",\n        \"std\": 1,\n        \"min\": 1,\n        \"max\": 5,\n        \"num_unique_values\": 5,\n        \"samples\": [\n          2,\n          5,\n          1\n        ],\n        \"semantic_type\": \"\",\n        \"description\": \"\"\n      }\n    }\n  ]\n}"
            }
          },
          "metadata": {},
          "execution_count": 43
        }
      ],
      "source": [
        "#Menampilkan data kata-kata positive\n",
        "df_positive.head()"
      ]
    },
    {
      "cell_type": "code",
      "execution_count": 44,
      "metadata": {
        "id": "IoZkekfokGuN"
      },
      "outputs": [],
      "source": [
        "#Cleaning dataset kata positive dan negative\n",
        "positive_words = set(df_positive['word'].str.strip().dropna())\n",
        "negative_words = set(df_negative['word'].str.strip().dropna())"
      ]
    },
    {
      "cell_type": "code",
      "execution_count": 45,
      "metadata": {
        "colab": {
          "base_uri": "https://localhost:8080/"
        },
        "id": "8xHkD29RkM-z",
        "outputId": "67393c1f-69de-4632-c8b4-29565bda2255"
      },
      "outputs": [
        {
          "output_type": "stream",
          "name": "stdout",
          "text": [
            "Pelabelan sentimen selesai dan disimpan pada 'data_bersih_berlabel.csv'\n"
          ]
        }
      ],
      "source": [
        "# Fungsi pelabelan sentimen dengan skor lexikon\n",
        "def lexicon_sentiment_scoring(token_list):\n",
        "    score = 0\n",
        "    for token in token_list:\n",
        "        if token in positive_words:\n",
        "            score += 1\n",
        "        elif token in negative_words:\n",
        "            score -= 1\n",
        "    if score > 0:\n",
        "        label = 'positif'\n",
        "    elif score < 0:\n",
        "        label = 'negatif'\n",
        "    else:\n",
        "        label = 'netral'\n",
        "    return label, score\n",
        "\n",
        "df_bersih['sentiment_result'] = df_bersih['stopword_removal'].apply(lexicon_sentiment_scoring)\n",
        "df_bersih[['sentiment_label', 'sentiment_score']] = pd.DataFrame(df_bersih['sentiment_result'].tolist(), index=df_bersih.index)\n",
        "df_bersih.drop(columns=['sentiment_result'], inplace=True)\n",
        "df_bersih.to_csv('data_bersih_berlabel.csv', index=False, encoding='utf-8')\n",
        "\n",
        "print(\"Pelabelan sentimen selesai dan disimpan pada 'data_bersih_berlabel.csv'\")"
      ]
    },
    {
      "cell_type": "code",
      "execution_count": 46,
      "metadata": {
        "id": "5VGL1QpZkP5z"
      },
      "outputs": [],
      "source": [
        "ulasan = pd.read_csv('data_bersih_berlabel.csv')"
      ]
    },
    {
      "cell_type": "code",
      "execution_count": 47,
      "metadata": {
        "colab": {
          "base_uri": "https://localhost:8080/"
        },
        "id": "3o79YDXNm_yv",
        "outputId": "7e416473-6fe2-4bd3-92d4-2c432def0ccd"
      },
      "outputs": [
        {
          "output_type": "stream",
          "name": "stdout",
          "text": [
            "\n",
            "Missing Values setelah dilakukan cleaning:\n",
            "content             0\n",
            "score               0\n",
            "word_count          0\n",
            "clean_content       0\n",
            "casefold_content    0\n",
            "tokens              0\n",
            "stemmed_tokens      0\n",
            "tokens_negation     0\n",
            "tokens_slang        0\n",
            "stopword_removal    0\n",
            "sentiment_label     0\n",
            "sentiment_score     0\n",
            "dtype: int64\n"
          ]
        }
      ],
      "source": [
        "print(\"\\nMissing Values setelah dilakukan cleaning:\")\n",
        "print(ulasan.isnull().sum())"
      ]
    },
    {
      "cell_type": "code",
      "execution_count": 48,
      "metadata": {
        "colab": {
          "base_uri": "https://localhost:8080/",
          "height": 0
        },
        "id": "gmyps0mUkYMq",
        "outputId": "596dadd7-dbea-4837-9f66-1c422e04ffd8"
      },
      "outputs": [
        {
          "output_type": "execute_result",
          "data": {
            "text/plain": [
              "                                             content  score  word_count  \\\n",
              "0     Tambahin fitur keamanannnya dong bang operator      2           6   \n",
              "1                                        Sangat baik      3           2   \n",
              "2  whatsapp sangat membantu saya dalam berkomunikasi      5           6   \n",
              "3                                                Top      4           1   \n",
              "4                                                 Ok      5           1   \n",
              "\n",
              "                                       clean_content  \\\n",
              "0     Tambahin fitur keamanannnya dong bang operator   \n",
              "1                                        Sangat baik   \n",
              "2  whatsapp sangat membantu saya dalam berkomunikasi   \n",
              "3                                                Top   \n",
              "4                                                 Ok   \n",
              "\n",
              "                                    casefold_content  \\\n",
              "0     tambahin fitur keamanannnya dong bang operator   \n",
              "1                                        sangat baik   \n",
              "2  whatsapp sangat membantu saya dalam berkomunikasi   \n",
              "3                                                top   \n",
              "4                                                 ok   \n",
              "\n",
              "                                              tokens  \\\n",
              "0  ['tambahin', 'fitur', 'keamanannnya', 'dong', ...   \n",
              "1                                 ['sangat', 'baik']   \n",
              "2  ['whatsapp', 'sangat', 'membantu', 'saya', 'da...   \n",
              "3                                            ['top']   \n",
              "4                                             ['ok']   \n",
              "\n",
              "                                      stemmed_tokens  \\\n",
              "0  ['tambahin', 'fitur', 'keamanannnya', 'dong', ...   \n",
              "1                                 ['sangat', 'baik']   \n",
              "2  ['whatsapp', 'sangat', 'bantu', 'saya', 'dalam...   \n",
              "3                                            ['top']   \n",
              "4                                             ['ok']   \n",
              "\n",
              "                                     tokens_negation  \\\n",
              "0  ['tambahin', 'fitur', 'keamanannnya', 'dong', ...   \n",
              "1                                 ['sangat', 'baik']   \n",
              "2  ['whatsapp', 'sangat', 'bantu', 'saya', 'dalam...   \n",
              "3                                            ['top']   \n",
              "4                                             ['ok']   \n",
              "\n",
              "                                        tokens_slang  \\\n",
              "0  ['tambah', 'fitur', 'keamanannnya', 'dong', 'b...   \n",
              "1                                 ['sangat', 'baik']   \n",
              "2  ['whatsapp', 'sangat', 'bantu', 'saya', 'dalam...   \n",
              "3                                            ['top']   \n",
              "4                                             ['ok']   \n",
              "\n",
              "                                stopword_removal sentiment_label  \\\n",
              "0  ['fitur', 'keamanannnya', 'bang', 'operator']          netral   \n",
              "1                                             []          netral   \n",
              "2            ['whatsapp', 'bantu', 'komunikasi']         positif   \n",
              "3                                        ['top']         positif   \n",
              "4                                         ['ok']         positif   \n",
              "\n",
              "   sentiment_score  \n",
              "0                0  \n",
              "1                0  \n",
              "2                2  \n",
              "3                1  \n",
              "4                1  "
            ],
            "text/html": [
              "\n",
              "  <div id=\"df-0866990a-d3e4-4a60-bfbc-340d6ea95fbe\" class=\"colab-df-container\">\n",
              "    <div>\n",
              "<style scoped>\n",
              "    .dataframe tbody tr th:only-of-type {\n",
              "        vertical-align: middle;\n",
              "    }\n",
              "\n",
              "    .dataframe tbody tr th {\n",
              "        vertical-align: top;\n",
              "    }\n",
              "\n",
              "    .dataframe thead th {\n",
              "        text-align: right;\n",
              "    }\n",
              "</style>\n",
              "<table border=\"1\" class=\"dataframe\">\n",
              "  <thead>\n",
              "    <tr style=\"text-align: right;\">\n",
              "      <th></th>\n",
              "      <th>content</th>\n",
              "      <th>score</th>\n",
              "      <th>word_count</th>\n",
              "      <th>clean_content</th>\n",
              "      <th>casefold_content</th>\n",
              "      <th>tokens</th>\n",
              "      <th>stemmed_tokens</th>\n",
              "      <th>tokens_negation</th>\n",
              "      <th>tokens_slang</th>\n",
              "      <th>stopword_removal</th>\n",
              "      <th>sentiment_label</th>\n",
              "      <th>sentiment_score</th>\n",
              "    </tr>\n",
              "  </thead>\n",
              "  <tbody>\n",
              "    <tr>\n",
              "      <th>0</th>\n",
              "      <td>Tambahin fitur keamanannnya dong bang operator</td>\n",
              "      <td>2</td>\n",
              "      <td>6</td>\n",
              "      <td>Tambahin fitur keamanannnya dong bang operator</td>\n",
              "      <td>tambahin fitur keamanannnya dong bang operator</td>\n",
              "      <td>['tambahin', 'fitur', 'keamanannnya', 'dong', ...</td>\n",
              "      <td>['tambahin', 'fitur', 'keamanannnya', 'dong', ...</td>\n",
              "      <td>['tambahin', 'fitur', 'keamanannnya', 'dong', ...</td>\n",
              "      <td>['tambah', 'fitur', 'keamanannnya', 'dong', 'b...</td>\n",
              "      <td>['fitur', 'keamanannnya', 'bang', 'operator']</td>\n",
              "      <td>netral</td>\n",
              "      <td>0</td>\n",
              "    </tr>\n",
              "    <tr>\n",
              "      <th>1</th>\n",
              "      <td>Sangat baik</td>\n",
              "      <td>3</td>\n",
              "      <td>2</td>\n",
              "      <td>Sangat baik</td>\n",
              "      <td>sangat baik</td>\n",
              "      <td>['sangat', 'baik']</td>\n",
              "      <td>['sangat', 'baik']</td>\n",
              "      <td>['sangat', 'baik']</td>\n",
              "      <td>['sangat', 'baik']</td>\n",
              "      <td>[]</td>\n",
              "      <td>netral</td>\n",
              "      <td>0</td>\n",
              "    </tr>\n",
              "    <tr>\n",
              "      <th>2</th>\n",
              "      <td>whatsapp sangat membantu saya dalam berkomunikasi</td>\n",
              "      <td>5</td>\n",
              "      <td>6</td>\n",
              "      <td>whatsapp sangat membantu saya dalam berkomunikasi</td>\n",
              "      <td>whatsapp sangat membantu saya dalam berkomunikasi</td>\n",
              "      <td>['whatsapp', 'sangat', 'membantu', 'saya', 'da...</td>\n",
              "      <td>['whatsapp', 'sangat', 'bantu', 'saya', 'dalam...</td>\n",
              "      <td>['whatsapp', 'sangat', 'bantu', 'saya', 'dalam...</td>\n",
              "      <td>['whatsapp', 'sangat', 'bantu', 'saya', 'dalam...</td>\n",
              "      <td>['whatsapp', 'bantu', 'komunikasi']</td>\n",
              "      <td>positif</td>\n",
              "      <td>2</td>\n",
              "    </tr>\n",
              "    <tr>\n",
              "      <th>3</th>\n",
              "      <td>Top</td>\n",
              "      <td>4</td>\n",
              "      <td>1</td>\n",
              "      <td>Top</td>\n",
              "      <td>top</td>\n",
              "      <td>['top']</td>\n",
              "      <td>['top']</td>\n",
              "      <td>['top']</td>\n",
              "      <td>['top']</td>\n",
              "      <td>['top']</td>\n",
              "      <td>positif</td>\n",
              "      <td>1</td>\n",
              "    </tr>\n",
              "    <tr>\n",
              "      <th>4</th>\n",
              "      <td>Ok</td>\n",
              "      <td>5</td>\n",
              "      <td>1</td>\n",
              "      <td>Ok</td>\n",
              "      <td>ok</td>\n",
              "      <td>['ok']</td>\n",
              "      <td>['ok']</td>\n",
              "      <td>['ok']</td>\n",
              "      <td>['ok']</td>\n",
              "      <td>['ok']</td>\n",
              "      <td>positif</td>\n",
              "      <td>1</td>\n",
              "    </tr>\n",
              "  </tbody>\n",
              "</table>\n",
              "</div>\n",
              "    <div class=\"colab-df-buttons\">\n",
              "\n",
              "  <div class=\"colab-df-container\">\n",
              "    <button class=\"colab-df-convert\" onclick=\"convertToInteractive('df-0866990a-d3e4-4a60-bfbc-340d6ea95fbe')\"\n",
              "            title=\"Convert this dataframe to an interactive table.\"\n",
              "            style=\"display:none;\">\n",
              "\n",
              "  <svg xmlns=\"http://www.w3.org/2000/svg\" height=\"24px\" viewBox=\"0 -960 960 960\">\n",
              "    <path d=\"M120-120v-720h720v720H120Zm60-500h600v-160H180v160Zm220 220h160v-160H400v160Zm0 220h160v-160H400v160ZM180-400h160v-160H180v160Zm440 0h160v-160H620v160ZM180-180h160v-160H180v160Zm440 0h160v-160H620v160Z\"/>\n",
              "  </svg>\n",
              "    </button>\n",
              "\n",
              "  <style>\n",
              "    .colab-df-container {\n",
              "      display:flex;\n",
              "      gap: 12px;\n",
              "    }\n",
              "\n",
              "    .colab-df-convert {\n",
              "      background-color: #E8F0FE;\n",
              "      border: none;\n",
              "      border-radius: 50%;\n",
              "      cursor: pointer;\n",
              "      display: none;\n",
              "      fill: #1967D2;\n",
              "      height: 32px;\n",
              "      padding: 0 0 0 0;\n",
              "      width: 32px;\n",
              "    }\n",
              "\n",
              "    .colab-df-convert:hover {\n",
              "      background-color: #E2EBFA;\n",
              "      box-shadow: 0px 1px 2px rgba(60, 64, 67, 0.3), 0px 1px 3px 1px rgba(60, 64, 67, 0.15);\n",
              "      fill: #174EA6;\n",
              "    }\n",
              "\n",
              "    .colab-df-buttons div {\n",
              "      margin-bottom: 4px;\n",
              "    }\n",
              "\n",
              "    [theme=dark] .colab-df-convert {\n",
              "      background-color: #3B4455;\n",
              "      fill: #D2E3FC;\n",
              "    }\n",
              "\n",
              "    [theme=dark] .colab-df-convert:hover {\n",
              "      background-color: #434B5C;\n",
              "      box-shadow: 0px 1px 3px 1px rgba(0, 0, 0, 0.15);\n",
              "      filter: drop-shadow(0px 1px 2px rgba(0, 0, 0, 0.3));\n",
              "      fill: #FFFFFF;\n",
              "    }\n",
              "  </style>\n",
              "\n",
              "    <script>\n",
              "      const buttonEl =\n",
              "        document.querySelector('#df-0866990a-d3e4-4a60-bfbc-340d6ea95fbe button.colab-df-convert');\n",
              "      buttonEl.style.display =\n",
              "        google.colab.kernel.accessAllowed ? 'block' : 'none';\n",
              "\n",
              "      async function convertToInteractive(key) {\n",
              "        const element = document.querySelector('#df-0866990a-d3e4-4a60-bfbc-340d6ea95fbe');\n",
              "        const dataTable =\n",
              "          await google.colab.kernel.invokeFunction('convertToInteractive',\n",
              "                                                    [key], {});\n",
              "        if (!dataTable) return;\n",
              "\n",
              "        const docLinkHtml = 'Like what you see? Visit the ' +\n",
              "          '<a target=\"_blank\" href=https://colab.research.google.com/notebooks/data_table.ipynb>data table notebook</a>'\n",
              "          + ' to learn more about interactive tables.';\n",
              "        element.innerHTML = '';\n",
              "        dataTable['output_type'] = 'display_data';\n",
              "        await google.colab.output.renderOutput(dataTable, element);\n",
              "        const docLink = document.createElement('div');\n",
              "        docLink.innerHTML = docLinkHtml;\n",
              "        element.appendChild(docLink);\n",
              "      }\n",
              "    </script>\n",
              "  </div>\n",
              "\n",
              "\n",
              "    <div id=\"df-e568d7c8-7d30-4bf7-97b5-2bd4cf39c194\">\n",
              "      <button class=\"colab-df-quickchart\" onclick=\"quickchart('df-e568d7c8-7d30-4bf7-97b5-2bd4cf39c194')\"\n",
              "                title=\"Suggest charts\"\n",
              "                style=\"display:none;\">\n",
              "\n",
              "<svg xmlns=\"http://www.w3.org/2000/svg\" height=\"24px\"viewBox=\"0 0 24 24\"\n",
              "     width=\"24px\">\n",
              "    <g>\n",
              "        <path d=\"M19 3H5c-1.1 0-2 .9-2 2v14c0 1.1.9 2 2 2h14c1.1 0 2-.9 2-2V5c0-1.1-.9-2-2-2zM9 17H7v-7h2v7zm4 0h-2V7h2v10zm4 0h-2v-4h2v4z\"/>\n",
              "    </g>\n",
              "</svg>\n",
              "      </button>\n",
              "\n",
              "<style>\n",
              "  .colab-df-quickchart {\n",
              "      --bg-color: #E8F0FE;\n",
              "      --fill-color: #1967D2;\n",
              "      --hover-bg-color: #E2EBFA;\n",
              "      --hover-fill-color: #174EA6;\n",
              "      --disabled-fill-color: #AAA;\n",
              "      --disabled-bg-color: #DDD;\n",
              "  }\n",
              "\n",
              "  [theme=dark] .colab-df-quickchart {\n",
              "      --bg-color: #3B4455;\n",
              "      --fill-color: #D2E3FC;\n",
              "      --hover-bg-color: #434B5C;\n",
              "      --hover-fill-color: #FFFFFF;\n",
              "      --disabled-bg-color: #3B4455;\n",
              "      --disabled-fill-color: #666;\n",
              "  }\n",
              "\n",
              "  .colab-df-quickchart {\n",
              "    background-color: var(--bg-color);\n",
              "    border: none;\n",
              "    border-radius: 50%;\n",
              "    cursor: pointer;\n",
              "    display: none;\n",
              "    fill: var(--fill-color);\n",
              "    height: 32px;\n",
              "    padding: 0;\n",
              "    width: 32px;\n",
              "  }\n",
              "\n",
              "  .colab-df-quickchart:hover {\n",
              "    background-color: var(--hover-bg-color);\n",
              "    box-shadow: 0 1px 2px rgba(60, 64, 67, 0.3), 0 1px 3px 1px rgba(60, 64, 67, 0.15);\n",
              "    fill: var(--button-hover-fill-color);\n",
              "  }\n",
              "\n",
              "  .colab-df-quickchart-complete:disabled,\n",
              "  .colab-df-quickchart-complete:disabled:hover {\n",
              "    background-color: var(--disabled-bg-color);\n",
              "    fill: var(--disabled-fill-color);\n",
              "    box-shadow: none;\n",
              "  }\n",
              "\n",
              "  .colab-df-spinner {\n",
              "    border: 2px solid var(--fill-color);\n",
              "    border-color: transparent;\n",
              "    border-bottom-color: var(--fill-color);\n",
              "    animation:\n",
              "      spin 1s steps(1) infinite;\n",
              "  }\n",
              "\n",
              "  @keyframes spin {\n",
              "    0% {\n",
              "      border-color: transparent;\n",
              "      border-bottom-color: var(--fill-color);\n",
              "      border-left-color: var(--fill-color);\n",
              "    }\n",
              "    20% {\n",
              "      border-color: transparent;\n",
              "      border-left-color: var(--fill-color);\n",
              "      border-top-color: var(--fill-color);\n",
              "    }\n",
              "    30% {\n",
              "      border-color: transparent;\n",
              "      border-left-color: var(--fill-color);\n",
              "      border-top-color: var(--fill-color);\n",
              "      border-right-color: var(--fill-color);\n",
              "    }\n",
              "    40% {\n",
              "      border-color: transparent;\n",
              "      border-right-color: var(--fill-color);\n",
              "      border-top-color: var(--fill-color);\n",
              "    }\n",
              "    60% {\n",
              "      border-color: transparent;\n",
              "      border-right-color: var(--fill-color);\n",
              "    }\n",
              "    80% {\n",
              "      border-color: transparent;\n",
              "      border-right-color: var(--fill-color);\n",
              "      border-bottom-color: var(--fill-color);\n",
              "    }\n",
              "    90% {\n",
              "      border-color: transparent;\n",
              "      border-bottom-color: var(--fill-color);\n",
              "    }\n",
              "  }\n",
              "</style>\n",
              "\n",
              "      <script>\n",
              "        async function quickchart(key) {\n",
              "          const quickchartButtonEl =\n",
              "            document.querySelector('#' + key + ' button');\n",
              "          quickchartButtonEl.disabled = true;  // To prevent multiple clicks.\n",
              "          quickchartButtonEl.classList.add('colab-df-spinner');\n",
              "          try {\n",
              "            const charts = await google.colab.kernel.invokeFunction(\n",
              "                'suggestCharts', [key], {});\n",
              "          } catch (error) {\n",
              "            console.error('Error during call to suggestCharts:', error);\n",
              "          }\n",
              "          quickchartButtonEl.classList.remove('colab-df-spinner');\n",
              "          quickchartButtonEl.classList.add('colab-df-quickchart-complete');\n",
              "        }\n",
              "        (() => {\n",
              "          let quickchartButtonEl =\n",
              "            document.querySelector('#df-e568d7c8-7d30-4bf7-97b5-2bd4cf39c194 button');\n",
              "          quickchartButtonEl.style.display =\n",
              "            google.colab.kernel.accessAllowed ? 'block' : 'none';\n",
              "        })();\n",
              "      </script>\n",
              "    </div>\n",
              "\n",
              "    </div>\n",
              "  </div>\n"
            ],
            "application/vnd.google.colaboratory.intrinsic+json": {
              "type": "dataframe",
              "variable_name": "ulasan",
              "summary": "{\n  \"name\": \"ulasan\",\n  \"rows\": 19996,\n  \"fields\": [\n    {\n      \"column\": \"content\",\n      \"properties\": {\n        \"dtype\": \"string\",\n        \"num_unique_values\": 14267,\n        \"samples\": [\n          \"\\ud83e\\udd1d\\ud83c\\uddf9\\ud83c\\uddf1\\ud83c\\uddf9\\ud83c\\uddf1\",\n          \"Aplikasi WhatsApp saya sudah versi terbaru tapi Meta Ai belum juga muncul. Padahal saya sudah mengirim pesan ke pusat bantuan dan hasilnya nihil jadi tolong untuk sediakan Meta Ai di aplikasi WhatsApp saya.Terimakasih\",\n          \"Wa saya tiba\\u00b2 ada pemberitahuan update, pas update ngulang terus\"\n        ],\n        \"semantic_type\": \"\",\n        \"description\": \"\"\n      }\n    },\n    {\n      \"column\": \"score\",\n      \"properties\": {\n        \"dtype\": \"number\",\n        \"std\": 1,\n        \"min\": 1,\n        \"max\": 5,\n        \"num_unique_values\": 5,\n        \"samples\": [\n          3,\n          1,\n          5\n        ],\n        \"semantic_type\": \"\",\n        \"description\": \"\"\n      }\n    },\n    {\n      \"column\": \"word_count\",\n      \"properties\": {\n        \"dtype\": \"number\",\n        \"std\": 10,\n        \"min\": 1,\n        \"max\": 101,\n        \"num_unique_values\": 91,\n        \"samples\": [\n          36,\n          21,\n          58\n        ],\n        \"semantic_type\": \"\",\n        \"description\": \"\"\n      }\n    },\n    {\n      \"column\": \"clean_content\",\n      \"properties\": {\n        \"dtype\": \"string\",\n        \"num_unique_values\": 14164,\n        \"samples\": [\n          \"knpa ini tiba lag waktu pemutaran video padahal udh di download biasanya klw udh di download klw vidio di putar itu lancar tpi kok ini mutarngelag waktu ku coba putar videonya\",\n          \"Sangat bagus aku suka bangat\",\n          \"Selalu kena spam dari pihak whapsapp\"\n        ],\n        \"semantic_type\": \"\",\n        \"description\": \"\"\n      }\n    },\n    {\n      \"column\": \"casefold_content\",\n      \"properties\": {\n        \"dtype\": \"string\",\n        \"num_unique_values\": 13791,\n        \"samples\": [\n          \"mohon bantuan nya buat pihak whatsap kenapa whatsap saya slalu kenak spam sementara sya tidak prnah melanggar aturan pihak whatsap tolong di perbaiki secepatnya\",\n          \"membantu bisnis jadi mudah\",\n          \"berilah saya petunjuk untuk memperbaru whatshapnya dan jangan dipersulit\"\n        ],\n        \"semantic_type\": \"\",\n        \"description\": \"\"\n      }\n    },\n    {\n      \"column\": \"tokens\",\n      \"properties\": {\n        \"dtype\": \"string\",\n        \"num_unique_values\": 13791,\n        \"samples\": [\n          \"['mohon', 'bantuan', 'nya', 'buat', 'pihak', 'whatsap', 'kenapa', 'whatsap', 'saya', 'slalu', 'kenak', 'spam', 'sementara', 'sya', 'tidak', 'prnah', 'melanggar', 'aturan', 'pihak', 'whatsap', 'tolong', 'di', 'perbaiki', 'secepatnya']\",\n          \"['membantu', 'bisnis', 'jadi', 'mudah']\",\n          \"['berilah', 'saya', 'petunjuk', 'untuk', 'memperbaru', 'whatshapnya', 'dan', 'jangan', 'dipersulit']\"\n        ],\n        \"semantic_type\": \"\",\n        \"description\": \"\"\n      }\n    },\n    {\n      \"column\": \"stemmed_tokens\",\n      \"properties\": {\n        \"dtype\": \"string\",\n        \"num_unique_values\": 13446,\n        \"samples\": [\n          \"['knpa', 'wa', 'saya', 'blom', 'ada', 'meta', 'ai', 'nya', 'ya', 'min']\",\n          \"['bagus', 'banget', 'apk', 'ini']\",\n          \"['gas']\"\n        ],\n        \"semantic_type\": \"\",\n        \"description\": \"\"\n      }\n    },\n    {\n      \"column\": \"tokens_negation\",\n      \"properties\": {\n        \"dtype\": \"string\",\n        \"num_unique_values\": 13446,\n        \"samples\": [\n          \"['knpa', 'wa', 'saya', 'blom', 'ada', 'meta', 'ai', 'nya', 'ya', 'min']\",\n          \"['bagus', 'banget', 'apk', 'ini']\",\n          \"['gas']\"\n        ],\n        \"semantic_type\": \"\",\n        \"description\": \"\"\n      }\n    },\n    {\n      \"column\": \"tokens_slang\",\n      \"properties\": {\n        \"dtype\": \"string\",\n        \"num_unique_values\": 13273,\n        \"samples\": [\n          \"['terlalu', 'tebet', 'wasap', 'sekarang']\",\n          \"['aplikasi', 'ini', 'seperti', 'jauh', 'lebih', 'unggul']\",\n          \"['aplikasi', 'tidak jelas', 'masa', 'cewek', 'ga', 'ada', 'yang', 'mau', 'balas', 'pesan', 'dari', 'saya', 'aplikasi', 'tidak_ramah']\"\n        ],\n        \"semantic_type\": \"\",\n        \"description\": \"\"\n      }\n    },\n    {\n      \"column\": \"stopword_removal\",\n      \"properties\": {\n        \"dtype\": \"string\",\n        \"num_unique_values\": 11934,\n        \"samples\": [\n          \"['slebeeee']\",\n          \"['bagus', 'banget', 'fitur', 'ai']\",\n          \"['aplikasainya', 'bagus']\"\n        ],\n        \"semantic_type\": \"\",\n        \"description\": \"\"\n      }\n    },\n    {\n      \"column\": \"sentiment_label\",\n      \"properties\": {\n        \"dtype\": \"category\",\n        \"num_unique_values\": 3,\n        \"samples\": [\n          \"netral\",\n          \"positif\",\n          \"negatif\"\n        ],\n        \"semantic_type\": \"\",\n        \"description\": \"\"\n      }\n    },\n    {\n      \"column\": \"sentiment_score\",\n      \"properties\": {\n        \"dtype\": \"number\",\n        \"std\": 1,\n        \"min\": -9,\n        \"max\": 25,\n        \"num_unique_values\": 30,\n        \"samples\": [\n          16,\n          6,\n          13\n        ],\n        \"semantic_type\": \"\",\n        \"description\": \"\"\n      }\n    }\n  ]\n}"
            }
          },
          "metadata": {},
          "execution_count": 48
        }
      ],
      "source": [
        "ulasan.head()"
      ]
    },
    {
      "cell_type": "code",
      "execution_count": 49,
      "metadata": {
        "colab": {
          "base_uri": "https://localhost:8080/",
          "height": 0
        },
        "id": "XQUSX6bckZle",
        "outputId": "8cac2faf-fe67-4f5f-ede4-feb2c04b3d1c"
      },
      "outputs": [
        {
          "output_type": "execute_result",
          "data": {
            "text/plain": [
              "sentiment_label\n",
              "positif    12365\n",
              "netral      5610\n",
              "negatif     2021\n",
              "Name: count, dtype: int64"
            ],
            "text/html": [
              "<div>\n",
              "<style scoped>\n",
              "    .dataframe tbody tr th:only-of-type {\n",
              "        vertical-align: middle;\n",
              "    }\n",
              "\n",
              "    .dataframe tbody tr th {\n",
              "        vertical-align: top;\n",
              "    }\n",
              "\n",
              "    .dataframe thead th {\n",
              "        text-align: right;\n",
              "    }\n",
              "</style>\n",
              "<table border=\"1\" class=\"dataframe\">\n",
              "  <thead>\n",
              "    <tr style=\"text-align: right;\">\n",
              "      <th></th>\n",
              "      <th>count</th>\n",
              "    </tr>\n",
              "    <tr>\n",
              "      <th>sentiment_label</th>\n",
              "      <th></th>\n",
              "    </tr>\n",
              "  </thead>\n",
              "  <tbody>\n",
              "    <tr>\n",
              "      <th>positif</th>\n",
              "      <td>12365</td>\n",
              "    </tr>\n",
              "    <tr>\n",
              "      <th>netral</th>\n",
              "      <td>5610</td>\n",
              "    </tr>\n",
              "    <tr>\n",
              "      <th>negatif</th>\n",
              "      <td>2021</td>\n",
              "    </tr>\n",
              "  </tbody>\n",
              "</table>\n",
              "</div><br><label><b>dtype:</b> int64</label>"
            ]
          },
          "metadata": {},
          "execution_count": 49
        }
      ],
      "source": [
        "ulasan['sentiment_label'].value_counts()"
      ]
    },
    {
      "cell_type": "markdown",
      "metadata": {
        "id": "c1F9WyGjkbOU"
      },
      "source": [
        "### **Visualisasi Distribusi Sentimen Ulasan WhatsApp**"
      ]
    },
    {
      "cell_type": "code",
      "execution_count": 128,
      "metadata": {
        "colab": {
          "base_uri": "https://localhost:8080/",
          "height": 0
        },
        "id": "64647b7mkcml",
        "outputId": "3813ba98-bf4f-417e-80eb-a693919ca99d"
      },
      "outputs": [
        {
          "output_type": "stream",
          "name": "stdout",
          "text": [
            "jumlah sentimen :\n",
            "sentiment_label\n",
            "positif    12365\n",
            "netral      5610\n",
            "negatif     2021\n",
            "Name: count, dtype: int64\n"
          ]
        },
        {
          "output_type": "display_data",
          "data": {
            "text/plain": [
              "<Figure size 1000x800 with 1 Axes>"
            ],
            "image/png": "[encoded data removed]"
          },
          "metadata": {}
        }
      ],
      "source": [
        "# melihat jumlah kelas sentimen\n",
        "Jumlah_sentimen = ulasan['sentiment_label'].value_counts()\n",
        "print(\"jumlah sentimen :\")\n",
        "print(Jumlah_sentimen)\n",
        "\n",
        "# menampilkan dalam bentuk plot diagram\n",
        "%matplotlib inline\n",
        "labels = ['negative' , 'neutral', 'positive']\n",
        "plt.figure(figsize=(10, 8))\n",
        "plt.pie(ulasan.groupby('sentiment_label')['sentiment_label'].count(), autopct=\" %.1f%% \" ,labels=labels)\n",
        "plt.legend()\n",
        "plt.axis('equal')\n",
        "plt.title('Distribusi Sentimen\\n')\n",
        "plt.show()"
      ]
    },
    {
      "cell_type": "markdown",
      "metadata": {
        "id": "ON1BtJDmkfqV"
      },
      "source": [
        "### **Visualisasi Histogram Skor Sentimen**"
      ]
    },
    {
      "cell_type": "code",
      "execution_count": 51,
      "metadata": {
        "colab": {
          "base_uri": "https://localhost:8080/",
          "height": 0
        },
        "id": "_TGxLcNnkd1K",
        "outputId": "c77cbe13-3c3d-4cf8-ab0a-ff1fd3cd450d"
      },
      "outputs": [
        {
          "output_type": "display_data",
          "data": {
            "text/plain": [
              "<Figure size 1000x800 with 1 Axes>"
            ],
            "image/png": "[encoded data removed]"
          },
          "metadata": {}
        }
      ],
      "source": [
        "plt.figure(figsize=(10,8))\n",
        "plt.hist(ulasan['sentiment_score'], bins=30, color='skyblue', edgecolor='black')\n",
        "plt.title('Histogram Skor Sentimen')\n",
        "plt.xlabel('Skor Sentimen')\n",
        "plt.ylabel('Frekuensi')\n",
        "plt.grid(axis='y', linestyle='--', alpha=0.75)\n",
        "plt.tight_layout()\n",
        "plt.show()"
      ]
    },
    {
      "cell_type": "markdown",
      "metadata": {
        "id": "PJZo0-4rkh3a"
      },
      "source": [
        "# **Data Preparation**"
      ]
    },
    {
      "cell_type": "code",
      "execution_count": 52,
      "metadata": {
        "id": "bxOCTZ-fkiaS"
      },
      "outputs": [],
      "source": [
        "# Tangani nilai NaN\n",
        "ulasan['stopword_removal'] = ulasan['stopword_removal'].fillna('')"
      ]
    },
    {
      "cell_type": "code",
      "execution_count": 53,
      "metadata": {
        "id": "BCTx3mXW59j1"
      },
      "outputs": [],
      "source": [
        "max_features = 10000  # Tingkatkan jumlah kata\n",
        "tokenizer = Tokenizer(num_words=max_features, oov_token=\"<unk>\") # Tambahkan oov_token\n",
        "tokenizer.fit_on_texts(ulasan['stopword_removal'])"
      ]
    },
    {
      "cell_type": "code",
      "execution_count": 54,
      "metadata": {
        "id": "cjfrPKeV5zBY"
      },
      "outputs": [],
      "source": [
        "sequences = tokenizer.texts_to_sequences(ulasan['stopword_removal'])"
      ]
    },
    {
      "cell_type": "code",
      "execution_count": 55,
      "metadata": {
        "id": "DQRVEwLH6FxL"
      },
      "outputs": [],
      "source": [
        "max_length = 100  # Eksperimen dengan panjang sequence\n",
        "padded_sequences = pad_sequences(sequences, maxlen=max_length, padding='post', truncating='post')"
      ]
    },
    {
      "cell_type": "code",
      "execution_count": 56,
      "metadata": {
        "id": "wWYx3zKSkkea"
      },
      "outputs": [],
      "source": [
        "# Pilih fitur (teks ulasan) dan target (label sentimen)\n",
        "fitur = ulasan['stopword_removal']\n",
        "label = ulasan['sentiment_label'].map({'positif': 2, 'netral': 1, 'negatif': 0})"
      ]
    },
    {
      "cell_type": "markdown",
      "metadata": {
        "id": "m8Of1zi5krCR"
      },
      "source": [
        "# **Feature Engineering**"
      ]
    },
    {
      "cell_type": "markdown",
      "metadata": {
        "id": "HvgGPMN-k5DF"
      },
      "source": [
        "## **TF-IDF**"
      ]
    },
    {
      "cell_type": "code",
      "execution_count": 57,
      "metadata": {
        "colab": {
          "base_uri": "https://localhost:8080/"
        },
        "id": "QgrXCA5_kqum",
        "outputId": "bd036157-ea04-4ab5-ddfd-09e64031ffdc"
      },
      "outputs": [
        {
          "output_type": "stream",
          "name": "stdout",
          "text": [
            "Ringkasan Fitur dan Data:\n",
            "Dimensi fitur TF-IDF: (19996, 10000)\n"
          ]
        }
      ],
      "source": [
        "# Transformasi teks ke vektor angka menggunakan TF-IDF\n",
        "tfidf = TfidfVectorizer(max_features=10000)\n",
        "fitur_tfidf = tfidf.fit_transform(fitur)\n",
        "\n",
        "# Menampilkan dimensi data hasil vektorisasi\n",
        "print(\"Ringkasan Fitur dan Data:\")\n",
        "print(f\"Dimensi fitur TF-IDF: {fitur_tfidf.shape}\")"
      ]
    },
    {
      "cell_type": "markdown",
      "source": [
        "## **SVM x TF-IDF (80/20)**"
      ],
      "metadata": {
        "id": "3lViCbET0_6d"
      }
    },
    {
      "cell_type": "markdown",
      "metadata": {
        "id": "CvjUUY9rk7Ex"
      },
      "source": [
        "### **Praprocessing Teks untuk Model SVM Menggunakan TF-IDF (80/20)**"
      ]
    },
    {
      "cell_type": "markdown",
      "metadata": {
        "id": "mqs8pQONk8iK"
      },
      "source": [
        "Menggunakan Support Vector Machine (SVM). Dengan pembagian data (80/20), 80 untuk data training dan 20 persen untuk data testing. Sebelum kita latih model ini kita pisahkan sesuai ketentuan yaitu 80/20"
      ]
    },
    {
      "cell_type": "code",
      "execution_count": 58,
      "metadata": {
        "colab": {
          "base_uri": "https://localhost:8080/"
        },
        "id": "qDsLnX1Fk-DE",
        "outputId": "951d9fb9-b48b-416e-d830-7770bd2b63dd"
      },
      "outputs": [
        {
          "output_type": "stream",
          "name": "stdout",
          "text": [
            "Total Sampel:\n",
            "Set pelatihan: 15996 sampel\n",
            "Set pengujian: 4000 sampel\n"
          ]
        }
      ],
      "source": [
        "# Membagi Data menjadi Set Pelatihan dan Pengujian\n",
        "fitur_train_svm, fitur_test_svm, label_train_svm, label_test_svm = train_test_split(fitur_tfidf, label, test_size=0.2, random_state=42)\n",
        "\n",
        "print(\"Total Sampel:\")\n",
        "print(f\"Set pelatihan: {fitur_train_svm.shape[0]} sampel\")\n",
        "print(f\"Set pengujian: {fitur_test_svm.shape[0]} sampel\")"
      ]
    },
    {
      "cell_type": "markdown",
      "metadata": {
        "id": "kxcSQ9HSk_h0"
      },
      "source": [
        "### **Pelatihan dan Prediksi Model SVM**"
      ]
    },
    {
      "cell_type": "code",
      "execution_count": 59,
      "metadata": {
        "colab": {
          "base_uri": "https://localhost:8080/"
        },
        "id": "E-8hbniPlCTe",
        "outputId": "13f91992-081e-42bb-8ed8-7002a721f363"
      },
      "outputs": [
        {
          "output_type": "stream",
          "name": "stdout",
          "text": [
            "Akurasi SVM: 0.9375\n",
            "              precision    recall  f1-score   support\n",
            "\n",
            "           0       0.91      0.74      0.82       419\n",
            "           1       0.86      0.94      0.90      1107\n",
            "           2       0.98      0.97      0.98      2474\n",
            "\n",
            "    accuracy                           0.94      4000\n",
            "   macro avg       0.92      0.88      0.90      4000\n",
            "weighted avg       0.94      0.94      0.94      4000\n",
            "\n"
          ]
        }
      ],
      "source": [
        "# Inisialisasi Model SVM dengan Kernel Linear\n",
        "svm_model = SVC(kernel='linear', C=1)\n",
        "svm_model.fit(fitur_train_svm, label_train_svm)\n",
        "label_pred_svm = svm_model.predict(fitur_test_svm)\n",
        "\n",
        "accuracy_svm = accuracy_score(label_test_svm, label_pred_svm)\n",
        "print(f\"Akurasi SVM: {accuracy_svm}\")\n",
        "print(classification_report(label_test_svm, label_pred_svm))"
      ]
    },
    {
      "cell_type": "markdown",
      "metadata": {
        "id": "pjYTfL_qlDth"
      },
      "source": [
        "### **Evaluasi Model SVM Berbasis TF-IDF**"
      ]
    },
    {
      "cell_type": "code",
      "execution_count": 60,
      "metadata": {
        "colab": {
          "base_uri": "https://localhost:8080/",
          "height": 952
        },
        "id": "iKhStmjZlEGW",
        "outputId": "23feb1dd-afa6-4284-c641-6b17dd4686cb"
      },
      "outputs": [
        {
          "output_type": "stream",
          "name": "stdout",
          "text": [
            "Akurasi Training SVM: 0.9806201550387597\n",
            "Akurasi Testing SVM: 0.9375\n",
            "Classification Report SVM:\n",
            "              precision    recall  f1-score   support\n",
            "\n",
            "           0       0.91      0.74      0.82       419\n",
            "           1       0.86      0.94      0.90      1107\n",
            "           2       0.98      0.97      0.98      2474\n",
            "\n",
            "    accuracy                           0.94      4000\n",
            "   macro avg       0.92      0.88      0.90      4000\n",
            "weighted avg       0.94      0.94      0.94      4000\n",
            "\n"
          ]
        },
        {
          "output_type": "display_data",
          "data": {
            "text/plain": [
              "<Figure size 1000x800 with 2 Axes>"
            ],
            "image/png": "[encoded data removed]"
          },
          "metadata": {}
        }
      ],
      "source": [
        "svm_model = SVC(kernel='linear', C=1)\n",
        "svm_model.fit(fitur_train_svm, label_train_svm)\n",
        "label_pred_svm = svm_model.predict(fitur_test_svm)\n",
        "\n",
        "# Evaluasi pada data training\n",
        "label_pred_train_svm = svm_model.predict(fitur_train_svm)\n",
        "accuracy_train_svm = accuracy_score(label_train_svm, label_pred_train_svm)\n",
        "print(f\"Akurasi Training SVM: {accuracy_train_svm}\")\n",
        "\n",
        "# Evaluasi pada data testing\n",
        "accuracy_svm = accuracy_score(label_test_svm, label_pred_svm)\n",
        "print(f\"Akurasi Testing SVM: {accuracy_svm}\")\n",
        "print(\"Classification Report SVM:\")\n",
        "print(classification_report(label_test_svm, label_pred_svm))\n",
        "\n",
        "# Confusion Matrix\n",
        "cm_svm = confusion_matrix(label_test_svm, label_pred_svm)\n",
        "plt.figure(figsize=(10, 8))\n",
        "sns.heatmap(cm_svm, annot=True, fmt='d', cmap='Blues')\n",
        "plt.title('Confusion Matrix SVM')\n",
        "plt.xlabel('Predicted Label')\n",
        "plt.ylabel('True Label')\n",
        "plt.show()\n"
      ]
    },
    {
      "cell_type": "markdown",
      "source": [
        "## **SVM x TF-IDF (60/40)**"
      ],
      "metadata": {
        "id": "3F1-qD3D1dCP"
      }
    },
    {
      "cell_type": "markdown",
      "metadata": {
        "id": "UksyCbAUptMd"
      },
      "source": [
        "### **Praprocessing Teks untuk Model SVM Menggunakan TF-IDF (60/40)**"
      ]
    },
    {
      "cell_type": "code",
      "execution_count": 61,
      "metadata": {
        "colab": {
          "base_uri": "https://localhost:8080/"
        },
        "id": "QsE-VveIp5Bo",
        "outputId": "833f66dd-d079-4f1d-8208-766e46b8c78f"
      },
      "outputs": [
        {
          "output_type": "stream",
          "name": "stdout",
          "text": [
            "Total Sampel:\n",
            "Set pelatihan: 11997 sampel\n",
            "Set pengujian: 7999 sampel\n"
          ]
        }
      ],
      "source": [
        "# Membagi Data menjadi Set Pelatihan dan Pengujian\n",
        "fitur_train_svm2, fitur_test_svm2, label_train_svm2, label_test_svm2 = train_test_split(fitur_tfidf, label, test_size=0.4, random_state=42)\n",
        "\n",
        "print(\"Total Sampel:\")\n",
        "print(f\"Set pelatihan: {fitur_train_svm2.shape[0]} sampel\")\n",
        "print(f\"Set pengujian: {fitur_test_svm2.shape[0]} sampel\")"
      ]
    },
    {
      "cell_type": "markdown",
      "metadata": {
        "id": "QDShnkx7p8ht"
      },
      "source": [
        "### **Pelatihan dan Prediksi Model SVM**"
      ]
    },
    {
      "cell_type": "code",
      "execution_count": 62,
      "metadata": {
        "colab": {
          "base_uri": "https://localhost:8080/"
        },
        "id": "qW0yZs6-qBHN",
        "outputId": "6c3340af-2f3c-4777-8ef7-efe20648b8d4"
      },
      "outputs": [
        {
          "output_type": "stream",
          "name": "stdout",
          "text": [
            "Akurasi SVM: 0.9262407800975122\n",
            "              precision    recall  f1-score   support\n",
            "\n",
            "           0       0.89      0.73      0.80       815\n",
            "           1       0.84      0.92      0.88      2233\n",
            "           2       0.98      0.96      0.97      4951\n",
            "\n",
            "    accuracy                           0.93      7999\n",
            "   macro avg       0.90      0.87      0.88      7999\n",
            "weighted avg       0.93      0.93      0.93      7999\n",
            "\n"
          ]
        }
      ],
      "source": [
        "# Inisialisasi Model SVM dengan Kernel Linear\n",
        "svm_model2 = SVC(kernel='linear', C=1)\n",
        "svm_model2.fit(fitur_train_svm2, label_train_svm2)\n",
        "label_pred_svm2 = svm_model2.predict(fitur_test_svm2)\n",
        "\n",
        "accuracy_svm2 = accuracy_score(label_test_svm2, label_pred_svm2)\n",
        "print(f\"Akurasi SVM: {accuracy_svm2}\")\n",
        "print(classification_report(label_test_svm2, label_pred_svm2))"
      ]
    },
    {
      "cell_type": "markdown",
      "metadata": {
        "id": "NCsChO7cp-xP"
      },
      "source": [
        "### **Evaluasi Model SVM Berbasis TF-IDF**"
      ]
    },
    {
      "cell_type": "code",
      "execution_count": 63,
      "metadata": {
        "colab": {
          "base_uri": "https://localhost:8080/",
          "height": 0
        },
        "id": "y1HfJLP2qEP0",
        "outputId": "bd17814d-6544-4f21-ceae-e8538348aa4a"
      },
      "outputs": [
        {
          "output_type": "stream",
          "name": "stdout",
          "text": [
            "Akurasi Training SVM: 0.9777444361090273\n",
            "Akurasi Testing SVM: 0.9587448431053882\n",
            "Classification Report SVM:\n",
            "              precision    recall  f1-score   support\n",
            "\n",
            "           0       0.94      0.83      0.88       815\n",
            "           1       0.91      0.95      0.93      2233\n",
            "           2       0.99      0.98      0.98      4951\n",
            "\n",
            "    accuracy                           0.96      7999\n",
            "   macro avg       0.94      0.92      0.93      7999\n",
            "weighted avg       0.96      0.96      0.96      7999\n",
            "\n"
          ]
        },
        {
          "output_type": "display_data",
          "data": {
            "text/plain": [
              "<Figure size 1000x800 with 2 Axes>"
            ],
            "image/png": "[encoded data removed]"
          },
          "metadata": {}
        }
      ],
      "source": [
        "svm_model2 = SVC(kernel='linear', C=1)\n",
        "svm_model2.fit(fitur_train_svm2, label_train_svm2)\n",
        "label_pred_svm2 = svm_model.predict(fitur_test_svm2)\n",
        "\n",
        "# Evaluasi pada data training\n",
        "label_pred_train_svm2 = svm_model2.predict(fitur_train_svm2)\n",
        "accuracy_train_svm2 = accuracy_score(label_train_svm2, label_pred_train_svm2)\n",
        "print(f\"Akurasi Training SVM: {accuracy_train_svm2}\")\n",
        "\n",
        "# Evaluasi pada data testing\n",
        "accuracy_svm2 = accuracy_score(label_test_svm2, label_pred_svm2)\n",
        "print(f\"Akurasi Testing SVM: {accuracy_svm2}\")\n",
        "print(\"Classification Report SVM:\")\n",
        "print(classification_report(label_test_svm2, label_pred_svm2))\n",
        "\n",
        "# Confusion Matrix\n",
        "cm_svm2 = confusion_matrix(label_test_svm2, label_pred_svm2)\n",
        "plt.figure(figsize=(10, 8))\n",
        "sns.heatmap(cm_svm2, annot=True, fmt='d', cmap='Blues')\n",
        "plt.title('Confusion Matrix SVM')\n",
        "plt.xlabel('Predicted Label')\n",
        "plt.ylabel('True Label')\n",
        "plt.show()"
      ]
    },
    {
      "cell_type": "markdown",
      "source": [
        "## **RF x TF-IDF (70/30)**"
      ],
      "metadata": {
        "id": "J8L5fTIR1oKh"
      }
    },
    {
      "cell_type": "markdown",
      "metadata": {
        "id": "fzozrtCXlFua"
      },
      "source": [
        "### **Praprocessing Teks untuk Model RF Menggunakan TF-IDF (70/30)**"
      ]
    },
    {
      "cell_type": "code",
      "execution_count": 64,
      "metadata": {
        "colab": {
          "base_uri": "https://localhost:8080/"
        },
        "id": "AHWqRd6alHsW",
        "outputId": "340f76e7-6146-4918-e6e7-c3880184c313"
      },
      "outputs": [
        {
          "output_type": "stream",
          "name": "stdout",
          "text": [
            "Total Sampel:\n",
            "Set pelatihan: 13997 sampel\n",
            "Set pengujian: 5999 sampel\n"
          ]
        }
      ],
      "source": [
        "# Membagi Data menjadi Set Pelatihan dan Pengujian\n",
        "fitur_train_rf, fitur_test_rf, label_train_rf, label_test_rf = train_test_split(fitur_tfidf, label, test_size=0.3, random_state=42)\n",
        "\n",
        "print(\"Total Sampel:\")\n",
        "print(f\"Set pelatihan: {fitur_train_rf.shape[0]} sampel\")\n",
        "print(f\"Set pengujian: {fitur_test_rf.shape[0]} sampel\")"
      ]
    },
    {
      "cell_type": "markdown",
      "metadata": {
        "id": "JySmpo36lImy"
      },
      "source": [
        "### **Pelatihan dan Prediksi Model RF**"
      ]
    },
    {
      "cell_type": "code",
      "execution_count": 65,
      "metadata": {
        "id": "ZVKiEiuslJi4"
      },
      "outputs": [],
      "source": [
        "#Inisialisasi dan latih model Random Forest\n",
        "rf_model = RandomForestClassifier(n_estimators=300, max_depth=None, min_samples_split=5, min_samples_leaf=2, random_state=42)\n",
        "rf_model.fit(fitur_train_rf, label_train_rf)\n",
        "\n",
        "# 7. Prediksi label pada data testing\n",
        "label_pred_rf = rf_model.predict(fitur_test_rf)"
      ]
    },
    {
      "cell_type": "markdown",
      "metadata": {
        "id": "EY5cR--ulKmk"
      },
      "source": [
        "### **Evaluasi Model Random Forest dengan TF-IDF**"
      ]
    },
    {
      "cell_type": "code",
      "execution_count": 66,
      "metadata": {
        "colab": {
          "base_uri": "https://localhost:8080/",
          "height": 0
        },
        "id": "O_2hkZ0blLpW",
        "outputId": "3831f06f-f84c-49af-c536-74e8ae8e20e3"
      },
      "outputs": [
        {
          "output_type": "stream",
          "name": "stdout",
          "text": [
            "Akurasi Training Random Forest: 0.8888333214260199\n",
            "Classification Report Training Random Forest:\n",
            "              precision    recall  f1-score   support\n",
            "\n",
            "           0       0.91      0.62      0.74      1395\n",
            "           1       0.85      0.80      0.82      3943\n",
            "           2       0.90      0.97      0.94      8659\n",
            "\n",
            "    accuracy                           0.89     13997\n",
            "   macro avg       0.89      0.80      0.83     13997\n",
            "weighted avg       0.89      0.89      0.88     13997\n",
            "\n",
            "Akurasi Testing Random Forest: 0.8688114685780963\n",
            "Classification Report Testing Random Forest:\n",
            "              precision    recall  f1-score   support\n",
            "\n",
            "           0       0.85      0.54      0.66       626\n",
            "           1       0.83      0.77      0.80      1667\n",
            "           2       0.89      0.97      0.93      3706\n",
            "\n",
            "    accuracy                           0.87      5999\n",
            "   macro avg       0.85      0.76      0.79      5999\n",
            "weighted avg       0.87      0.87      0.86      5999\n",
            "\n"
          ]
        },
        {
          "output_type": "display_data",
          "data": {
            "text/plain": [
              "<Figure size 1000x800 with 2 Axes>"
            ],
            "image/png": "[encoded data removed]"
          },
          "metadata": {}
        }
      ],
      "source": [
        "label_pred_rf = rf_model.predict(fitur_test_rf)\n",
        "label_pred_train_rf = rf_model.predict(fitur_train_rf)\n",
        "\n",
        "# Evaluasi pada data training\n",
        "accuracy_train_rf = accuracy_score(label_train_rf, label_pred_train_rf)\n",
        "print(f\"Akurasi Training Random Forest: {accuracy_train_rf}\")\n",
        "print(\"Classification Report Training Random Forest:\")\n",
        "print(classification_report(label_train_rf, label_pred_train_rf))\n",
        "\n",
        "# Evaluasi pada data testing\n",
        "accuracy_rf = accuracy_score(label_test_rf, label_pred_rf)\n",
        "print(f\"Akurasi Testing Random Forest: {accuracy_rf}\")\n",
        "print(\"Classification Report Testing Random Forest:\")\n",
        "print(classification_report(label_test_rf, label_pred_rf))\n",
        "\n",
        "# Membuat Confusion Matrix\n",
        "cm_rf = confusion_matrix(label_test_rf, label_pred_rf)\n",
        "plt.figure(figsize=(10, 8))\n",
        "sns.heatmap(cm_rf, annot=True, fmt='d', cmap='Blues')\n",
        "plt.title('Confusion Matrix Random Forest')\n",
        "plt.xlabel('Predicted Label')\n",
        "plt.ylabel('True Label')\n",
        "plt.show()"
      ]
    },
    {
      "cell_type": "markdown",
      "source": [
        "## **RF x TF-IDF (80/20)**"
      ],
      "metadata": {
        "id": "4oif6F3u1x3z"
      }
    },
    {
      "cell_type": "markdown",
      "metadata": {
        "id": "81Eoc8bjlMsy"
      },
      "source": [
        "### **Praprocessing Teks untuk Model RF Menggunakan TF-IDF (80/20)**"
      ]
    },
    {
      "cell_type": "code",
      "execution_count": 67,
      "metadata": {
        "colab": {
          "base_uri": "https://localhost:8080/"
        },
        "id": "PgqX51YPn_WT",
        "outputId": "5dbcf823-98af-4668-e29d-e52da54c901d"
      },
      "outputs": [
        {
          "output_type": "stream",
          "name": "stdout",
          "text": [
            "Total Sampel:\n",
            "Set pelatihan: 15996 sampel\n",
            "Set pengujian: 4000 sampel\n"
          ]
        }
      ],
      "source": [
        "# Membagi Data menjadi Set Pelatihan dan Pengujian\n",
        "fitur_train_rf2, fitur_test_rf2, label_train_rf2, label_test_rf2 = train_test_split(fitur_tfidf, label, test_size=0.2, random_state=42)\n",
        "\n",
        "print(\"Total Sampel:\")\n",
        "print(f\"Set pelatihan: {fitur_train_rf2.shape[0]} sampel\")\n",
        "print(f\"Set pengujian: {fitur_test_rf2.shape[0]} sampel\")"
      ]
    },
    {
      "cell_type": "markdown",
      "metadata": {
        "id": "lk3SqhxHoH1_"
      },
      "source": [
        "### **Pelatihan dan Prediksi Model RF**"
      ]
    },
    {
      "cell_type": "code",
      "execution_count": 68,
      "metadata": {
        "id": "PDg8K9-7oKpv"
      },
      "outputs": [],
      "source": [
        "#Inisialisasi dan latih model Random Forest\n",
        "rf_model2 = RandomForestClassifier(n_estimators=300, max_depth=None, min_samples_split=5, min_samples_leaf=2, random_state=42)\n",
        "rf_model2.fit(fitur_train_rf2, label_train_rf2)\n",
        "\n",
        "# 7. Prediksi label pada data testing\n",
        "label_pred_rf2 = rf_model.predict(fitur_test_rf2)"
      ]
    },
    {
      "cell_type": "markdown",
      "metadata": {
        "id": "IErK1B6Sohmn"
      },
      "source": [
        "### **Evaluasi Model Random Forest dengan TF-IDF**"
      ]
    },
    {
      "cell_type": "code",
      "execution_count": 69,
      "metadata": {
        "colab": {
          "base_uri": "https://localhost:8080/",
          "height": 0
        },
        "id": "n3J0h-A2okXR",
        "outputId": "ad85c170-d2f7-4257-d176-65fc0d21b18a"
      },
      "outputs": [
        {
          "output_type": "stream",
          "name": "stdout",
          "text": [
            "Akurasi Training Random Forest: 0.8924106026506626\n",
            "Classification Report Training Random Forest:\n",
            "              precision    recall  f1-score   support\n",
            "\n",
            "           0       0.90      0.64      0.75      1602\n",
            "           1       0.86      0.80      0.83      4503\n",
            "           2       0.90      0.98      0.94      9891\n",
            "\n",
            "    accuracy                           0.89     15996\n",
            "   macro avg       0.89      0.81      0.84     15996\n",
            "weighted avg       0.89      0.89      0.89     15996\n",
            "\n",
            "Akurasi Testing Random Forest: 0.86725\n",
            "Classification Report Testing Random Forest:\n",
            "              precision    recall  f1-score   support\n",
            "\n",
            "           0       0.85      0.54      0.66       419\n",
            "           1       0.82      0.76      0.79      1107\n",
            "           2       0.89      0.97      0.92      2474\n",
            "\n",
            "    accuracy                           0.87      4000\n",
            "   macro avg       0.85      0.76      0.79      4000\n",
            "weighted avg       0.86      0.87      0.86      4000\n",
            "\n"
          ]
        },
        {
          "output_type": "display_data",
          "data": {
            "text/plain": [
              "<Figure size 1000x800 with 2 Axes>"
            ],
            "image/png": "[encoded data removed]"
          },
          "metadata": {}
        }
      ],
      "source": [
        "label_pred_rf2 = rf_model2.predict(fitur_test_rf2)\n",
        "label_pred_train_rf2 = rf_model2.predict(fitur_train_rf2)\n",
        "\n",
        "# Evaluasi pada data training\n",
        "accuracy_train_rf2 = accuracy_score(label_train_rf2, label_pred_train_rf2)\n",
        "print(f\"Akurasi Training Random Forest: {accuracy_train_rf2}\")\n",
        "print(\"Classification Report Training Random Forest:\")\n",
        "print(classification_report(label_train_rf2, label_pred_train_rf2))\n",
        "\n",
        "# Evaluasi pada data testing\n",
        "accuracy_rf2 = accuracy_score(label_test_rf2, label_pred_rf2)\n",
        "print(f\"Akurasi Testing Random Forest: {accuracy_rf2}\")\n",
        "print(\"Classification Report Testing Random Forest:\")\n",
        "print(classification_report(label_test_rf2, label_pred_rf2))\n",
        "\n",
        "# Membuat Confusion Matrix\n",
        "cm_rf2 = confusion_matrix(label_test_rf2, label_pred_rf2)\n",
        "plt.figure(figsize=(10, 8))\n",
        "sns.heatmap(cm_rf2, annot=True, fmt='d', cmap='Blues')\n",
        "plt.title('Confusion Matrix Random Forest')\n",
        "plt.xlabel('Predicted Label')\n",
        "plt.ylabel('True Label')\n",
        "plt.show()"
      ]
    },
    {
      "cell_type": "markdown",
      "source": [
        "## **LSTM x TF-IDF (70/20/10)**"
      ],
      "metadata": {
        "id": "6wyqHsWp15Tt"
      }
    },
    {
      "cell_type": "markdown",
      "metadata": {
        "id": "WoGxgKUOrbRp"
      },
      "source": [
        "### **Praprocessing Teks untuk Model LSTM Menggunakan TF-IDF (70/20/10)**"
      ]
    },
    {
      "cell_type": "code",
      "execution_count": 70,
      "metadata": {
        "id": "B-qOAtzJ5m2w"
      },
      "outputs": [],
      "source": [
        "# Menginisialisasi tokenizer dan membatasi jumlah kata unik sebanyak 10.000\n",
        "tokenizer = Tokenizer(num_words=10000)\n",
        "\n",
        "# Menyesuaikan tokenizer dengan teks yang telah dibersihkan\n",
        "tokenizer.fit_on_texts(fitur)\n",
        "\n",
        "# Mengubah teks menjadi urutan angka berdasarkan kamus tokenizer\n",
        "fitur_sekuensial = tokenizer.texts_to_sequences(fitur)\n",
        "\n",
        "# Menyamakan panjang urutan dengan padding (maksimal 100 kata)\n",
        "fitur_padat = pad_sequences(fitur_sekuensial, maxlen=100)"
      ]
    },
    {
      "cell_type": "code",
      "execution_count": 71,
      "metadata": {
        "colab": {
          "base_uri": "https://localhost:8080/"
        },
        "id": "aaYa0kTb60gL",
        "outputId": "a558fe18-6af4-4a75-85d7-65d11d6f50e3"
      },
      "outputs": [
        {
          "output_type": "stream",
          "name": "stdout",
          "text": [
            "Jumlah kelas: 3\n",
            "Dimensi urutan fitur: (19996, 100)\n",
            "\n",
            "Ukuran kosa kata: 10058 kata\n"
          ]
        }
      ],
      "source": [
        "jumlah_kelas = len(np.unique(label))\n",
        "print(f\"Jumlah kelas: {jumlah_kelas}\")\n",
        "\n",
        "# Menampilkan dimensi dari fitur hasil padding\n",
        "print(f\"Dimensi urutan fitur: {fitur_padat.shape}\")\n",
        "\n",
        "# Menampilkan ukuran kosa kata dari tokenizer\n",
        "kosa_kata_index = tokenizer.word_index\n",
        "print(f\"\\nUkuran kosa kata: {len(kosa_kata_index)} kata\")"
      ]
    },
    {
      "cell_type": "markdown",
      "metadata": {
        "id": "wsG9oif3rgQ8"
      },
      "source": [
        "### **Pelatihan dan Prediksi Model LSTM**"
      ]
    },
    {
      "cell_type": "code",
      "execution_count": 72,
      "metadata": {
        "colab": {
          "base_uri": "https://localhost:8080/"
        },
        "id": "ryLkI-uvrgAM",
        "outputId": "c4a8c42d-d309-4cf9-c6ba-dc0949c3a0fb"
      },
      "outputs": [
        {
          "output_type": "stream",
          "name": "stdout",
          "text": [
            "Total Sampel:\n",
            "Set pelatihan: 13996 sampel\n",
            "Set validasi : 2000 sampel\n",
            "Set pengujian: 4000 sampel\n"
          ]
        }
      ],
      "source": [
        "fitur_latih_lstm, fitur_uji_lstm, label_latih_lstm, label_uji_lstm = train_test_split(\n",
        "    fitur_padat, label, test_size=0.2, random_state=42\n",
        ")\n",
        "\n",
        "# Mengambil 10% dari 80% data latih sebagai data validasi (0.1 / 0.8 = 0.125)\n",
        "fitur_latih_lstm, fitur_validasi_lstm, label_latih_lstm, label_validasi_lstm = train_test_split(\n",
        "    fitur_latih_lstm, label_latih_lstm, test_size=0.125, random_state=42\n",
        ")\n",
        "\n",
        "# Menampilkan jumlah sampel di setiap subset\n",
        "print(\"Total Sampel:\")\n",
        "print(f\"Set pelatihan: {fitur_latih_lstm.shape[0]} sampel\")\n",
        "print(f\"Set validasi : {fitur_validasi_lstm.shape[0]} sampel\")\n",
        "print(f\"Set pengujian: {fitur_uji_lstm.shape[0]} sampel\")"
      ]
    },
    {
      "cell_type": "code",
      "execution_count": 73,
      "metadata": {
        "colab": {
          "base_uri": "https://localhost:8080/"
        },
        "id": "SEn2-W8MzH0h",
        "outputId": "7a2f81ab-ab56-460c-e64e-23e8964cad27"
      },
      "outputs": [
        {
          "output_type": "stream",
          "name": "stdout",
          "text": [
            "Epoch 1/15\n"
          ]
        },
        {
          "output_type": "stream",
          "name": "stderr",
          "text": [
            "/usr/local/lib/python3.11/dist-packages/keras/src/layers/core/embedding.py:90: UserWarning: Argument `input_length` is deprecated. Just remove it.\n",
            "  warnings.warn(\n"
          ]
        },
        {
          "output_type": "stream",
          "name": "stdout",
          "text": [
            "\u001b[1m219/219\u001b[0m \u001b[32m━━━━━━━━━━━━━━━━━━━━\u001b[0m\u001b[37m\u001b[0m \u001b[1m81s\u001b[0m 348ms/step - accuracy: 0.6800 - loss: 0.7407 - val_accuracy: 0.9170 - val_loss: 0.2467 - learning_rate: 0.0010\n",
            "Epoch 2/15\n",
            "\u001b[1m219/219\u001b[0m \u001b[32m━━━━━━━━━━━━━━━━━━━━\u001b[0m\u001b[37m\u001b[0m \u001b[1m81s\u001b[0m 345ms/step - accuracy: 0.9261 - loss: 0.2090 - val_accuracy: 0.9500 - val_loss: 0.1564 - learning_rate: 0.0010\n",
            "Epoch 3/15\n",
            "\u001b[1m219/219\u001b[0m \u001b[32m━━━━━━━━━━━━━━━━━━━━\u001b[0m\u001b[37m\u001b[0m \u001b[1m80s\u001b[0m 335ms/step - accuracy: 0.9655 - loss: 0.0962 - val_accuracy: 0.9570 - val_loss: 0.1392 - learning_rate: 0.0010\n",
            "Epoch 4/15\n",
            "\u001b[1m219/219\u001b[0m \u001b[32m━━━━━━━━━━━━━━━━━━━━\u001b[0m\u001b[37m\u001b[0m \u001b[1m75s\u001b[0m 344ms/step - accuracy: 0.9816 - loss: 0.0573 - val_accuracy: 0.9560 - val_loss: 0.1460 - learning_rate: 0.0010\n",
            "Epoch 5/15\n",
            "\u001b[1m219/219\u001b[0m \u001b[32m━━━━━━━━━━━━━━━━━━━━\u001b[0m\u001b[37m\u001b[0m \u001b[1m74s\u001b[0m 338ms/step - accuracy: 0.9906 - loss: 0.0302 - val_accuracy: 0.9600 - val_loss: 0.1396 - learning_rate: 0.0010\n"
          ]
        }
      ],
      "source": [
        "# Membuat model LSTM untuk klasifikasi sentimen\n",
        "model_lstm = Sequential([\n",
        "    Embedding(input_dim=10000, output_dim=128, input_length=100),       # Representasi kata dalam vektor\n",
        "    SpatialDropout1D(0.4),                                               # Dropout untuk regularisasi\n",
        "    LSTM(128, dropout=0.3, recurrent_dropout=0.3),                       # LSTM untuk memahami urutan kata\n",
        "    Dense(3, activation='softmax')                                       # Output 3 kelas sentimen\n",
        "])\n",
        "\n",
        "# Menyusun model dengan loss dan optimizer\n",
        "model_lstm.compile(\n",
        "    loss='sparse_categorical_crossentropy',\n",
        "    optimizer=Adam(),\n",
        "    metrics=['accuracy']\n",
        ")\n",
        "\n",
        "# Callback untuk kontrol pelatihan\n",
        "callback_early_stopping = EarlyStopping(\n",
        "    monitor='val_loss',\n",
        "    patience=2,\n",
        "    restore_best_weights=True\n",
        ")\n",
        "callback_lr_reduction = ReduceLROnPlateau(\n",
        "    monitor='val_loss',\n",
        "    factor=0.5,\n",
        "    patience=2\n",
        ")\n",
        "\n",
        "# Daftar callback\n",
        "callbacks = [callback_early_stopping, callback_lr_reduction]\n",
        "\n",
        "# Menjalankan pelatihan model\n",
        "riwayat_latihan = model_lstm.fit(\n",
        "    fitur_latih_lstm, label_latih_lstm,\n",
        "    validation_data=(fitur_validasi_lstm, label_validasi_lstm),\n",
        "    epochs=15,\n",
        "    batch_size=64,\n",
        "    verbose=1,\n",
        "    callbacks=callbacks\n",
        ")"
      ]
    },
    {
      "cell_type": "markdown",
      "metadata": {
        "id": "YnzY3_28rkEH"
      },
      "source": [
        "### **Evaluasi Model LSTM dengan TF-IDF**"
      ]
    },
    {
      "cell_type": "code",
      "execution_count": 74,
      "metadata": {
        "colab": {
          "base_uri": "https://localhost:8080/",
          "height": 0
        },
        "id": "eGr2XZllroX1",
        "outputId": "b8b46ada-2de8-4ba1-a824-a8e5e4d6b6f3"
      },
      "outputs": [
        {
          "output_type": "stream",
          "name": "stdout",
          "text": [
            "\u001b[1m438/438\u001b[0m \u001b[32m━━━━━━━━━━━━━━━━━━━━\u001b[0m\u001b[37m\u001b[0m \u001b[1m20s\u001b[0m 45ms/step\n",
            "\u001b[1m63/63\u001b[0m \u001b[32m━━━━━━━━━━━━━━━━━━━━\u001b[0m\u001b[37m\u001b[0m \u001b[1m2s\u001b[0m 38ms/step\n",
            "Laporan Klasifikasi (Data Latih):\n",
            "              precision    recall  f1-score   support\n",
            "\n",
            "           0       0.96      0.95      0.96      1401\n",
            "           1       0.97      0.98      0.97      3953\n",
            "           2       1.00      0.99      0.99      8642\n",
            "\n",
            "    accuracy                           0.99     13996\n",
            "   macro avg       0.98      0.98      0.98     13996\n",
            "weighted avg       0.99      0.99      0.99     13996\n",
            "\n",
            "Laporan Klasifikasi (Data Validasi):\n",
            "              precision    recall  f1-score   support\n",
            "\n",
            "           0       0.94      0.87      0.90       201\n",
            "           1       0.91      0.94      0.93       550\n",
            "           2       0.98      0.98      0.98      1249\n",
            "\n",
            "    accuracy                           0.96      2000\n",
            "   macro avg       0.94      0.93      0.93      2000\n",
            "weighted avg       0.96      0.96      0.96      2000\n",
            "\n"
          ]
        },
        {
          "output_type": "display_data",
          "data": {
            "text/plain": [
              "<Figure size 1200x500 with 4 Axes>"
            ],
            "image/png": "[encoded data removed]"
          },
          "metadata": {}
        }
      ],
      "source": [
        "# Prediksi Label untuk Data Uji\n",
        "prediksi_latih_lstm = model_lstm.predict(fitur_latih_lstm)\n",
        "prediksi_latih_lstm = np.argmax(prediksi_latih_lstm, axis=1) # Mengambil indeks kelas dengan probabilitas tertinggi\n",
        "\n",
        "prediksi_validasi_lstm = model_lstm.predict(fitur_validasi_lstm)\n",
        "prediksi_validasi_lstm = np.argmax(prediksi_validasi_lstm, axis=1) # Mengambil indeks kelas dengan probabilitas tertinggi\n",
        "\n",
        "# Laporan Klasifikasi\n",
        "print(\"Laporan Klasifikasi (Data Latih):\")\n",
        "print(classification_report(label_latih_lstm, prediksi_latih_lstm))\n",
        "\n",
        "print(\"Laporan Klasifikasi (Data Validasi):\")\n",
        "print(classification_report(label_validasi_lstm, prediksi_validasi_lstm))\n",
        "\n",
        "# Confusion Matrix\n",
        "cm_latih_lstm = confusion_matrix(label_latih_lstm, prediksi_latih_lstm)\n",
        "cm_validasi_lstm = confusion_matrix(label_validasi_lstm, prediksi_validasi_lstm)\n",
        "\n",
        "# Visualisasi Confusion Matrix\n",
        "plt.figure(figsize=(12, 5))\n",
        "plt.subplot(1, 2, 1)\n",
        "sns.heatmap(cm_latih_lstm, annot=True, fmt=\"d\", cmap=\"Blues\")\n",
        "plt.title(\"Confusion Matrix (Data Latih)\")\n",
        "plt.xlabel(\"Predicted Label\")\n",
        "plt.ylabel(\"True Label\")\n",
        "\n",
        "plt.subplot(1, 2, 2)\n",
        "sns.heatmap(cm_validasi_lstm, annot=True, fmt=\"d\", cmap=\"Blues\")\n",
        "plt.title(\"Confusion Matrix (Data Validasi)\")\n",
        "plt.xlabel(\"Predicted Label\")\n",
        "plt.ylabel(\"True Label\")\n",
        "\n",
        "plt.tight_layout()\n",
        "plt.show()"
      ]
    },
    {
      "cell_type": "markdown",
      "metadata": {
        "id": "_tG5ndizEFZM"
      },
      "source": [
        "## **Bag of Words Module**"
      ]
    },
    {
      "cell_type": "code",
      "execution_count": 75,
      "metadata": {
        "id": "GliPzgGXcbfX"
      },
      "outputs": [],
      "source": [
        "# Load Data\n",
        "ulasan_bow = pd.read_csv('data_bersih_berlabel.csv')"
      ]
    },
    {
      "cell_type": "code",
      "execution_count": 76,
      "metadata": {
        "colab": {
          "base_uri": "https://localhost:8080/",
          "height": 0
        },
        "id": "a6DUfPtkcgN-",
        "outputId": "c1e2ce0a-ad92-4e18-8740-24b993e53378"
      },
      "outputs": [
        {
          "output_type": "execute_result",
          "data": {
            "text/plain": [
              "                                             content  score  word_count  \\\n",
              "0     Tambahin fitur keamanannnya dong bang operator      2           6   \n",
              "1                                        Sangat baik      3           2   \n",
              "2  whatsapp sangat membantu saya dalam berkomunikasi      5           6   \n",
              "3                                                Top      4           1   \n",
              "4                                                 Ok      5           1   \n",
              "\n",
              "                                       clean_content  \\\n",
              "0     Tambahin fitur keamanannnya dong bang operator   \n",
              "1                                        Sangat baik   \n",
              "2  whatsapp sangat membantu saya dalam berkomunikasi   \n",
              "3                                                Top   \n",
              "4                                                 Ok   \n",
              "\n",
              "                                    casefold_content  \\\n",
              "0     tambahin fitur keamanannnya dong bang operator   \n",
              "1                                        sangat baik   \n",
              "2  whatsapp sangat membantu saya dalam berkomunikasi   \n",
              "3                                                top   \n",
              "4                                                 ok   \n",
              "\n",
              "                                              tokens  \\\n",
              "0  ['tambahin', 'fitur', 'keamanannnya', 'dong', ...   \n",
              "1                                 ['sangat', 'baik']   \n",
              "2  ['whatsapp', 'sangat', 'membantu', 'saya', 'da...   \n",
              "3                                            ['top']   \n",
              "4                                             ['ok']   \n",
              "\n",
              "                                      stemmed_tokens  \\\n",
              "0  ['tambahin', 'fitur', 'keamanannnya', 'dong', ...   \n",
              "1                                 ['sangat', 'baik']   \n",
              "2  ['whatsapp', 'sangat', 'bantu', 'saya', 'dalam...   \n",
              "3                                            ['top']   \n",
              "4                                             ['ok']   \n",
              "\n",
              "                                     tokens_negation  \\\n",
              "0  ['tambahin', 'fitur', 'keamanannnya', 'dong', ...   \n",
              "1                                 ['sangat', 'baik']   \n",
              "2  ['whatsapp', 'sangat', 'bantu', 'saya', 'dalam...   \n",
              "3                                            ['top']   \n",
              "4                                             ['ok']   \n",
              "\n",
              "                                        tokens_slang  \\\n",
              "0  ['tambah', 'fitur', 'keamanannnya', 'dong', 'b...   \n",
              "1                                 ['sangat', 'baik']   \n",
              "2  ['whatsapp', 'sangat', 'bantu', 'saya', 'dalam...   \n",
              "3                                            ['top']   \n",
              "4                                             ['ok']   \n",
              "\n",
              "                                stopword_removal sentiment_label  \\\n",
              "0  ['fitur', 'keamanannnya', 'bang', 'operator']          netral   \n",
              "1                                             []          netral   \n",
              "2            ['whatsapp', 'bantu', 'komunikasi']         positif   \n",
              "3                                        ['top']         positif   \n",
              "4                                         ['ok']         positif   \n",
              "\n",
              "   sentiment_score  \n",
              "0                0  \n",
              "1                0  \n",
              "2                2  \n",
              "3                1  \n",
              "4                1  "
            ],
            "text/html": [
              "\n",
              "  <div id=\"df-97ad8f0d-7518-43bc-9dbf-3b6dd1155c15\" class=\"colab-df-container\">\n",
              "    <div>\n",
              "<style scoped>\n",
              "    .dataframe tbody tr th:only-of-type {\n",
              "        vertical-align: middle;\n",
              "    }\n",
              "\n",
              "    .dataframe tbody tr th {\n",
              "        vertical-align: top;\n",
              "    }\n",
              "\n",
              "    .dataframe thead th {\n",
              "        text-align: right;\n",
              "    }\n",
              "</style>\n",
              "<table border=\"1\" class=\"dataframe\">\n",
              "  <thead>\n",
              "    <tr style=\"text-align: right;\">\n",
              "      <th></th>\n",
              "      <th>content</th>\n",
              "      <th>score</th>\n",
              "      <th>word_count</th>\n",
              "      <th>clean_content</th>\n",
              "      <th>casefold_content</th>\n",
              "      <th>tokens</th>\n",
              "      <th>stemmed_tokens</th>\n",
              "      <th>tokens_negation</th>\n",
              "      <th>tokens_slang</th>\n",
              "      <th>stopword_removal</th>\n",
              "      <th>sentiment_label</th>\n",
              "      <th>sentiment_score</th>\n",
              "    </tr>\n",
              "  </thead>\n",
              "  <tbody>\n",
              "    <tr>\n",
              "      <th>0</th>\n",
              "      <td>Tambahin fitur keamanannnya dong bang operator</td>\n",
              "      <td>2</td>\n",
              "      <td>6</td>\n",
              "      <td>Tambahin fitur keamanannnya dong bang operator</td>\n",
              "      <td>tambahin fitur keamanannnya dong bang operator</td>\n",
              "      <td>['tambahin', 'fitur', 'keamanannnya', 'dong', ...</td>\n",
              "      <td>['tambahin', 'fitur', 'keamanannnya', 'dong', ...</td>\n",
              "      <td>['tambahin', 'fitur', 'keamanannnya', 'dong', ...</td>\n",
              "      <td>['tambah', 'fitur', 'keamanannnya', 'dong', 'b...</td>\n",
              "      <td>['fitur', 'keamanannnya', 'bang', 'operator']</td>\n",
              "      <td>netral</td>\n",
              "      <td>0</td>\n",
              "    </tr>\n",
              "    <tr>\n",
              "      <th>1</th>\n",
              "      <td>Sangat baik</td>\n",
              "      <td>3</td>\n",
              "      <td>2</td>\n",
              "      <td>Sangat baik</td>\n",
              "      <td>sangat baik</td>\n",
              "      <td>['sangat', 'baik']</td>\n",
              "      <td>['sangat', 'baik']</td>\n",
              "      <td>['sangat', 'baik']</td>\n",
              "      <td>['sangat', 'baik']</td>\n",
              "      <td>[]</td>\n",
              "      <td>netral</td>\n",
              "      <td>0</td>\n",
              "    </tr>\n",
              "    <tr>\n",
              "      <th>2</th>\n",
              "      <td>whatsapp sangat membantu saya dalam berkomunikasi</td>\n",
              "      <td>5</td>\n",
              "      <td>6</td>\n",
              "      <td>whatsapp sangat membantu saya dalam berkomunikasi</td>\n",
              "      <td>whatsapp sangat membantu saya dalam berkomunikasi</td>\n",
              "      <td>['whatsapp', 'sangat', 'membantu', 'saya', 'da...</td>\n",
              "      <td>['whatsapp', 'sangat', 'bantu', 'saya', 'dalam...</td>\n",
              "      <td>['whatsapp', 'sangat', 'bantu', 'saya', 'dalam...</td>\n",
              "      <td>['whatsapp', 'sangat', 'bantu', 'saya', 'dalam...</td>\n",
              "      <td>['whatsapp', 'bantu', 'komunikasi']</td>\n",
              "      <td>positif</td>\n",
              "      <td>2</td>\n",
              "    </tr>\n",
              "    <tr>\n",
              "      <th>3</th>\n",
              "      <td>Top</td>\n",
              "      <td>4</td>\n",
              "      <td>1</td>\n",
              "      <td>Top</td>\n",
              "      <td>top</td>\n",
              "      <td>['top']</td>\n",
              "      <td>['top']</td>\n",
              "      <td>['top']</td>\n",
              "      <td>['top']</td>\n",
              "      <td>['top']</td>\n",
              "      <td>positif</td>\n",
              "      <td>1</td>\n",
              "    </tr>\n",
              "    <tr>\n",
              "      <th>4</th>\n",
              "      <td>Ok</td>\n",
              "      <td>5</td>\n",
              "      <td>1</td>\n",
              "      <td>Ok</td>\n",
              "      <td>ok</td>\n",
              "      <td>['ok']</td>\n",
              "      <td>['ok']</td>\n",
              "      <td>['ok']</td>\n",
              "      <td>['ok']</td>\n",
              "      <td>['ok']</td>\n",
              "      <td>positif</td>\n",
              "      <td>1</td>\n",
              "    </tr>\n",
              "  </tbody>\n",
              "</table>\n",
              "</div>\n",
              "    <div class=\"colab-df-buttons\">\n",
              "\n",
              "  <div class=\"colab-df-container\">\n",
              "    <button class=\"colab-df-convert\" onclick=\"convertToInteractive('df-97ad8f0d-7518-43bc-9dbf-3b6dd1155c15')\"\n",
              "            title=\"Convert this dataframe to an interactive table.\"\n",
              "            style=\"display:none;\">\n",
              "\n",
              "  <svg xmlns=\"http://www.w3.org/2000/svg\" height=\"24px\" viewBox=\"0 -960 960 960\">\n",
              "    <path d=\"M120-120v-720h720v720H120Zm60-500h600v-160H180v160Zm220 220h160v-160H400v160Zm0 220h160v-160H400v160ZM180-400h160v-160H180v160Zm440 0h160v-160H620v160ZM180-180h160v-160H180v160Zm440 0h160v-160H620v160Z\"/>\n",
              "  </svg>\n",
              "    </button>\n",
              "\n",
              "  <style>\n",
              "    .colab-df-container {\n",
              "      display:flex;\n",
              "      gap: 12px;\n",
              "    }\n",
              "\n",
              "    .colab-df-convert {\n",
              "      background-color: #E8F0FE;\n",
              "      border: none;\n",
              "      border-radius: 50%;\n",
              "      cursor: pointer;\n",
              "      display: none;\n",
              "      fill: #1967D2;\n",
              "      height: 32px;\n",
              "      padding: 0 0 0 0;\n",
              "      width: 32px;\n",
              "    }\n",
              "\n",
              "    .colab-df-convert:hover {\n",
              "      background-color: #E2EBFA;\n",
              "      box-shadow: 0px 1px 2px rgba(60, 64, 67, 0.3), 0px 1px 3px 1px rgba(60, 64, 67, 0.15);\n",
              "      fill: #174EA6;\n",
              "    }\n",
              "\n",
              "    .colab-df-buttons div {\n",
              "      margin-bottom: 4px;\n",
              "    }\n",
              "\n",
              "    [theme=dark] .colab-df-convert {\n",
              "      background-color: #3B4455;\n",
              "      fill: #D2E3FC;\n",
              "    }\n",
              "\n",
              "    [theme=dark] .colab-df-convert:hover {\n",
              "      background-color: #434B5C;\n",
              "      box-shadow: 0px 1px 3px 1px rgba(0, 0, 0, 0.15);\n",
              "      filter: drop-shadow(0px 1px 2px rgba(0, 0, 0, 0.3));\n",
              "      fill: #FFFFFF;\n",
              "    }\n",
              "  </style>\n",
              "\n",
              "    <script>\n",
              "      const buttonEl =\n",
              "        document.querySelector('#df-97ad8f0d-7518-43bc-9dbf-3b6dd1155c15 button.colab-df-convert');\n",
              "      buttonEl.style.display =\n",
              "        google.colab.kernel.accessAllowed ? 'block' : 'none';\n",
              "\n",
              "      async function convertToInteractive(key) {\n",
              "        const element = document.querySelector('#df-97ad8f0d-7518-43bc-9dbf-3b6dd1155c15');\n",
              "        const dataTable =\n",
              "          await google.colab.kernel.invokeFunction('convertToInteractive',\n",
              "                                                    [key], {});\n",
              "        if (!dataTable) return;\n",
              "\n",
              "        const docLinkHtml = 'Like what you see? Visit the ' +\n",
              "          '<a target=\"_blank\" href=https://colab.research.google.com/notebooks/data_table.ipynb>data table notebook</a>'\n",
              "          + ' to learn more about interactive tables.';\n",
              "        element.innerHTML = '';\n",
              "        dataTable['output_type'] = 'display_data';\n",
              "        await google.colab.output.renderOutput(dataTable, element);\n",
              "        const docLink = document.createElement('div');\n",
              "        docLink.innerHTML = docLinkHtml;\n",
              "        element.appendChild(docLink);\n",
              "      }\n",
              "    </script>\n",
              "  </div>\n",
              "\n",
              "\n",
              "    <div id=\"df-ce07bbdc-31d0-4e5e-a3b5-d870e31a36d4\">\n",
              "      <button class=\"colab-df-quickchart\" onclick=\"quickchart('df-ce07bbdc-31d0-4e5e-a3b5-d870e31a36d4')\"\n",
              "                title=\"Suggest charts\"\n",
              "                style=\"display:none;\">\n",
              "\n",
              "<svg xmlns=\"http://www.w3.org/2000/svg\" height=\"24px\"viewBox=\"0 0 24 24\"\n",
              "     width=\"24px\">\n",
              "    <g>\n",
              "        <path d=\"M19 3H5c-1.1 0-2 .9-2 2v14c0 1.1.9 2 2 2h14c1.1 0 2-.9 2-2V5c0-1.1-.9-2-2-2zM9 17H7v-7h2v7zm4 0h-2V7h2v10zm4 0h-2v-4h2v4z\"/>\n",
              "    </g>\n",
              "</svg>\n",
              "      </button>\n",
              "\n",
              "<style>\n",
              "  .colab-df-quickchart {\n",
              "      --bg-color: #E8F0FE;\n",
              "      --fill-color: #1967D2;\n",
              "      --hover-bg-color: #E2EBFA;\n",
              "      --hover-fill-color: #174EA6;\n",
              "      --disabled-fill-color: #AAA;\n",
              "      --disabled-bg-color: #DDD;\n",
              "  }\n",
              "\n",
              "  [theme=dark] .colab-df-quickchart {\n",
              "      --bg-color: #3B4455;\n",
              "      --fill-color: #D2E3FC;\n",
              "      --hover-bg-color: #434B5C;\n",
              "      --hover-fill-color: #FFFFFF;\n",
              "      --disabled-bg-color: #3B4455;\n",
              "      --disabled-fill-color: #666;\n",
              "  }\n",
              "\n",
              "  .colab-df-quickchart {\n",
              "    background-color: var(--bg-color);\n",
              "    border: none;\n",
              "    border-radius: 50%;\n",
              "    cursor: pointer;\n",
              "    display: none;\n",
              "    fill: var(--fill-color);\n",
              "    height: 32px;\n",
              "    padding: 0;\n",
              "    width: 32px;\n",
              "  }\n",
              "\n",
              "  .colab-df-quickchart:hover {\n",
              "    background-color: var(--hover-bg-color);\n",
              "    box-shadow: 0 1px 2px rgba(60, 64, 67, 0.3), 0 1px 3px 1px rgba(60, 64, 67, 0.15);\n",
              "    fill: var(--button-hover-fill-color);\n",
              "  }\n",
              "\n",
              "  .colab-df-quickchart-complete:disabled,\n",
              "  .colab-df-quickchart-complete:disabled:hover {\n",
              "    background-color: var(--disabled-bg-color);\n",
              "    fill: var(--disabled-fill-color);\n",
              "    box-shadow: none;\n",
              "  }\n",
              "\n",
              "  .colab-df-spinner {\n",
              "    border: 2px solid var(--fill-color);\n",
              "    border-color: transparent;\n",
              "    border-bottom-color: var(--fill-color);\n",
              "    animation:\n",
              "      spin 1s steps(1) infinite;\n",
              "  }\n",
              "\n",
              "  @keyframes spin {\n",
              "    0% {\n",
              "      border-color: transparent;\n",
              "      border-bottom-color: var(--fill-color);\n",
              "      border-left-color: var(--fill-color);\n",
              "    }\n",
              "    20% {\n",
              "      border-color: transparent;\n",
              "      border-left-color: var(--fill-color);\n",
              "      border-top-color: var(--fill-color);\n",
              "    }\n",
              "    30% {\n",
              "      border-color: transparent;\n",
              "      border-left-color: var(--fill-color);\n",
              "      border-top-color: var(--fill-color);\n",
              "      border-right-color: var(--fill-color);\n",
              "    }\n",
              "    40% {\n",
              "      border-color: transparent;\n",
              "      border-right-color: var(--fill-color);\n",
              "      border-top-color: var(--fill-color);\n",
              "    }\n",
              "    60% {\n",
              "      border-color: transparent;\n",
              "      border-right-color: var(--fill-color);\n",
              "    }\n",
              "    80% {\n",
              "      border-color: transparent;\n",
              "      border-right-color: var(--fill-color);\n",
              "      border-bottom-color: var(--fill-color);\n",
              "    }\n",
              "    90% {\n",
              "      border-color: transparent;\n",
              "      border-bottom-color: var(--fill-color);\n",
              "    }\n",
              "  }\n",
              "</style>\n",
              "\n",
              "      <script>\n",
              "        async function quickchart(key) {\n",
              "          const quickchartButtonEl =\n",
              "            document.querySelector('#' + key + ' button');\n",
              "          quickchartButtonEl.disabled = true;  // To prevent multiple clicks.\n",
              "          quickchartButtonEl.classList.add('colab-df-spinner');\n",
              "          try {\n",
              "            const charts = await google.colab.kernel.invokeFunction(\n",
              "                'suggestCharts', [key], {});\n",
              "          } catch (error) {\n",
              "            console.error('Error during call to suggestCharts:', error);\n",
              "          }\n",
              "          quickchartButtonEl.classList.remove('colab-df-spinner');\n",
              "          quickchartButtonEl.classList.add('colab-df-quickchart-complete');\n",
              "        }\n",
              "        (() => {\n",
              "          let quickchartButtonEl =\n",
              "            document.querySelector('#df-ce07bbdc-31d0-4e5e-a3b5-d870e31a36d4 button');\n",
              "          quickchartButtonEl.style.display =\n",
              "            google.colab.kernel.accessAllowed ? 'block' : 'none';\n",
              "        })();\n",
              "      </script>\n",
              "    </div>\n",
              "\n",
              "    </div>\n",
              "  </div>\n"
            ],
            "application/vnd.google.colaboratory.intrinsic+json": {
              "type": "dataframe",
              "variable_name": "ulasan_bow",
              "summary": "{\n  \"name\": \"ulasan_bow\",\n  \"rows\": 19996,\n  \"fields\": [\n    {\n      \"column\": \"content\",\n      \"properties\": {\n        \"dtype\": \"string\",\n        \"num_unique_values\": 14267,\n        \"samples\": [\n          \"\\ud83e\\udd1d\\ud83c\\uddf9\\ud83c\\uddf1\\ud83c\\uddf9\\ud83c\\uddf1\",\n          \"Aplikasi WhatsApp saya sudah versi terbaru tapi Meta Ai belum juga muncul. Padahal saya sudah mengirim pesan ke pusat bantuan dan hasilnya nihil jadi tolong untuk sediakan Meta Ai di aplikasi WhatsApp saya.Terimakasih\",\n          \"Wa saya tiba\\u00b2 ada pemberitahuan update, pas update ngulang terus\"\n        ],\n        \"semantic_type\": \"\",\n        \"description\": \"\"\n      }\n    },\n    {\n      \"column\": \"score\",\n      \"properties\": {\n        \"dtype\": \"number\",\n        \"std\": 1,\n        \"min\": 1,\n        \"max\": 5,\n        \"num_unique_values\": 5,\n        \"samples\": [\n          3,\n          1,\n          5\n        ],\n        \"semantic_type\": \"\",\n        \"description\": \"\"\n      }\n    },\n    {\n      \"column\": \"word_count\",\n      \"properties\": {\n        \"dtype\": \"number\",\n        \"std\": 10,\n        \"min\": 1,\n        \"max\": 101,\n        \"num_unique_values\": 91,\n        \"samples\": [\n          36,\n          21,\n          58\n        ],\n        \"semantic_type\": \"\",\n        \"description\": \"\"\n      }\n    },\n    {\n      \"column\": \"clean_content\",\n      \"properties\": {\n        \"dtype\": \"string\",\n        \"num_unique_values\": 14164,\n        \"samples\": [\n          \"knpa ini tiba lag waktu pemutaran video padahal udh di download biasanya klw udh di download klw vidio di putar itu lancar tpi kok ini mutarngelag waktu ku coba putar videonya\",\n          \"Sangat bagus aku suka bangat\",\n          \"Selalu kena spam dari pihak whapsapp\"\n        ],\n        \"semantic_type\": \"\",\n        \"description\": \"\"\n      }\n    },\n    {\n      \"column\": \"casefold_content\",\n      \"properties\": {\n        \"dtype\": \"string\",\n        \"num_unique_values\": 13791,\n        \"samples\": [\n          \"mohon bantuan nya buat pihak whatsap kenapa whatsap saya slalu kenak spam sementara sya tidak prnah melanggar aturan pihak whatsap tolong di perbaiki secepatnya\",\n          \"membantu bisnis jadi mudah\",\n          \"berilah saya petunjuk untuk memperbaru whatshapnya dan jangan dipersulit\"\n        ],\n        \"semantic_type\": \"\",\n        \"description\": \"\"\n      }\n    },\n    {\n      \"column\": \"tokens\",\n      \"properties\": {\n        \"dtype\": \"string\",\n        \"num_unique_values\": 13791,\n        \"samples\": [\n          \"['mohon', 'bantuan', 'nya', 'buat', 'pihak', 'whatsap', 'kenapa', 'whatsap', 'saya', 'slalu', 'kenak', 'spam', 'sementara', 'sya', 'tidak', 'prnah', 'melanggar', 'aturan', 'pihak', 'whatsap', 'tolong', 'di', 'perbaiki', 'secepatnya']\",\n          \"['membantu', 'bisnis', 'jadi', 'mudah']\",\n          \"['berilah', 'saya', 'petunjuk', 'untuk', 'memperbaru', 'whatshapnya', 'dan', 'jangan', 'dipersulit']\"\n        ],\n        \"semantic_type\": \"\",\n        \"description\": \"\"\n      }\n    },\n    {\n      \"column\": \"stemmed_tokens\",\n      \"properties\": {\n        \"dtype\": \"string\",\n        \"num_unique_values\": 13446,\n        \"samples\": [\n          \"['knpa', 'wa', 'saya', 'blom', 'ada', 'meta', 'ai', 'nya', 'ya', 'min']\",\n          \"['bagus', 'banget', 'apk', 'ini']\",\n          \"['gas']\"\n        ],\n        \"semantic_type\": \"\",\n        \"description\": \"\"\n      }\n    },\n    {\n      \"column\": \"tokens_negation\",\n      \"properties\": {\n        \"dtype\": \"string\",\n        \"num_unique_values\": 13446,\n        \"samples\": [\n          \"['knpa', 'wa', 'saya', 'blom', 'ada', 'meta', 'ai', 'nya', 'ya', 'min']\",\n          \"['bagus', 'banget', 'apk', 'ini']\",\n          \"['gas']\"\n        ],\n        \"semantic_type\": \"\",\n        \"description\": \"\"\n      }\n    },\n    {\n      \"column\": \"tokens_slang\",\n      \"properties\": {\n        \"dtype\": \"string\",\n        \"num_unique_values\": 13273,\n        \"samples\": [\n          \"['terlalu', 'tebet', 'wasap', 'sekarang']\",\n          \"['aplikasi', 'ini', 'seperti', 'jauh', 'lebih', 'unggul']\",\n          \"['aplikasi', 'tidak jelas', 'masa', 'cewek', 'ga', 'ada', 'yang', 'mau', 'balas', 'pesan', 'dari', 'saya', 'aplikasi', 'tidak_ramah']\"\n        ],\n        \"semantic_type\": \"\",\n        \"description\": \"\"\n      }\n    },\n    {\n      \"column\": \"stopword_removal\",\n      \"properties\": {\n        \"dtype\": \"string\",\n        \"num_unique_values\": 11934,\n        \"samples\": [\n          \"['slebeeee']\",\n          \"['bagus', 'banget', 'fitur', 'ai']\",\n          \"['aplikasainya', 'bagus']\"\n        ],\n        \"semantic_type\": \"\",\n        \"description\": \"\"\n      }\n    },\n    {\n      \"column\": \"sentiment_label\",\n      \"properties\": {\n        \"dtype\": \"category\",\n        \"num_unique_values\": 3,\n        \"samples\": [\n          \"netral\",\n          \"positif\",\n          \"negatif\"\n        ],\n        \"semantic_type\": \"\",\n        \"description\": \"\"\n      }\n    },\n    {\n      \"column\": \"sentiment_score\",\n      \"properties\": {\n        \"dtype\": \"number\",\n        \"std\": 1,\n        \"min\": -9,\n        \"max\": 25,\n        \"num_unique_values\": 30,\n        \"samples\": [\n          16,\n          6,\n          13\n        ],\n        \"semantic_type\": \"\",\n        \"description\": \"\"\n      }\n    }\n  ]\n}"
            }
          },
          "metadata": {},
          "execution_count": 76
        }
      ],
      "source": [
        "ulasan_bow.head()"
      ]
    },
    {
      "cell_type": "code",
      "execution_count": 77,
      "metadata": {
        "id": "_nEX9Xnxcezu"
      },
      "outputs": [],
      "source": [
        "# Ekstrak Data untuk Klasifikasi\n",
        "texts = ulasan_bow['stopword_removal'].tolist()\n",
        "labels = ulasan_bow['sentiment_label'].tolist()"
      ]
    },
    {
      "cell_type": "code",
      "execution_count": 78,
      "metadata": {
        "id": "5BUaTLNeNyVY"
      },
      "outputs": [],
      "source": [
        "class BOWVectorizer:\n",
        "    def __init__(self, max_features=5000):\n",
        "        self.vectorizer = CountVectorizer(\n",
        "            max_features=max_features\n",
        "        )\n",
        "\n",
        "    def fit_transform(self, texts):\n",
        "        # Transformasi BoW\n",
        "        bow_matrix = self.vectorizer.fit_transform(texts)\n",
        "\n",
        "        return bow_matrix.toarray(), self.vectorizer.get_feature_names_out()\n",
        "\n",
        "    def transform(self, texts):\n",
        "        # Transformasi BoW\n",
        "        bow_matrix = self.vectorizer.transform(texts)\n",
        "\n",
        "        return bow_matrix.toarray()"
      ]
    },
    {
      "cell_type": "markdown",
      "metadata": {
        "id": "cq6bb1mKN1af"
      },
      "source": [
        "## **N-Gram Module**"
      ]
    },
    {
      "cell_type": "code",
      "execution_count": 79,
      "metadata": {
        "id": "R1vr8eMwN31H"
      },
      "outputs": [],
      "source": [
        "class NGramVectorizer:\n",
        "    def __init__(self, ngram_range=(1,2), max_features=5000):\n",
        "        self.vectorizer = TfidfVectorizer(\n",
        "            ngram_range=ngram_range,\n",
        "            max_features=max_features\n",
        "        )\n",
        "\n",
        "    def fit_transform(self, texts):\n",
        "        # Transformasi N-Gram\n",
        "        ngram_matrix = self.vectorizer.fit_transform(texts)\n",
        "\n",
        "        return ngram_matrix.toarray(), self.vectorizer.get_feature_names_out()\n",
        "\n",
        "    def transform(self, texts):\n",
        "        # Transformasi N-Gram\n",
        "        ngram_matrix = self.vectorizer.transform(texts)\n",
        "\n",
        "        return ngram_matrix.toarray()"
      ]
    },
    {
      "cell_type": "markdown",
      "source": [
        "## **SVM x BoW (80/20)**"
      ],
      "metadata": {
        "id": "jy1UzV_j2JUk"
      }
    },
    {
      "cell_type": "markdown",
      "metadata": {
        "id": "6f0qb11JdIXT"
      },
      "source": [
        "### **Praprocessing Teks untuk Model SVM Menggunakan BoW (80/20)**"
      ]
    },
    {
      "cell_type": "code",
      "execution_count": 80,
      "metadata": {
        "id": "XkGqoOcQdPQP"
      },
      "outputs": [],
      "source": [
        "texts_train_bow, texts_test_bow, label_train_bow, label_test_bow = train_test_split(\n",
        "    texts, labels,\n",
        "    test_size=0.2,\n",
        "    random_state=42,\n",
        "    stratify=labels\n",
        ")"
      ]
    },
    {
      "cell_type": "code",
      "execution_count": 81,
      "metadata": {
        "id": "DfBXb31hipBL"
      },
      "outputs": [],
      "source": [
        "# Inisialisasi BoW Vectorizer\n",
        "bow_vectorizer = BOWVectorizer(max_features=10000)"
      ]
    },
    {
      "cell_type": "code",
      "execution_count": 82,
      "metadata": {
        "id": "AGB1B6nTi7hw"
      },
      "outputs": [],
      "source": [
        "# Transformasi data training menggunakan BoW\n",
        "texts_bow_train, bow_features = bow_vectorizer.fit_transform(texts_train_bow)\n",
        "\n",
        "# Transformasi data testing menggunakan BoW\n",
        "texts_bow_test = bow_vectorizer.transform(texts_test_bow)"
      ]
    },
    {
      "cell_type": "markdown",
      "metadata": {
        "id": "uzUeH-2rdPzs"
      },
      "source": [
        "### **Pelatihan dan Prediksi Model SVM**"
      ]
    },
    {
      "cell_type": "code",
      "execution_count": 102,
      "metadata": {
        "id": "IqOOfOCFdQSF"
      },
      "outputs": [],
      "source": [
        "# Inisialisasi Linear SVM\n",
        "linear_svm_bow = SVC(kernel='linear', class_weight='balanced')"
      ]
    },
    {
      "cell_type": "code",
      "source": [
        "# Latih model\n",
        "linear_svm_bow.fit(texts_bow_train, label_train_bow)"
      ],
      "metadata": {
        "colab": {
          "base_uri": "https://localhost:8080/",
          "height": 0
        },
        "id": "byNmNQXGtHHE",
        "outputId": "6eb17e18-4e53-46bb-bdcf-7fc7e904ba65"
      },
      "execution_count": 103,
      "outputs": [
        {
          "output_type": "execute_result",
          "data": {
            "text/plain": [
              "SVC(class_weight='balanced', kernel='linear')"
            ],
            "text/html": [
              "<style>#sk-container-id-1 {\n",
              "  /* Definition of color scheme common for light and dark mode */\n",
              "  --sklearn-color-text: #000;\n",
              "  --sklearn-color-text-muted: #666;\n",
              "  --sklearn-color-line: gray;\n",
              "  /* Definition of color scheme for unfitted estimators */\n",
              "  --sklearn-color-unfitted-level-0: #fff5e6;\n",
              "  --sklearn-color-unfitted-level-1: #f6e4d2;\n",
              "  --sklearn-color-unfitted-level-2: #ffe0b3;\n",
              "  --sklearn-color-unfitted-level-3: chocolate;\n",
              "  /* Definition of color scheme for fitted estimators */\n",
              "  --sklearn-color-fitted-level-0: #f0f8ff;\n",
              "  --sklearn-color-fitted-level-1: #d4ebff;\n",
              "  --sklearn-color-fitted-level-2: #b3dbfd;\n",
              "  --sklearn-color-fitted-level-3: cornflowerblue;\n",
              "\n",
              "  /* Specific color for light theme */\n",
              "  --sklearn-color-text-on-default-background: var(--sg-text-color, var(--theme-code-foreground, var(--jp-content-font-color1, black)));\n",
              "  --sklearn-color-background: var(--sg-background-color, var(--theme-background, var(--jp-layout-color0, white)));\n",
              "  --sklearn-color-border-box: var(--sg-text-color, var(--theme-code-foreground, var(--jp-content-font-color1, black)));\n",
              "  --sklearn-color-icon: #696969;\n",
              "\n",
              "  @media (prefers-color-scheme: dark) {\n",
              "    /* Redefinition of color scheme for dark theme */\n",
              "    --sklearn-color-text-on-default-background: var(--sg-text-color, var(--theme-code-foreground, var(--jp-content-font-color1, white)));\n",
              "    --sklearn-color-background: var(--sg-background-color, var(--theme-background, var(--jp-layout-color0, #111)));\n",
              "    --sklearn-color-border-box: var(--sg-text-color, var(--theme-code-foreground, var(--jp-content-font-color1, white)));\n",
              "    --sklearn-color-icon: #878787;\n",
              "  }\n",
              "}\n",
              "\n",
              "#sk-container-id-1 {\n",
              "  color: var(--sklearn-color-text);\n",
              "}\n",
              "\n",
              "#sk-container-id-1 pre {\n",
              "  padding: 0;\n",
              "}\n",
              "\n",
              "#sk-container-id-1 input.sk-hidden--visually {\n",
              "  border: 0;\n",
              "  clip: rect(1px 1px 1px 1px);\n",
              "  clip: rect(1px, 1px, 1px, 1px);\n",
              "  height: 1px;\n",
              "  margin: -1px;\n",
              "  overflow: hidden;\n",
              "  padding: 0;\n",
              "  position: absolute;\n",
              "  width: 1px;\n",
              "}\n",
              "\n",
              "#sk-container-id-1 div.sk-dashed-wrapped {\n",
              "  border: 1px dashed var(--sklearn-color-line);\n",
              "  margin: 0 0.4em 0.5em 0.4em;\n",
              "  box-sizing: border-box;\n",
              "  padding-bottom: 0.4em;\n",
              "  background-color: var(--sklearn-color-background);\n",
              "}\n",
              "\n",
              "#sk-container-id-1 div.sk-container {\n",
              "  /* jupyter's `normalize.less` sets `[hidden] { display: none; }`\n",
              "     but bootstrap.min.css set `[hidden] { display: none !important; }`\n",
              "     so we also need the `!important` here to be able to override the\n",
              "     default hidden behavior on the sphinx rendered scikit-learn.org.\n",
              "     See: https://github.com/scikit-learn/scikit-learn/issues/21755 */\n",
              "  display: inline-block !important;\n",
              "  position: relative;\n",
              "}\n",
              "\n",
              "#sk-container-id-1 div.sk-text-repr-fallback {\n",
              "  display: none;\n",
              "}\n",
              "\n",
              "div.sk-parallel-item,\n",
              "div.sk-serial,\n",
              "div.sk-item {\n",
              "  /* draw centered vertical line to link estimators */\n",
              "  background-image: linear-gradient(var(--sklearn-color-text-on-default-background), var(--sklearn-color-text-on-default-background));\n",
              "  background-size: 2px 100%;\n",
              "  background-repeat: no-repeat;\n",
              "  background-position: center center;\n",
              "}\n",
              "\n",
              "/* Parallel-specific style estimator block */\n",
              "\n",
              "#sk-container-id-1 div.sk-parallel-item::after {\n",
              "  content: \"\";\n",
              "  width: 100%;\n",
              "  border-bottom: 2px solid var(--sklearn-color-text-on-default-background);\n",
              "  flex-grow: 1;\n",
              "}\n",
              "\n",
              "#sk-container-id-1 div.sk-parallel {\n",
              "  display: flex;\n",
              "  align-items: stretch;\n",
              "  justify-content: center;\n",
              "  background-color: var(--sklearn-color-background);\n",
              "  position: relative;\n",
              "}\n",
              "\n",
              "#sk-container-id-1 div.sk-parallel-item {\n",
              "  display: flex;\n",
              "  flex-direction: column;\n",
              "}\n",
              "\n",
              "#sk-container-id-1 div.sk-parallel-item:first-child::after {\n",
              "  align-self: flex-end;\n",
              "  width: 50%;\n",
              "}\n",
              "\n",
              "#sk-container-id-1 div.sk-parallel-item:last-child::after {\n",
              "  align-self: flex-start;\n",
              "  width: 50%;\n",
              "}\n",
              "\n",
              "#sk-container-id-1 div.sk-parallel-item:only-child::after {\n",
              "  width: 0;\n",
              "}\n",
              "\n",
              "/* Serial-specific style estimator block */\n",
              "\n",
              "#sk-container-id-1 div.sk-serial {\n",
              "  display: flex;\n",
              "  flex-direction: column;\n",
              "  align-items: center;\n",
              "  background-color: var(--sklearn-color-background);\n",
              "  padding-right: 1em;\n",
              "  padding-left: 1em;\n",
              "}\n",
              "\n",
              "\n",
              "/* Toggleable style: style used for estimator/Pipeline/ColumnTransformer box that is\n",
              "clickable and can be expanded/collapsed.\n",
              "- Pipeline and ColumnTransformer use this feature and define the default style\n",
              "- Estimators will overwrite some part of the style using the `sk-estimator` class\n",
              "*/\n",
              "\n",
              "/* Pipeline and ColumnTransformer style (default) */\n",
              "\n",
              "#sk-container-id-1 div.sk-toggleable {\n",
              "  /* Default theme specific background. It is overwritten whether we have a\n",
              "  specific estimator or a Pipeline/ColumnTransformer */\n",
              "  background-color: var(--sklearn-color-background);\n",
              "}\n",
              "\n",
              "/* Toggleable label */\n",
              "#sk-container-id-1 label.sk-toggleable__label {\n",
              "  cursor: pointer;\n",
              "  display: flex;\n",
              "  width: 100%;\n",
              "  margin-bottom: 0;\n",
              "  padding: 0.5em;\n",
              "  box-sizing: border-box;\n",
              "  text-align: center;\n",
              "  align-items: start;\n",
              "  justify-content: space-between;\n",
              "  gap: 0.5em;\n",
              "}\n",
              "\n",
              "#sk-container-id-1 label.sk-toggleable__label .caption {\n",
              "  font-size: 0.6rem;\n",
              "  font-weight: lighter;\n",
              "  color: var(--sklearn-color-text-muted);\n",
              "}\n",
              "\n",
              "#sk-container-id-1 label.sk-toggleable__label-arrow:before {\n",
              "  /* Arrow on the left of the label */\n",
              "  content: \"▸\";\n",
              "  float: left;\n",
              "  margin-right: 0.25em;\n",
              "  color: var(--sklearn-color-icon);\n",
              "}\n",
              "\n",
              "#sk-container-id-1 label.sk-toggleable__label-arrow:hover:before {\n",
              "  color: var(--sklearn-color-text);\n",
              "}\n",
              "\n",
              "/* Toggleable content - dropdown */\n",
              "\n",
              "#sk-container-id-1 div.sk-toggleable__content {\n",
              "  max-height: 0;\n",
              "  max-width: 0;\n",
              "  overflow: hidden;\n",
              "  text-align: left;\n",
              "  /* unfitted */\n",
              "  background-color: var(--sklearn-color-unfitted-level-0);\n",
              "}\n",
              "\n",
              "#sk-container-id-1 div.sk-toggleable__content.fitted {\n",
              "  /* fitted */\n",
              "  background-color: var(--sklearn-color-fitted-level-0);\n",
              "}\n",
              "\n",
              "#sk-container-id-1 div.sk-toggleable__content pre {\n",
              "  margin: 0.2em;\n",
              "  border-radius: 0.25em;\n",
              "  color: var(--sklearn-color-text);\n",
              "  /* unfitted */\n",
              "  background-color: var(--sklearn-color-unfitted-level-0);\n",
              "}\n",
              "\n",
              "#sk-container-id-1 div.sk-toggleable__content.fitted pre {\n",
              "  /* unfitted */\n",
              "  background-color: var(--sklearn-color-fitted-level-0);\n",
              "}\n",
              "\n",
              "#sk-container-id-1 input.sk-toggleable__control:checked~div.sk-toggleable__content {\n",
              "  /* Expand drop-down */\n",
              "  max-height: 200px;\n",
              "  max-width: 100%;\n",
              "  overflow: auto;\n",
              "}\n",
              "\n",
              "#sk-container-id-1 input.sk-toggleable__control:checked~label.sk-toggleable__label-arrow:before {\n",
              "  content: \"▾\";\n",
              "}\n",
              "\n",
              "/* Pipeline/ColumnTransformer-specific style */\n",
              "\n",
              "#sk-container-id-1 div.sk-label input.sk-toggleable__control:checked~label.sk-toggleable__label {\n",
              "  color: var(--sklearn-color-text);\n",
              "  background-color: var(--sklearn-color-unfitted-level-2);\n",
              "}\n",
              "\n",
              "#sk-container-id-1 div.sk-label.fitted input.sk-toggleable__control:checked~label.sk-toggleable__label {\n",
              "  background-color: var(--sklearn-color-fitted-level-2);\n",
              "}\n",
              "\n",
              "/* Estimator-specific style */\n",
              "\n",
              "/* Colorize estimator box */\n",
              "#sk-container-id-1 div.sk-estimator input.sk-toggleable__control:checked~label.sk-toggleable__label {\n",
              "  /* unfitted */\n",
              "  background-color: var(--sklearn-color-unfitted-level-2);\n",
              "}\n",
              "\n",
              "#sk-container-id-1 div.sk-estimator.fitted input.sk-toggleable__control:checked~label.sk-toggleable__label {\n",
              "  /* fitted */\n",
              "  background-color: var(--sklearn-color-fitted-level-2);\n",
              "}\n",
              "\n",
              "#sk-container-id-1 div.sk-label label.sk-toggleable__label,\n",
              "#sk-container-id-1 div.sk-label label {\n",
              "  /* The background is the default theme color */\n",
              "  color: var(--sklearn-color-text-on-default-background);\n",
              "}\n",
              "\n",
              "/* On hover, darken the color of the background */\n",
              "#sk-container-id-1 div.sk-label:hover label.sk-toggleable__label {\n",
              "  color: var(--sklearn-color-text);\n",
              "  background-color: var(--sklearn-color-unfitted-level-2);\n",
              "}\n",
              "\n",
              "/* Label box, darken color on hover, fitted */\n",
              "#sk-container-id-1 div.sk-label.fitted:hover label.sk-toggleable__label.fitted {\n",
              "  color: var(--sklearn-color-text);\n",
              "  background-color: var(--sklearn-color-fitted-level-2);\n",
              "}\n",
              "\n",
              "/* Estimator label */\n",
              "\n",
              "#sk-container-id-1 div.sk-label label {\n",
              "  font-family: monospace;\n",
              "  font-weight: bold;\n",
              "  display: inline-block;\n",
              "  line-height: 1.2em;\n",
              "}\n",
              "\n",
              "#sk-container-id-1 div.sk-label-container {\n",
              "  text-align: center;\n",
              "}\n",
              "\n",
              "/* Estimator-specific */\n",
              "#sk-container-id-1 div.sk-estimator {\n",
              "  font-family: monospace;\n",
              "  border: 1px dotted var(--sklearn-color-border-box);\n",
              "  border-radius: 0.25em;\n",
              "  box-sizing: border-box;\n",
              "  margin-bottom: 0.5em;\n",
              "  /* unfitted */\n",
              "  background-color: var(--sklearn-color-unfitted-level-0);\n",
              "}\n",
              "\n",
              "#sk-container-id-1 div.sk-estimator.fitted {\n",
              "  /* fitted */\n",
              "  background-color: var(--sklearn-color-fitted-level-0);\n",
              "}\n",
              "\n",
              "/* on hover */\n",
              "#sk-container-id-1 div.sk-estimator:hover {\n",
              "  /* unfitted */\n",
              "  background-color: var(--sklearn-color-unfitted-level-2);\n",
              "}\n",
              "\n",
              "#sk-container-id-1 div.sk-estimator.fitted:hover {\n",
              "  /* fitted */\n",
              "  background-color: var(--sklearn-color-fitted-level-2);\n",
              "}\n",
              "\n",
              "/* Specification for estimator info (e.g. \"i\" and \"?\") */\n",
              "\n",
              "/* Common style for \"i\" and \"?\" */\n",
              "\n",
              ".sk-estimator-doc-link,\n",
              "a:link.sk-estimator-doc-link,\n",
              "a:visited.sk-estimator-doc-link {\n",
              "  float: right;\n",
              "  font-size: smaller;\n",
              "  line-height: 1em;\n",
              "  font-family: monospace;\n",
              "  background-color: var(--sklearn-color-background);\n",
              "  border-radius: 1em;\n",
              "  height: 1em;\n",
              "  width: 1em;\n",
              "  text-decoration: none !important;\n",
              "  margin-left: 0.5em;\n",
              "  text-align: center;\n",
              "  /* unfitted */\n",
              "  border: var(--sklearn-color-unfitted-level-1) 1pt solid;\n",
              "  color: var(--sklearn-color-unfitted-level-1);\n",
              "}\n",
              "\n",
              ".sk-estimator-doc-link.fitted,\n",
              "a:link.sk-estimator-doc-link.fitted,\n",
              "a:visited.sk-estimator-doc-link.fitted {\n",
              "  /* fitted */\n",
              "  border: var(--sklearn-color-fitted-level-1) 1pt solid;\n",
              "  color: var(--sklearn-color-fitted-level-1);\n",
              "}\n",
              "\n",
              "/* On hover */\n",
              "div.sk-estimator:hover .sk-estimator-doc-link:hover,\n",
              ".sk-estimator-doc-link:hover,\n",
              "div.sk-label-container:hover .sk-estimator-doc-link:hover,\n",
              ".sk-estimator-doc-link:hover {\n",
              "  /* unfitted */\n",
              "  background-color: var(--sklearn-color-unfitted-level-3);\n",
              "  color: var(--sklearn-color-background);\n",
              "  text-decoration: none;\n",
              "}\n",
              "\n",
              "div.sk-estimator.fitted:hover .sk-estimator-doc-link.fitted:hover,\n",
              ".sk-estimator-doc-link.fitted:hover,\n",
              "div.sk-label-container:hover .sk-estimator-doc-link.fitted:hover,\n",
              ".sk-estimator-doc-link.fitted:hover {\n",
              "  /* fitted */\n",
              "  background-color: var(--sklearn-color-fitted-level-3);\n",
              "  color: var(--sklearn-color-background);\n",
              "  text-decoration: none;\n",
              "}\n",
              "\n",
              "/* Span, style for the box shown on hovering the info icon */\n",
              ".sk-estimator-doc-link span {\n",
              "  display: none;\n",
              "  z-index: 9999;\n",
              "  position: relative;\n",
              "  font-weight: normal;\n",
              "  right: .2ex;\n",
              "  padding: .5ex;\n",
              "  margin: .5ex;\n",
              "  width: min-content;\n",
              "  min-width: 20ex;\n",
              "  max-width: 50ex;\n",
              "  color: var(--sklearn-color-text);\n",
              "  box-shadow: 2pt 2pt 4pt #999;\n",
              "  /* unfitted */\n",
              "  background: var(--sklearn-color-unfitted-level-0);\n",
              "  border: .5pt solid var(--sklearn-color-unfitted-level-3);\n",
              "}\n",
              "\n",
              ".sk-estimator-doc-link.fitted span {\n",
              "  /* fitted */\n",
              "  background: var(--sklearn-color-fitted-level-0);\n",
              "  border: var(--sklearn-color-fitted-level-3);\n",
              "}\n",
              "\n",
              ".sk-estimator-doc-link:hover span {\n",
              "  display: block;\n",
              "}\n",
              "\n",
              "/* \"?\"-specific style due to the `<a>` HTML tag */\n",
              "\n",
              "#sk-container-id-1 a.estimator_doc_link {\n",
              "  float: right;\n",
              "  font-size: 1rem;\n",
              "  line-height: 1em;\n",
              "  font-family: monospace;\n",
              "  background-color: var(--sklearn-color-background);\n",
              "  border-radius: 1rem;\n",
              "  height: 1rem;\n",
              "  width: 1rem;\n",
              "  text-decoration: none;\n",
              "  /* unfitted */\n",
              "  color: var(--sklearn-color-unfitted-level-1);\n",
              "  border: var(--sklearn-color-unfitted-level-1) 1pt solid;\n",
              "}\n",
              "\n",
              "#sk-container-id-1 a.estimator_doc_link.fitted {\n",
              "  /* fitted */\n",
              "  border: var(--sklearn-color-fitted-level-1) 1pt solid;\n",
              "  color: var(--sklearn-color-fitted-level-1);\n",
              "}\n",
              "\n",
              "/* On hover */\n",
              "#sk-container-id-1 a.estimator_doc_link:hover {\n",
              "  /* unfitted */\n",
              "  background-color: var(--sklearn-color-unfitted-level-3);\n",
              "  color: var(--sklearn-color-background);\n",
              "  text-decoration: none;\n",
              "}\n",
              "\n",
              "#sk-container-id-1 a.estimator_doc_link.fitted:hover {\n",
              "  /* fitted */\n",
              "  background-color: var(--sklearn-color-fitted-level-3);\n",
              "}\n",
              "</style><div id=\"sk-container-id-1\" class=\"sk-top-container\"><div class=\"sk-text-repr-fallback\"><pre>SVC(class_weight=&#x27;balanced&#x27;, kernel=&#x27;linear&#x27;)</pre><b>In a Jupyter environment, please rerun this cell to show the HTML representation or trust the notebook. <br />On GitHub, the HTML representation is unable to render, please try loading this page with nbviewer.org.</b></div><div class=\"sk-container\" hidden><div class=\"sk-item\"><div class=\"sk-estimator fitted sk-toggleable\"><input class=\"sk-toggleable__control sk-hidden--visually\" id=\"sk-estimator-id-1\" type=\"checkbox\" checked><label for=\"sk-estimator-id-1\" class=\"sk-toggleable__label fitted sk-toggleable__label-arrow\"><div><div>SVC</div></div><div><a class=\"sk-estimator-doc-link fitted\" rel=\"noreferrer\" target=\"_blank\" href=\"https://scikit-learn.org/1.6/modules/generated/sklearn.svm.SVC.html\">?<span>Documentation for SVC</span></a><span class=\"sk-estimator-doc-link fitted\">i<span>Fitted</span></span></div></label><div class=\"sk-toggleable__content fitted\"><pre>SVC(class_weight=&#x27;balanced&#x27;, kernel=&#x27;linear&#x27;)</pre></div> </div></div></div></div>"
            ]
          },
          "metadata": {},
          "execution_count": 103
        }
      ]
    },
    {
      "cell_type": "markdown",
      "metadata": {
        "id": "1FHCCqn9dQnk"
      },
      "source": [
        "### **Evaluasi Model SVM dengan BoW**"
      ]
    },
    {
      "cell_type": "code",
      "source": [
        "# Prediksi\n",
        "prediksi_latih_bow = linear_svm_bow.predict(texts_bow_train)\n",
        "prediksi_uji_bow = linear_svm_bow.predict(texts_bow_test)\n",
        "\n",
        "# Confusion Matrix\n",
        "cm_latih_bow = confusion_matrix(label_train_bow, prediksi_latih_bow)\n",
        "cm_uji_bow = confusion_matrix(label_test_bow, prediksi_uji_bow)"
      ],
      "metadata": {
        "id": "06xsk-BOtPhi"
      },
      "execution_count": 104,
      "outputs": []
    },
    {
      "cell_type": "code",
      "source": [
        "# Cetak Laporan Klasifikasi\n",
        "print(\"=== Evaluasi Model SVM Linear dengan BoW ===\")\n",
        "\n",
        "print(\"\\nClassification Report (Data Latih):\")\n",
        "print(classification_report(label_train_bow, prediksi_latih_bow))\n",
        "\n",
        "print(\"\\nClassification Report (Data Uji):\")\n",
        "print(classification_report(label_test_bow, prediksi_uji_bow))\n",
        "\n",
        "# Confusion Matrix Data Latih\n",
        "plt.figure(figsize=(16, 6))\n",
        "plt.subplot(1, 2, 1)\n",
        "sns.heatmap(cm_latih_bow, annot=True, fmt=\"d\", cmap=\"Blues\",\n",
        "            square=True, cbar=False)\n",
        "plt.title(\"Confusion Matrix BoW SVM\\n(Data Latih)\")\n",
        "plt.xlabel(\"Label Prediksi\")\n",
        "plt.ylabel(\"Label Sebenarnya\")\n",
        "\n",
        "# Confusion Matrix Data Uji\n",
        "plt.subplot(1, 2, 2)\n",
        "sns.heatmap(cm_uji_bow, annot=True, fmt=\"d\", cmap=\"Blues\",\n",
        "            square=True, cbar=False)\n",
        "plt.title(\"Confusion Matrix BoW SVM\\n(Data Uji)\")\n",
        "plt.xlabel(\"Label Prediksi\")\n",
        "plt.ylabel(\"Label Sebenarnya\")\n",
        "\n",
        "plt.tight_layout()\n",
        "plt.show()"
      ],
      "metadata": {
        "colab": {
          "base_uri": "https://localhost:8080/",
          "height": 0
        },
        "id": "kLC0P0K5u5zu",
        "outputId": "cec9f10b-30af-4d10-d936-86ae7201d95a"
      },
      "execution_count": 127,
      "outputs": [
        {
          "output_type": "stream",
          "name": "stdout",
          "text": [
            "=== Evaluasi Model SVM Linear dengan BoW ===\n",
            "\n",
            "Classification Report (Data Latih):\n",
            "              precision    recall  f1-score   support\n",
            "\n",
            "     negatif       0.99      1.00      1.00      1617\n",
            "      netral       0.98      1.00      0.99      4488\n",
            "     positif       1.00      0.99      0.99      9891\n",
            "\n",
            "    accuracy                           0.99     15996\n",
            "   macro avg       0.99      1.00      0.99     15996\n",
            "weighted avg       0.99      0.99      0.99     15996\n",
            "\n",
            "\n",
            "Classification Report (Data Uji):\n",
            "              precision    recall  f1-score   support\n",
            "\n",
            "     negatif       0.90      0.92      0.91       404\n",
            "      netral       0.93      0.94      0.93      1122\n",
            "     positif       0.99      0.98      0.98      2474\n",
            "\n",
            "    accuracy                           0.96      4000\n",
            "   macro avg       0.94      0.94      0.94      4000\n",
            "weighted avg       0.96      0.96      0.96      4000\n",
            "\n"
          ]
        },
        {
          "output_type": "display_data",
          "data": {
            "text/plain": [
              "<Figure size 1600x600 with 2 Axes>"
            ],
            "image/png": "[encoded data removed]"
          },
          "metadata": {}
        }
      ]
    },
    {
      "cell_type": "markdown",
      "source": [
        "## **SVM x N-Gram (80/20)**"
      ],
      "metadata": {
        "id": "R1tLDzq72SrV"
      }
    },
    {
      "cell_type": "markdown",
      "metadata": {
        "id": "a-CBAsTOdcjn"
      },
      "source": [
        "### **Praprocessing Teks untuk Model SVM Menggunakan N-Gram (80/20)**"
      ]
    },
    {
      "cell_type": "code",
      "execution_count": 87,
      "metadata": {
        "id": "n-m46zw8diRu"
      },
      "outputs": [],
      "source": [
        "# Split data training dan testing (80/20)\n",
        "texts_train_ngram, texts_test_ngram, label_train_ngram, label_test_ngram = train_test_split(\n",
        "    texts, labels,\n",
        "    test_size=0.2,\n",
        "    random_state=42,\n",
        "    stratify=labels\n",
        ")"
      ]
    },
    {
      "cell_type": "code",
      "execution_count": 110,
      "metadata": {
        "id": "4-0usE7fkc-M"
      },
      "outputs": [],
      "source": [
        "# Inisialisasi N-Gram Vectorizer (Unigram + Bigram)\n",
        "ngram_vectorizer = NGramVectorizer(\n",
        "    ngram_range=(1,2),\n",
        "    max_features=2000\n",
        ")"
      ]
    },
    {
      "cell_type": "code",
      "source": [
        "# Transformasi data training menggunakan N-Gram\n",
        "texts_ngram_train, ngram_features = ngram_vectorizer.fit_transform(texts_train_ngram)\n",
        "\n",
        "# Transformasi data testing menggunakan N-Gram\n",
        "texts_ngram_test = ngram_vectorizer.transform(texts_test_ngram)"
      ],
      "metadata": {
        "id": "XuUyrOmIvL9V"
      },
      "execution_count": 111,
      "outputs": []
    },
    {
      "cell_type": "markdown",
      "metadata": {
        "id": "tvCqi0PldilK"
      },
      "source": [
        "### **Pelatihan dan Prediksi Model SVM**"
      ]
    },
    {
      "cell_type": "code",
      "source": [
        "# Pelatihan Model SVM Linear untuk N-Gram\n",
        "linear_svm_ngram = SVC(kernel='linear', class_weight='balanced')\n",
        "linear_svm_ngram.fit(texts_ngram_train, label_train_ngram)"
      ],
      "metadata": {
        "colab": {
          "base_uri": "https://localhost:8080/",
          "height": 80
        },
        "id": "02oQV4IBvU7l",
        "outputId": "3ba72294-95eb-4e55-934d-d62d7e48c5e3"
      },
      "execution_count": 112,
      "outputs": [
        {
          "output_type": "execute_result",
          "data": {
            "text/plain": [
              "SVC(class_weight='balanced', kernel='linear')"
            ],
            "text/html": [
              "<style>#sk-container-id-2 {\n",
              "  /* Definition of color scheme common for light and dark mode */\n",
              "  --sklearn-color-text: #000;\n",
              "  --sklearn-color-text-muted: #666;\n",
              "  --sklearn-color-line: gray;\n",
              "  /* Definition of color scheme for unfitted estimators */\n",
              "  --sklearn-color-unfitted-level-0: #fff5e6;\n",
              "  --sklearn-color-unfitted-level-1: #f6e4d2;\n",
              "  --sklearn-color-unfitted-level-2: #ffe0b3;\n",
              "  --sklearn-color-unfitted-level-3: chocolate;\n",
              "  /* Definition of color scheme for fitted estimators */\n",
              "  --sklearn-color-fitted-level-0: #f0f8ff;\n",
              "  --sklearn-color-fitted-level-1: #d4ebff;\n",
              "  --sklearn-color-fitted-level-2: #b3dbfd;\n",
              "  --sklearn-color-fitted-level-3: cornflowerblue;\n",
              "\n",
              "  /* Specific color for light theme */\n",
              "  --sklearn-color-text-on-default-background: var(--sg-text-color, var(--theme-code-foreground, var(--jp-content-font-color1, black)));\n",
              "  --sklearn-color-background: var(--sg-background-color, var(--theme-background, var(--jp-layout-color0, white)));\n",
              "  --sklearn-color-border-box: var(--sg-text-color, var(--theme-code-foreground, var(--jp-content-font-color1, black)));\n",
              "  --sklearn-color-icon: #696969;\n",
              "\n",
              "  @media (prefers-color-scheme: dark) {\n",
              "    /* Redefinition of color scheme for dark theme */\n",
              "    --sklearn-color-text-on-default-background: var(--sg-text-color, var(--theme-code-foreground, var(--jp-content-font-color1, white)));\n",
              "    --sklearn-color-background: var(--sg-background-color, var(--theme-background, var(--jp-layout-color0, #111)));\n",
              "    --sklearn-color-border-box: var(--sg-text-color, var(--theme-code-foreground, var(--jp-content-font-color1, white)));\n",
              "    --sklearn-color-icon: #878787;\n",
              "  }\n",
              "}\n",
              "\n",
              "#sk-container-id-2 {\n",
              "  color: var(--sklearn-color-text);\n",
              "}\n",
              "\n",
              "#sk-container-id-2 pre {\n",
              "  padding: 0;\n",
              "}\n",
              "\n",
              "#sk-container-id-2 input.sk-hidden--visually {\n",
              "  border: 0;\n",
              "  clip: rect(1px 1px 1px 1px);\n",
              "  clip: rect(1px, 1px, 1px, 1px);\n",
              "  height: 1px;\n",
              "  margin: -1px;\n",
              "  overflow: hidden;\n",
              "  padding: 0;\n",
              "  position: absolute;\n",
              "  width: 1px;\n",
              "}\n",
              "\n",
              "#sk-container-id-2 div.sk-dashed-wrapped {\n",
              "  border: 1px dashed var(--sklearn-color-line);\n",
              "  margin: 0 0.4em 0.5em 0.4em;\n",
              "  box-sizing: border-box;\n",
              "  padding-bottom: 0.4em;\n",
              "  background-color: var(--sklearn-color-background);\n",
              "}\n",
              "\n",
              "#sk-container-id-2 div.sk-container {\n",
              "  /* jupyter's `normalize.less` sets `[hidden] { display: none; }`\n",
              "     but bootstrap.min.css set `[hidden] { display: none !important; }`\n",
              "     so we also need the `!important` here to be able to override the\n",
              "     default hidden behavior on the sphinx rendered scikit-learn.org.\n",
              "     See: https://github.com/scikit-learn/scikit-learn/issues/21755 */\n",
              "  display: inline-block !important;\n",
              "  position: relative;\n",
              "}\n",
              "\n",
              "#sk-container-id-2 div.sk-text-repr-fallback {\n",
              "  display: none;\n",
              "}\n",
              "\n",
              "div.sk-parallel-item,\n",
              "div.sk-serial,\n",
              "div.sk-item {\n",
              "  /* draw centered vertical line to link estimators */\n",
              "  background-image: linear-gradient(var(--sklearn-color-text-on-default-background), var(--sklearn-color-text-on-default-background));\n",
              "  background-size: 2px 100%;\n",
              "  background-repeat: no-repeat;\n",
              "  background-position: center center;\n",
              "}\n",
              "\n",
              "/* Parallel-specific style estimator block */\n",
              "\n",
              "#sk-container-id-2 div.sk-parallel-item::after {\n",
              "  content: \"\";\n",
              "  width: 100%;\n",
              "  border-bottom: 2px solid var(--sklearn-color-text-on-default-background);\n",
              "  flex-grow: 1;\n",
              "}\n",
              "\n",
              "#sk-container-id-2 div.sk-parallel {\n",
              "  display: flex;\n",
              "  align-items: stretch;\n",
              "  justify-content: center;\n",
              "  background-color: var(--sklearn-color-background);\n",
              "  position: relative;\n",
              "}\n",
              "\n",
              "#sk-container-id-2 div.sk-parallel-item {\n",
              "  display: flex;\n",
              "  flex-direction: column;\n",
              "}\n",
              "\n",
              "#sk-container-id-2 div.sk-parallel-item:first-child::after {\n",
              "  align-self: flex-end;\n",
              "  width: 50%;\n",
              "}\n",
              "\n",
              "#sk-container-id-2 div.sk-parallel-item:last-child::after {\n",
              "  align-self: flex-start;\n",
              "  width: 50%;\n",
              "}\n",
              "\n",
              "#sk-container-id-2 div.sk-parallel-item:only-child::after {\n",
              "  width: 0;\n",
              "}\n",
              "\n",
              "/* Serial-specific style estimator block */\n",
              "\n",
              "#sk-container-id-2 div.sk-serial {\n",
              "  display: flex;\n",
              "  flex-direction: column;\n",
              "  align-items: center;\n",
              "  background-color: var(--sklearn-color-background);\n",
              "  padding-right: 1em;\n",
              "  padding-left: 1em;\n",
              "}\n",
              "\n",
              "\n",
              "/* Toggleable style: style used for estimator/Pipeline/ColumnTransformer box that is\n",
              "clickable and can be expanded/collapsed.\n",
              "- Pipeline and ColumnTransformer use this feature and define the default style\n",
              "- Estimators will overwrite some part of the style using the `sk-estimator` class\n",
              "*/\n",
              "\n",
              "/* Pipeline and ColumnTransformer style (default) */\n",
              "\n",
              "#sk-container-id-2 div.sk-toggleable {\n",
              "  /* Default theme specific background. It is overwritten whether we have a\n",
              "  specific estimator or a Pipeline/ColumnTransformer */\n",
              "  background-color: var(--sklearn-color-background);\n",
              "}\n",
              "\n",
              "/* Toggleable label */\n",
              "#sk-container-id-2 label.sk-toggleable__label {\n",
              "  cursor: pointer;\n",
              "  display: flex;\n",
              "  width: 100%;\n",
              "  margin-bottom: 0;\n",
              "  padding: 0.5em;\n",
              "  box-sizing: border-box;\n",
              "  text-align: center;\n",
              "  align-items: start;\n",
              "  justify-content: space-between;\n",
              "  gap: 0.5em;\n",
              "}\n",
              "\n",
              "#sk-container-id-2 label.sk-toggleable__label .caption {\n",
              "  font-size: 0.6rem;\n",
              "  font-weight: lighter;\n",
              "  color: var(--sklearn-color-text-muted);\n",
              "}\n",
              "\n",
              "#sk-container-id-2 label.sk-toggleable__label-arrow:before {\n",
              "  /* Arrow on the left of the label */\n",
              "  content: \"▸\";\n",
              "  float: left;\n",
              "  margin-right: 0.25em;\n",
              "  color: var(--sklearn-color-icon);\n",
              "}\n",
              "\n",
              "#sk-container-id-2 label.sk-toggleable__label-arrow:hover:before {\n",
              "  color: var(--sklearn-color-text);\n",
              "}\n",
              "\n",
              "/* Toggleable content - dropdown */\n",
              "\n",
              "#sk-container-id-2 div.sk-toggleable__content {\n",
              "  max-height: 0;\n",
              "  max-width: 0;\n",
              "  overflow: hidden;\n",
              "  text-align: left;\n",
              "  /* unfitted */\n",
              "  background-color: var(--sklearn-color-unfitted-level-0);\n",
              "}\n",
              "\n",
              "#sk-container-id-2 div.sk-toggleable__content.fitted {\n",
              "  /* fitted */\n",
              "  background-color: var(--sklearn-color-fitted-level-0);\n",
              "}\n",
              "\n",
              "#sk-container-id-2 div.sk-toggleable__content pre {\n",
              "  margin: 0.2em;\n",
              "  border-radius: 0.25em;\n",
              "  color: var(--sklearn-color-text);\n",
              "  /* unfitted */\n",
              "  background-color: var(--sklearn-color-unfitted-level-0);\n",
              "}\n",
              "\n",
              "#sk-container-id-2 div.sk-toggleable__content.fitted pre {\n",
              "  /* unfitted */\n",
              "  background-color: var(--sklearn-color-fitted-level-0);\n",
              "}\n",
              "\n",
              "#sk-container-id-2 input.sk-toggleable__control:checked~div.sk-toggleable__content {\n",
              "  /* Expand drop-down */\n",
              "  max-height: 200px;\n",
              "  max-width: 100%;\n",
              "  overflow: auto;\n",
              "}\n",
              "\n",
              "#sk-container-id-2 input.sk-toggleable__control:checked~label.sk-toggleable__label-arrow:before {\n",
              "  content: \"▾\";\n",
              "}\n",
              "\n",
              "/* Pipeline/ColumnTransformer-specific style */\n",
              "\n",
              "#sk-container-id-2 div.sk-label input.sk-toggleable__control:checked~label.sk-toggleable__label {\n",
              "  color: var(--sklearn-color-text);\n",
              "  background-color: var(--sklearn-color-unfitted-level-2);\n",
              "}\n",
              "\n",
              "#sk-container-id-2 div.sk-label.fitted input.sk-toggleable__control:checked~label.sk-toggleable__label {\n",
              "  background-color: var(--sklearn-color-fitted-level-2);\n",
              "}\n",
              "\n",
              "/* Estimator-specific style */\n",
              "\n",
              "/* Colorize estimator box */\n",
              "#sk-container-id-2 div.sk-estimator input.sk-toggleable__control:checked~label.sk-toggleable__label {\n",
              "  /* unfitted */\n",
              "  background-color: var(--sklearn-color-unfitted-level-2);\n",
              "}\n",
              "\n",
              "#sk-container-id-2 div.sk-estimator.fitted input.sk-toggleable__control:checked~label.sk-toggleable__label {\n",
              "  /* fitted */\n",
              "  background-color: var(--sklearn-color-fitted-level-2);\n",
              "}\n",
              "\n",
              "#sk-container-id-2 div.sk-label label.sk-toggleable__label,\n",
              "#sk-container-id-2 div.sk-label label {\n",
              "  /* The background is the default theme color */\n",
              "  color: var(--sklearn-color-text-on-default-background);\n",
              "}\n",
              "\n",
              "/* On hover, darken the color of the background */\n",
              "#sk-container-id-2 div.sk-label:hover label.sk-toggleable__label {\n",
              "  color: var(--sklearn-color-text);\n",
              "  background-color: var(--sklearn-color-unfitted-level-2);\n",
              "}\n",
              "\n",
              "/* Label box, darken color on hover, fitted */\n",
              "#sk-container-id-2 div.sk-label.fitted:hover label.sk-toggleable__label.fitted {\n",
              "  color: var(--sklearn-color-text);\n",
              "  background-color: var(--sklearn-color-fitted-level-2);\n",
              "}\n",
              "\n",
              "/* Estimator label */\n",
              "\n",
              "#sk-container-id-2 div.sk-label label {\n",
              "  font-family: monospace;\n",
              "  font-weight: bold;\n",
              "  display: inline-block;\n",
              "  line-height: 1.2em;\n",
              "}\n",
              "\n",
              "#sk-container-id-2 div.sk-label-container {\n",
              "  text-align: center;\n",
              "}\n",
              "\n",
              "/* Estimator-specific */\n",
              "#sk-container-id-2 div.sk-estimator {\n",
              "  font-family: monospace;\n",
              "  border: 1px dotted var(--sklearn-color-border-box);\n",
              "  border-radius: 0.25em;\n",
              "  box-sizing: border-box;\n",
              "  margin-bottom: 0.5em;\n",
              "  /* unfitted */\n",
              "  background-color: var(--sklearn-color-unfitted-level-0);\n",
              "}\n",
              "\n",
              "#sk-container-id-2 div.sk-estimator.fitted {\n",
              "  /* fitted */\n",
              "  background-color: var(--sklearn-color-fitted-level-0);\n",
              "}\n",
              "\n",
              "/* on hover */\n",
              "#sk-container-id-2 div.sk-estimator:hover {\n",
              "  /* unfitted */\n",
              "  background-color: var(--sklearn-color-unfitted-level-2);\n",
              "}\n",
              "\n",
              "#sk-container-id-2 div.sk-estimator.fitted:hover {\n",
              "  /* fitted */\n",
              "  background-color: var(--sklearn-color-fitted-level-2);\n",
              "}\n",
              "\n",
              "/* Specification for estimator info (e.g. \"i\" and \"?\") */\n",
              "\n",
              "/* Common style for \"i\" and \"?\" */\n",
              "\n",
              ".sk-estimator-doc-link,\n",
              "a:link.sk-estimator-doc-link,\n",
              "a:visited.sk-estimator-doc-link {\n",
              "  float: right;\n",
              "  font-size: smaller;\n",
              "  line-height: 1em;\n",
              "  font-family: monospace;\n",
              "  background-color: var(--sklearn-color-background);\n",
              "  border-radius: 1em;\n",
              "  height: 1em;\n",
              "  width: 1em;\n",
              "  text-decoration: none !important;\n",
              "  margin-left: 0.5em;\n",
              "  text-align: center;\n",
              "  /* unfitted */\n",
              "  border: var(--sklearn-color-unfitted-level-1) 1pt solid;\n",
              "  color: var(--sklearn-color-unfitted-level-1);\n",
              "}\n",
              "\n",
              ".sk-estimator-doc-link.fitted,\n",
              "a:link.sk-estimator-doc-link.fitted,\n",
              "a:visited.sk-estimator-doc-link.fitted {\n",
              "  /* fitted */\n",
              "  border: var(--sklearn-color-fitted-level-1) 1pt solid;\n",
              "  color: var(--sklearn-color-fitted-level-1);\n",
              "}\n",
              "\n",
              "/* On hover */\n",
              "div.sk-estimator:hover .sk-estimator-doc-link:hover,\n",
              ".sk-estimator-doc-link:hover,\n",
              "div.sk-label-container:hover .sk-estimator-doc-link:hover,\n",
              ".sk-estimator-doc-link:hover {\n",
              "  /* unfitted */\n",
              "  background-color: var(--sklearn-color-unfitted-level-3);\n",
              "  color: var(--sklearn-color-background);\n",
              "  text-decoration: none;\n",
              "}\n",
              "\n",
              "div.sk-estimator.fitted:hover .sk-estimator-doc-link.fitted:hover,\n",
              ".sk-estimator-doc-link.fitted:hover,\n",
              "div.sk-label-container:hover .sk-estimator-doc-link.fitted:hover,\n",
              ".sk-estimator-doc-link.fitted:hover {\n",
              "  /* fitted */\n",
              "  background-color: var(--sklearn-color-fitted-level-3);\n",
              "  color: var(--sklearn-color-background);\n",
              "  text-decoration: none;\n",
              "}\n",
              "\n",
              "/* Span, style for the box shown on hovering the info icon */\n",
              ".sk-estimator-doc-link span {\n",
              "  display: none;\n",
              "  z-index: 9999;\n",
              "  position: relative;\n",
              "  font-weight: normal;\n",
              "  right: .2ex;\n",
              "  padding: .5ex;\n",
              "  margin: .5ex;\n",
              "  width: min-content;\n",
              "  min-width: 20ex;\n",
              "  max-width: 50ex;\n",
              "  color: var(--sklearn-color-text);\n",
              "  box-shadow: 2pt 2pt 4pt #999;\n",
              "  /* unfitted */\n",
              "  background: var(--sklearn-color-unfitted-level-0);\n",
              "  border: .5pt solid var(--sklearn-color-unfitted-level-3);\n",
              "}\n",
              "\n",
              ".sk-estimator-doc-link.fitted span {\n",
              "  /* fitted */\n",
              "  background: var(--sklearn-color-fitted-level-0);\n",
              "  border: var(--sklearn-color-fitted-level-3);\n",
              "}\n",
              "\n",
              ".sk-estimator-doc-link:hover span {\n",
              "  display: block;\n",
              "}\n",
              "\n",
              "/* \"?\"-specific style due to the `<a>` HTML tag */\n",
              "\n",
              "#sk-container-id-2 a.estimator_doc_link {\n",
              "  float: right;\n",
              "  font-size: 1rem;\n",
              "  line-height: 1em;\n",
              "  font-family: monospace;\n",
              "  background-color: var(--sklearn-color-background);\n",
              "  border-radius: 1rem;\n",
              "  height: 1rem;\n",
              "  width: 1rem;\n",
              "  text-decoration: none;\n",
              "  /* unfitted */\n",
              "  color: var(--sklearn-color-unfitted-level-1);\n",
              "  border: var(--sklearn-color-unfitted-level-1) 1pt solid;\n",
              "}\n",
              "\n",
              "#sk-container-id-2 a.estimator_doc_link.fitted {\n",
              "  /* fitted */\n",
              "  border: var(--sklearn-color-fitted-level-1) 1pt solid;\n",
              "  color: var(--sklearn-color-fitted-level-1);\n",
              "}\n",
              "\n",
              "/* On hover */\n",
              "#sk-container-id-2 a.estimator_doc_link:hover {\n",
              "  /* unfitted */\n",
              "  background-color: var(--sklearn-color-unfitted-level-3);\n",
              "  color: var(--sklearn-color-background);\n",
              "  text-decoration: none;\n",
              "}\n",
              "\n",
              "#sk-container-id-2 a.estimator_doc_link.fitted:hover {\n",
              "  /* fitted */\n",
              "  background-color: var(--sklearn-color-fitted-level-3);\n",
              "}\n",
              "</style><div id=\"sk-container-id-2\" class=\"sk-top-container\"><div class=\"sk-text-repr-fallback\"><pre>SVC(class_weight=&#x27;balanced&#x27;, kernel=&#x27;linear&#x27;)</pre><b>In a Jupyter environment, please rerun this cell to show the HTML representation or trust the notebook. <br />On GitHub, the HTML representation is unable to render, please try loading this page with nbviewer.org.</b></div><div class=\"sk-container\" hidden><div class=\"sk-item\"><div class=\"sk-estimator fitted sk-toggleable\"><input class=\"sk-toggleable__control sk-hidden--visually\" id=\"sk-estimator-id-2\" type=\"checkbox\" checked><label for=\"sk-estimator-id-2\" class=\"sk-toggleable__label fitted sk-toggleable__label-arrow\"><div><div>SVC</div></div><div><a class=\"sk-estimator-doc-link fitted\" rel=\"noreferrer\" target=\"_blank\" href=\"https://scikit-learn.org/1.6/modules/generated/sklearn.svm.SVC.html\">?<span>Documentation for SVC</span></a><span class=\"sk-estimator-doc-link fitted\">i<span>Fitted</span></span></div></label><div class=\"sk-toggleable__content fitted\"><pre>SVC(class_weight=&#x27;balanced&#x27;, kernel=&#x27;linear&#x27;)</pre></div> </div></div></div></div>"
            ]
          },
          "metadata": {},
          "execution_count": 112
        }
      ]
    },
    {
      "cell_type": "code",
      "source": [
        "# Prediksi\n",
        "prediksi_latih_ngram = linear_svm_ngram.predict(texts_ngram_train)\n",
        "prediksi_uji_ngram = linear_svm_ngram.predict(texts_ngram_test)"
      ],
      "metadata": {
        "id": "blexVeQevXDp"
      },
      "execution_count": 113,
      "outputs": []
    },
    {
      "cell_type": "markdown",
      "metadata": {
        "id": "L-sfAYmpdjjW"
      },
      "source": [
        "### **Evaluasi Model SVM dengan N-Gram**"
      ]
    },
    {
      "cell_type": "code",
      "source": [
        "# Confusion Matrix\n",
        "cm_latih_ngram = confusion_matrix(label_train_ngram, prediksi_latih_ngram)\n",
        "cm_uji_ngram = confusion_matrix(label_test_ngram, prediksi_uji_ngram)\n",
        "\n",
        "# Cetak Laporan Klasifikasi\n",
        "print(\"=== Evaluasi Model SVM Linear dengan N-Gram ===\")\n",
        "\n",
        "print(\"\\nClassification Report (Data Latih):\")\n",
        "print(classification_report(label_train_ngram, prediksi_latih_ngram))\n",
        "\n",
        "print(\"\\nClassification Report (Data Uji):\")\n",
        "print(classification_report(label_test_ngram, prediksi_uji_ngram))\n",
        "\n",
        "# Visualisasi Confusion Matrix\n",
        "plt.figure(figsize=(16, 6))\n",
        "\n",
        "# Confusion Matrix Data Latih\n",
        "plt.subplot(1, 2, 1)\n",
        "sns.heatmap(cm_latih_ngram, annot=True, fmt=\"d\", cmap=\"Blues\",\n",
        "            square=True, cbar=False)\n",
        "plt.title(\"Confusion Matrix N-Gram SVM\\n(Data Latih)\")\n",
        "plt.xlabel(\"Label Prediksi\")\n",
        "plt.ylabel(\"Label Sebenarnya\")\n",
        "\n",
        "# Confusion Matrix Data Uji\n",
        "plt.subplot(1, 2, 2)\n",
        "sns.heatmap(cm_uji_ngram, annot=True, fmt=\"d\", cmap=\"Blues\",\n",
        "            square=True, cbar=False)\n",
        "plt.title(\"Confusion Matrix N-Gram SVM\\n(Data Uji)\")\n",
        "plt.xlabel(\"Label Prediksi\")\n",
        "plt.ylabel(\"Label Sebenarnya\")\n",
        "\n",
        "plt.tight_layout()\n",
        "plt.show()"
      ],
      "metadata": {
        "colab": {
          "base_uri": "https://localhost:8080/",
          "height": 0
        },
        "id": "pieVXR9jva_p",
        "outputId": "19c56546-d743-4926-d97a-a384281915d4"
      },
      "execution_count": 114,
      "outputs": [
        {
          "output_type": "stream",
          "name": "stdout",
          "text": [
            "=== Evaluasi Model SVM Linear dengan N-Gram ===\n",
            "\n",
            "Classification Report (Data Latih):\n",
            "              precision    recall  f1-score   support\n",
            "\n",
            "     negatif       0.87      0.95      0.91      1617\n",
            "      netral       0.91      0.95      0.93      4488\n",
            "     positif       0.99      0.96      0.98      9891\n",
            "\n",
            "    accuracy                           0.96     15996\n",
            "   macro avg       0.93      0.95      0.94     15996\n",
            "weighted avg       0.96      0.96      0.96     15996\n",
            "\n",
            "\n",
            "Classification Report (Data Uji):\n",
            "              precision    recall  f1-score   support\n",
            "\n",
            "     negatif       0.81      0.87      0.84       404\n",
            "      netral       0.87      0.91      0.89      1122\n",
            "     positif       0.98      0.95      0.97      2474\n",
            "\n",
            "    accuracy                           0.93      4000\n",
            "   macro avg       0.89      0.91      0.90      4000\n",
            "weighted avg       0.94      0.93      0.93      4000\n",
            "\n"
          ]
        },
        {
          "output_type": "display_data",
          "data": {
            "text/plain": [
              "<Figure size 1600x600 with 2 Axes>"
            ],
            "image/png": "[encoded data removed]"
          },
          "metadata": {}
        }
      ]
    },
    {
      "cell_type": "markdown",
      "source": [
        "## **Menyimpan Model**"
      ],
      "metadata": {
        "id": "D4PcuPvM4syL"
      }
    },
    {
      "cell_type": "code",
      "source": [
        "# Simpan Model TF-IDF\n",
        "with open('tfidf_vectorizer.pkl', 'wb') as f:\n",
        "    pickle.dump(tfidf, f)\n",
        "\n",
        "# Simpan Model SVM x TF-IDF (80/20)\n",
        "with open('svm_tfidf_8020_model.pkl', 'wb') as f:\n",
        "    pickle.dump(svm_model, f)\n",
        "\n",
        "# Simpan Model SVM x TF-IDF (60/40)\n",
        "with open(\"svm_tfidf_6040_model.pkl\", \"wb\") as f:\n",
        "    pickle.dump(svm_model2, f)\n",
        "\n",
        "# Simpan Model RF x TF-IDF (70/30)\n",
        "with open(\"rf_tfidf_7030_model.pkl\", \"wb\") as f:\n",
        "    pickle.dump(rf_model, f)\n",
        "\n",
        "# Simpan Model RF x TF-IDF (80/20)\n",
        "with open(\"rf_tfidf_8020_model.pkl\", \"wb\") as f:\n",
        "    pickle.dump(rf_model2, f)\n",
        "\n",
        "# Simpan Model LSTM x TF-IDF (80/20)\n",
        "model_lstm.save(\"lstm_tfidf_702010_model.h5\")\n",
        "\n",
        "# Simpan Model Bag of Words\n",
        "with open('bow_vectorizer.pkl', 'wb') as f:\n",
        "    pickle.dump(BOWVectorizer, f)\n",
        "\n",
        "# Simpan Model N-Gram\n",
        "with open(\"ngram_model.pkl\", \"wb\") as f:\n",
        "    pickle.dump(NGramVectorizer, f)\n",
        "\n",
        "# Simpan Model SVM x BoW (80/20)\n",
        "with open(\"svm_bow_8020_model.pkl\", \"wb\") as f:\n",
        "    pickle.dump(linear_svm_bow, f)\n",
        "\n",
        "# Simpan Model SVM x N-Gram (80/20)\n",
        "with open(\"svm_ngram_8020_model.pkl\", \"wb\") as f:\n",
        "    pickle.dump(linear_svm_ngram, f)"
      ],
      "metadata": {
        "colab": {
          "base_uri": "https://localhost:8080/"
        },
        "id": "_YumDhvC4xM7",
        "outputId": "23d384eb-a212-405b-a4a5-feb341352714"
      },
      "execution_count": 130,
      "outputs": [
        {
          "output_type": "stream",
          "name": "stderr",
          "text": [
            "WARNING:absl:You are saving your model as an HDF5 file via `model.save()` or `keras.saving.save_model(model)`. This file format is considered legacy. We recommend using instead the native Keras format, e.g. `model.save('my_model.keras')` or `keras.saving.save_model(model, 'my_model.keras')`. \n"
          ]
        }
      ]
    },
    {
      "cell_type": "markdown",
      "source": [
        "## Requirements"
      ],
      "metadata": {
        "id": "tttWMsJ_9e-S"
      }
    },
    {
      "cell_type": "code",
      "source": [
        "pip freeze > requirements.txt"
      ],
      "metadata": {
        "id": "wFki77jt9j1A"
      },
      "execution_count": 131,
      "outputs": []
    }
  ],
  "metadata": {
    "colab": {
      "provenance": []
    },
    "kernelspec": {
      "display_name": "Python 3",
      "name": "python3"
    },
    "language_info": {
      "name": "python"
    }
  },
  "nbformat": 4,
  "nbformat_minor": 0
}